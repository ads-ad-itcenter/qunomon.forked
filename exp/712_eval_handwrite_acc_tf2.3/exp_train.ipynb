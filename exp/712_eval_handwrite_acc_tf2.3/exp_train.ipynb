{
 "cells": [
  {
   "cell_type": "code",
   "execution_count": 1,
   "metadata": {},
   "outputs": [
    {
     "name": "stdout",
     "output_type": "stream",
     "text": [
      "2.3.0\n"
     ]
    }
   ],
   "source": [
    "# TensorFlow と tf.keras のインポート\n",
    "import tensorflow as tf\n",
    "from tensorflow import keras\n",
    "\n",
    "# ヘルパーライブラリのインポート\n",
    "import numpy as np\n",
    "import matplotlib.pyplot as plt\n",
    "\n",
    "print(tf.__version__)"
   ]
  },
  {
   "cell_type": "code",
   "execution_count": 2,
   "metadata": {},
   "outputs": [
    {
     "name": "stdout",
     "output_type": "stream",
     "text": [
      "Downloading data from https://storage.googleapis.com/tensorflow/tf-keras-datasets/mnist.npz\n",
      "11493376/11490434 [==============================] - 1s 0us/step\n"
     ]
    }
   ],
   "source": [
    "(x_train, y_train), (x_test, y_test) = tf.keras.datasets.mnist.load_data()"
   ]
  },
  {
   "cell_type": "code",
   "execution_count": 3,
   "metadata": {},
   "outputs": [
    {
     "name": "stdout",
     "output_type": "stream",
     "text": [
      "<class 'numpy.ndarray'>\n",
      "(60000, 28, 28)\n",
      "uint8\n",
      "0 - 255\n"
     ]
    }
   ],
   "source": [
    "print(type(x_train))\n",
    "# <class 'numpy.ndarray'>\n",
    "\n",
    "print(x_train.shape)\n",
    "# (60000, 28, 28)\n",
    "\n",
    "print(x_train.dtype)\n",
    "# uint8\n",
    "\n",
    "print(x_train.min(), '-', x_train.max())\n",
    "# 0 - 255"
   ]
  },
  {
   "cell_type": "code",
   "execution_count": 4,
   "metadata": {},
   "outputs": [
    {
     "name": "stdout",
     "output_type": "stream",
     "text": [
      "float64\n",
      "0.0 - 1.0\n"
     ]
    }
   ],
   "source": [
    "# 前処理として、画像を最大値255で割って0.0 - 1.0に規格化する。\n",
    "\n",
    "x_train = x_train / 255\n",
    "x_test = x_test / 255\n",
    "\n",
    "print(x_train.dtype)\n",
    "# float64\n",
    "\n",
    "print(x_train.min(), '-', x_train.max())\n",
    "# 0.0 - 1.0"
   ]
  },
  {
   "cell_type": "code",
   "execution_count": 5,
   "metadata": {},
   "outputs": [
    {
     "name": "stdout",
     "output_type": "stream",
     "text": [
      "Model: \"my_model\"\n",
      "_________________________________________________________________\n",
      "Layer (type)                 Output Shape              Param #   \n",
      "=================================================================\n",
      "flatten_layer (Flatten)      (None, 784)               0         \n",
      "_________________________________________________________________\n",
      "dense (Dense)                (None, 128)               100480    \n",
      "_________________________________________________________________\n",
      "dropout (Dropout)            (None, 128)               0         \n",
      "_________________________________________________________________\n",
      "dense_1 (Dense)              (None, 10)                1290      \n",
      "=================================================================\n",
      "Total params: 101,770\n",
      "Trainable params: 101,770\n",
      "Non-trainable params: 0\n",
      "_________________________________________________________________\n",
      "Model: \"my_model_1\"\n",
      "_________________________________________________________________\n",
      "Layer (type)                 Output Shape              Param #   \n",
      "=================================================================\n",
      "flatten_layer_1 (Flatten)    (None, 784)               0         \n",
      "_________________________________________________________________\n",
      "dense_2 (Dense)              (None, 128)               100480    \n",
      "_________________________________________________________________\n",
      "dropout_1 (Dropout)          (None, 128)               0         \n",
      "_________________________________________________________________\n",
      "dense_3 (Dense)              (None, 10)                1290      \n",
      "=================================================================\n",
      "Total params: 101,770\n",
      "Trainable params: 101,770\n",
      "Non-trainable params: 0\n",
      "_________________________________________________________________\n"
     ]
    }
   ],
   "source": [
    "model = tf.keras.Sequential([\n",
    "    tf.keras.layers.Flatten(input_shape=(28, 28), name='flatten_layer'),\n",
    "    tf.keras.layers.Dense(128, activation='relu'),\n",
    "    tf.keras.layers.Dropout(0.2),\n",
    "    tf.keras.layers.Dense(10, activation='softmax')\n",
    "], name='my_model')\n",
    "\n",
    "model.summary()\n",
    "# Model: \"my_model\"\n",
    "# _________________________________________________________________\n",
    "# Layer (type)                 Output Shape              Param #   \n",
    "# =================================================================\n",
    "# flatten_layer (Flatten)      (None, 784)               0         \n",
    "# _________________________________________________________________\n",
    "# dense (Dense)                (None, 128)               100480    \n",
    "# _________________________________________________________________\n",
    "# dropout (Dropout)            (None, 128)               0         \n",
    "# _________________________________________________________________\n",
    "# dense_1 (Dense)              (None, 10)                1290      \n",
    "# =================================================================\n",
    "# Total params: 101,770\n",
    "# Trainable params: 101,770\n",
    "# Non-trainable params: 0\n",
    "# _________________________________________________________________\n",
    "\n",
    "model_1 = tf.keras.Sequential(name='my_model_1')\n",
    "model_1.add(tf.keras.layers.Flatten(input_shape=(28, 28), name='flatten_layer_1'))\n",
    "model_1.add(tf.keras.layers.Dense(128, activation='relu'))\n",
    "model_1.add(tf.keras.layers.Dropout(0.2))\n",
    "model_1.add(tf.keras.layers.Dense(10, activation='softmax'))\n",
    "\n",
    "model_1.summary()\n",
    "# Model: \"my_model_1\"\n",
    "# _________________________________________________________________\n",
    "# Layer (type)                 Output Shape              Param #   \n",
    "# =================================================================\n",
    "# flatten_layer_1 (Flatten)    (None, 784)               0         \n",
    "# _________________________________________________________________\n",
    "# dense_2 (Dense)              (None, 128)               100480    \n",
    "# _________________________________________________________________\n",
    "# dropout_1 (Dropout)          (None, 128)               0         \n",
    "# _________________________________________________________________\n",
    "# dense_3 (Dense)              (None, 10)                1290      \n",
    "# =================================================================\n",
    "# Total params: 101,770\n",
    "# Trainable params: 101,770\n",
    "# Non-trainable params: 0\n",
    "# _________________________________________________________________"
   ]
  },
  {
   "cell_type": "code",
   "execution_count": 6,
   "metadata": {},
   "outputs": [],
   "source": [
    "model.compile(optimizer='adam',\n",
    "              loss='sparse_categorical_crossentropy',\n",
    "              metrics=['accuracy'])\n",
    "\n",
    "model_1.compile(optimizer=tf.keras.optimizers.Adam(),\n",
    "                loss=tf.keras.losses.sparse_categorical_crossentropy,\n",
    "                metrics=[tf.keras.metrics.sparse_categorical_accuracy])"
   ]
  },
  {
   "cell_type": "code",
   "execution_count": 7,
   "metadata": {},
   "outputs": [
    {
     "name": "stdout",
     "output_type": "stream",
     "text": [
      "Epoch 1/20\n",
      "329/329 [==============================] - 1s 2ms/step - loss: 0.4703 - accuracy: 0.8680 - val_loss: 0.2394 - val_accuracy: 0.9334\n",
      "Epoch 2/20\n",
      "329/329 [==============================] - 1s 2ms/step - loss: 0.2264 - accuracy: 0.9353 - val_loss: 0.1802 - val_accuracy: 0.9487\n",
      "Epoch 3/20\n",
      "329/329 [==============================] - 1s 2ms/step - loss: 0.1737 - accuracy: 0.9493 - val_loss: 0.1507 - val_accuracy: 0.9562\n",
      "Epoch 4/20\n",
      "329/329 [==============================] - 1s 2ms/step - loss: 0.1417 - accuracy: 0.9596 - val_loss: 0.1356 - val_accuracy: 0.9606\n",
      "Epoch 5/20\n",
      "329/329 [==============================] - 1s 2ms/step - loss: 0.1213 - accuracy: 0.9643 - val_loss: 0.1194 - val_accuracy: 0.9646\n",
      "Epoch 6/20\n",
      "329/329 [==============================] - 1s 2ms/step - loss: 0.1048 - accuracy: 0.9702 - val_loss: 0.1128 - val_accuracy: 0.9662\n",
      "Epoch 7/20\n",
      "329/329 [==============================] - 1s 2ms/step - loss: 0.0912 - accuracy: 0.9734 - val_loss: 0.1085 - val_accuracy: 0.9680\n",
      "Epoch 8/20\n",
      "329/329 [==============================] - 1s 2ms/step - loss: 0.0827 - accuracy: 0.9752 - val_loss: 0.1000 - val_accuracy: 0.9707\n",
      "Epoch 9/20\n",
      "329/329 [==============================] - 1s 2ms/step - loss: 0.0731 - accuracy: 0.9781 - val_loss: 0.1043 - val_accuracy: 0.9689\n",
      "Epoch 10/20\n",
      "329/329 [==============================] - 1s 2ms/step - loss: 0.0667 - accuracy: 0.9801 - val_loss: 0.0981 - val_accuracy: 0.9716\n",
      "Epoch 11/20\n",
      "329/329 [==============================] - 1s 2ms/step - loss: 0.0596 - accuracy: 0.9822 - val_loss: 0.0943 - val_accuracy: 0.9723\n",
      "Epoch 12/20\n",
      "329/329 [==============================] - 1s 2ms/step - loss: 0.0564 - accuracy: 0.9827 - val_loss: 0.0927 - val_accuracy: 0.9724\n",
      "Epoch 13/20\n",
      "329/329 [==============================] - 1s 2ms/step - loss: 0.0529 - accuracy: 0.9841 - val_loss: 0.0915 - val_accuracy: 0.9728\n",
      "Epoch 14/20\n",
      "329/329 [==============================] - 1s 2ms/step - loss: 0.0476 - accuracy: 0.9852 - val_loss: 0.0928 - val_accuracy: 0.9731\n",
      "Epoch 15/20\n",
      "329/329 [==============================] - 1s 2ms/step - loss: 0.0437 - accuracy: 0.9866 - val_loss: 0.0953 - val_accuracy: 0.9720\n"
     ]
    }
   ],
   "source": [
    "callbacks = [tf.keras.callbacks.EarlyStopping(patience=2, restore_best_weights=True),\n",
    "             tf.keras.callbacks.ModelCheckpoint(\n",
    "                 '../data/temp/mnist_sequential_{epoch:03d}_{val_loss:.4f}.h5',\n",
    "                 save_best_only=True\n",
    "             )]\n",
    "\n",
    "history = model.fit(x_train, y_train, batch_size=128, epochs=20,\n",
    "                    validation_split=0.3, callbacks=callbacks)\n",
    "model.save('./model_1.h5')"
   ]
  },
  {
   "cell_type": "code",
   "execution_count": 8,
   "metadata": {},
   "outputs": [
    {
     "name": "stdout",
     "output_type": "stream",
     "text": [
      "Epoch 1/64\n",
      "844/844 [==============================] - 1s 1ms/step - loss: 0.0786 - accuracy: 0.9757 - val_loss: 0.0751 - val_accuracy: 0.9790\n",
      "Epoch 2/64\n",
      "844/844 [==============================] - 1s 2ms/step - loss: 0.0612 - accuracy: 0.9805 - val_loss: 0.0680 - val_accuracy: 0.9808\n",
      "Epoch 3/64\n",
      "844/844 [==============================] - 1s 1ms/step - loss: 0.0539 - accuracy: 0.9825 - val_loss: 0.0655 - val_accuracy: 0.9813\n",
      "Epoch 4/64\n",
      "844/844 [==============================] - 1s 1ms/step - loss: 0.0475 - accuracy: 0.9845 - val_loss: 0.0695 - val_accuracy: 0.9817\n",
      "Epoch 5/64\n",
      "844/844 [==============================] - 1s 1ms/step - loss: 0.0452 - accuracy: 0.9857 - val_loss: 0.0682 - val_accuracy: 0.9822\n"
     ]
    }
   ],
   "source": [
    "history = model.fit(x_train, y_train, batch_size=128, epochs=40,\n",
    "                    validation_split=0.4, callbacks=callbacks)\n",
    "model.save('./model_2.h5')"
   ]
  },
  {
   "cell_type": "code",
   "execution_count": 9,
   "metadata": {},
   "outputs": [
    {
     "name": "stdout",
     "output_type": "stream",
     "text": [
      "Epoch 1/128\n",
      "1688/1688 [==============================] - 2s 1ms/step - loss: 0.0625 - accuracy: 0.9795 - val_loss: 0.0697 - val_accuracy: 0.9813\n",
      "Epoch 2/128\n",
      "1688/1688 [==============================] - 2s 1ms/step - loss: 0.0540 - accuracy: 0.9825 - val_loss: 0.0748 - val_accuracy: 0.9807\n",
      "Epoch 3/128\n",
      "1688/1688 [==============================] - 2s 1ms/step - loss: 0.0465 - accuracy: 0.9843 - val_loss: 0.0681 - val_accuracy: 0.9817\n",
      "Epoch 4/128\n",
      "1688/1688 [==============================] - 2s 1ms/step - loss: 0.0447 - accuracy: 0.9856 - val_loss: 0.0774 - val_accuracy: 0.9802\n",
      "Epoch 5/128\n",
      "1688/1688 [==============================] - 2s 1ms/step - loss: 0.0406 - accuracy: 0.9868 - val_loss: 0.0682 - val_accuracy: 0.9830\n"
     ]
    }
   ],
   "source": [
    "history = model.fit(x_train, y_train, batch_size=128, epochs=60,\n",
    "                    validation_split=0.5, callbacks=callbacks)\n",
    "model.save('./model_3.h5')"
   ]
  }
 ],
 "metadata": {
  "kernelspec": {
   "display_name": "Python 3",
   "language": "python",
   "name": "python3"
  },
  "language_info": {
   "codemirror_mode": {
    "name": "ipython",
    "version": 3
   },
   "file_extension": ".py",
   "mimetype": "text/x-python",
   "name": "python",
   "nbconvert_exporter": "python",
   "pygments_lexer": "ipython3",
   "version": "3.6.9"
  }
 },
 "nbformat": 4,
 "nbformat_minor": 2
}
