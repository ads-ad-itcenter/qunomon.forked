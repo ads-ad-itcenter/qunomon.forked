{
 "cells": [
  {
   "cell_type": "markdown",
   "metadata": {},
   "source": [
    "# test note\n",
    "\n",
    "\n",
    "* jupyterはコンテナ起動すること\n",
    "* テストベッド一式起動済みであること\n"
   ]
  },
  {
   "cell_type": "code",
   "execution_count": 1,
   "metadata": {},
   "outputs": [
    {
     "name": "stdout",
     "output_type": "stream",
     "text": [
      "Requirement already up-to-date: pip in /usr/local/lib/python3.6/dist-packages (20.2.3)\n",
      "Processing /workdir/root/lib/ait_sdk-0.1.3-py3-none-any.whl\n",
      "Installing collected packages: ait-sdk\n",
      "  Attempting uninstall: ait-sdk\n",
      "    Found existing installation: ait-sdk 0.1.3\n",
      "    Uninstalling ait-sdk-0.1.3:\n",
      "      Successfully uninstalled ait-sdk-0.1.3\n",
      "Successfully installed ait-sdk-0.1.3\n"
     ]
    }
   ],
   "source": [
    "!pip install --upgrade pip\n",
    "!pip install --upgrade --no-deps --force-reinstall ../lib/ait_sdk-0.1.3-py3-none-any.whl"
   ]
  },
  {
   "cell_type": "code",
   "execution_count": 2,
   "metadata": {},
   "outputs": [],
   "source": [
    "from pathlib import Path\n",
    "import pprint\n",
    "from ait_sdk.test.hepler import Helper"
   ]
  },
  {
   "cell_type": "code",
   "execution_count": 3,
   "metadata": {},
   "outputs": [],
   "source": [
    "# settings cell\n",
    "\n",
    "# mounted dir\n",
    "root_dir = Path('/workdir/root/ait')\n",
    "\n",
    "ait_name='dev_template'\n",
    "ait_version='0.1'\n",
    "\n",
    "ait_full_name=f'{ait_name}_{ait_version}'\n",
    "ait_dir = root_dir / ait_full_name\n",
    "\n",
    "td_name=f'{ait_name}_test'\n",
    "\n",
    "# (dockerホスト側の)インベントリ登録用アセット格納ルートフォルダ\n",
    "invenotory_root_dir=r'C:\\m-akita\\github\\qai-testbed\\exp\\788_AIT_Dev_refactor\\ait\\dev_template_0.1\\local_qai\\inventory'\n",
    "\n",
    "# entry point address\n",
    "# コンテナ起動かどうかでポート番号が変わるため、切り替える\n",
    "is_container = True\n",
    "if is_container:\n",
    "    backend_entry_point = 'http://host.docker.internal:8888/qai-testbed/api/0.0.1'\n",
    "    ip_entry_point = 'http://host.docker.internal:8888/qai-ip/api/0.0.1'\n",
    "else:\n",
    "    backend_entry_point = 'http://host.docker.internal:5000/qai-testbed/api/0.0.1'\n",
    "    ip_entry_point = 'http://host.docker.internal:6000/qai-ip/api/0.0.1'\n",
    "\n",
    "# aitのデプロイフラグ\n",
    "# 一度実施すれば、それ以降は実施しなくてＯＫ\n",
    "is_init_ait = True\n",
    "\n",
    "# インベントリの登録フラグ\n",
    "# 一度実施すれば、それ以降は実施しなくてＯＫ\n",
    "is_init_inventory = True\n"
   ]
  },
  {
   "cell_type": "code",
   "execution_count": 4,
   "metadata": {},
   "outputs": [],
   "source": [
    "helper = Helper(backend_entry_point=backend_entry_point, \n",
    "                ip_entry_point=ip_entry_point,\n",
    "                ait_dir=ait_dir,\n",
    "                ait_full_name=ait_full_name)"
   ]
  },
  {
   "cell_type": "code",
   "execution_count": 5,
   "metadata": {},
   "outputs": [
    {
     "name": "stdout",
     "output_type": "stream",
     "text": [
      "<Response [200]>\n",
      "{'Code': 0, 'Message': 'alive.'}\n",
      "<Response [200]>\n",
      "{'Code': 0, 'Message': 'alive.'}\n"
     ]
    },
    {
     "data": {
      "text/plain": [
       "<Response [200]>"
      ]
     },
     "execution_count": 5,
     "metadata": {},
     "output_type": "execute_result"
    }
   ],
   "source": [
    "# health check\n",
    "\n",
    "helper.get_bk('/health-check')\n",
    "helper.get_ip('/health-check')"
   ]
  },
  {
   "cell_type": "code",
   "execution_count": 6,
   "metadata": {
    "scrolled": true
   },
   "outputs": [
    {
     "name": "stdout",
     "output_type": "stream",
     "text": [
      "<Response [422]>\n",
      "{'Code': 'T59000',\n",
      " 'Message': 'database error: (psycopg2.errors.UndefinedColumn) column '\n",
      "            'M_TestRunner.landing_page does not exist\\n'\n",
      "            'LINE 1: ...\"M_TestRunner\".quality AS \"M_TestRunner_quality\", '\n",
      "            '\"M_TestRun...\\n'\n",
      "            '                                                             ^\\n'\n",
      "            '\\n'\n",
      "            '[SQL: SELECT \"M_TestRunner\".id AS \"M_TestRunner_id\", '\n",
      "            '\"M_TestRunner\".name AS \"M_TestRunner_name\", '\n",
      "            '\"M_TestRunner\".description AS \"M_TestRunner_description\", '\n",
      "            '\"M_TestRunner\".author AS \"M_TestRunner_author\", '\n",
      "            '\"M_TestRunner\".email AS \"M_TestRunner_email\", '\n",
      "            '\"M_TestRunner\".version AS \"M_TestRunner_version\", '\n",
      "            '\"M_TestRunner\".quality AS \"M_TestRunner_quality\", '\n",
      "            '\"M_TestRunner\".landing_page AS \"M_TestRunner_landing_page\" \\n'\n",
      "            'FROM \"M_TestRunner\" \\n'\n",
      "            'WHERE \"M_TestRunner\".name = %(name_1)s AND \"M_TestRunner\".version '\n",
      "            '= %(version_1)s \\n'\n",
      "            ' LIMIT %(param_1)s]\\n'\n",
      "            \"[parameters: {'name_1': 'dev_template', 'version_1': '0.1', \"\n",
      "            \"'param_1': 1}]\\n\"\n",
      "            '(Background on this error at: http://sqlalche.me/e/f405)'}\n",
      "<Response [200]>\n",
      "{'Code': 'D00001', 'Message': 'Deploy success'}\n"
     ]
    }
   ],
   "source": [
    "# deploy AIT\n",
    "if is_init_ait:\n",
    "    helper.deploy_ait_non_build()\n",
    "else:\n",
    "    print('skip deploy AIT')"
   ]
  },
  {
   "cell_type": "code",
   "execution_count": 7,
   "metadata": {},
   "outputs": [
    {
     "name": "stdout",
     "output_type": "stream",
     "text": [
      "<Response [200]>\n",
      "{'result': {'Code': 'I22000', 'Message': 'append Inventory success.'}}\n"
     ]
    }
   ],
   "source": [
    "# add inventories\n",
    "\n",
    "if is_init_inventory:\n",
    "    inv1_name = helper.post_inventory('iris_data', 'dataset', 'UNIX_FILE_SYSTEM', \n",
    "                                      f'{invenotory_root_dir}\\\\iris_data\\\\tableconvert_csv_4nryby.csv',\n",
    "                                      'iris data set', ['csv'])\n",
    "else:\n",
    "    print('skip add inventories')"
   ]
  },
  {
   "cell_type": "code",
   "execution_count": 8,
   "metadata": {},
   "outputs": [
    {
     "name": "stdout",
     "output_type": "stream",
     "text": [
      "<Response [200]>\n",
      "<Response [500]>\n"
     ]
    },
    {
     "ename": "KeyError",
     "evalue": "'TestRunners'",
     "output_type": "error",
     "traceback": [
      "\u001b[0;31m---------------------------------------------------------------------------\u001b[0m",
      "\u001b[0;31mKeyError\u001b[0m                                  Traceback (most recent call last)",
      "\u001b[0;32m<ipython-input-8-36104a153ede>\u001b[0m in \u001b[0;36m<module>\u001b[0;34m\u001b[0m\n\u001b[1;32m     10\u001b[0m \u001b[0;34m\u001b[0m\u001b[0m\n\u001b[1;32m     11\u001b[0m \u001b[0mres_json\u001b[0m \u001b[0;34m=\u001b[0m \u001b[0mhelper\u001b[0m\u001b[0;34m.\u001b[0m\u001b[0mget_bk\u001b[0m\u001b[0;34m(\u001b[0m\u001b[0;34m'/testRunners'\u001b[0m\u001b[0;34m,\u001b[0m \u001b[0mis_print_json\u001b[0m\u001b[0;34m=\u001b[0m\u001b[0;32mFalse\u001b[0m\u001b[0;34m)\u001b[0m\u001b[0;34m.\u001b[0m\u001b[0mjson\u001b[0m\u001b[0;34m(\u001b[0m\u001b[0;34m)\u001b[0m\u001b[0;34m\u001b[0m\u001b[0;34m\u001b[0m\u001b[0m\n\u001b[0;32m---> 12\u001b[0;31m \u001b[0mait_json\u001b[0m \u001b[0;34m=\u001b[0m \u001b[0;34m[\u001b[0m\u001b[0mj\u001b[0m \u001b[0;32mfor\u001b[0m \u001b[0mj\u001b[0m \u001b[0;32min\u001b[0m \u001b[0mres_json\u001b[0m\u001b[0;34m[\u001b[0m\u001b[0;34m'TestRunners'\u001b[0m\u001b[0;34m]\u001b[0m \u001b[0;32mif\u001b[0m \u001b[0mj\u001b[0m\u001b[0;34m[\u001b[0m\u001b[0;34m'Name'\u001b[0m\u001b[0;34m]\u001b[0m \u001b[0;34m==\u001b[0m \u001b[0mait_name\u001b[0m\u001b[0;34m]\u001b[0m\u001b[0;34m[\u001b[0m\u001b[0;34m-\u001b[0m\u001b[0;36m1\u001b[0m\u001b[0;34m]\u001b[0m\u001b[0;34m\u001b[0m\u001b[0;34m\u001b[0m\u001b[0m\n\u001b[0m\u001b[1;32m     13\u001b[0m \u001b[0;34m\u001b[0m\u001b[0m\n\u001b[1;32m     14\u001b[0m \u001b[0minv_1_json\u001b[0m \u001b[0;34m=\u001b[0m \u001b[0mhelper\u001b[0m\u001b[0;34m.\u001b[0m\u001b[0mget_inventory\u001b[0m\u001b[0;34m(\u001b[0m\u001b[0minv1_name\u001b[0m\u001b[0;34m)\u001b[0m\u001b[0;34m\u001b[0m\u001b[0;34m\u001b[0m\u001b[0m\n",
      "\u001b[0;31mKeyError\u001b[0m: 'TestRunners'"
     ]
    }
   ],
   "source": [
    "# get ait_json and inventory_jsons\n",
    "\n",
    "res_json = helper.get_bk('/QualityMeasurements/RelationalOperators', is_print_json=False).json()\n",
    "eq_id = int([r['Id'] for r in res_json['RelationalOperator'] if r['Expression'] == '=='][0])\n",
    "nq_id = int([r['Id'] for r in res_json['RelationalOperator'] if r['Expression'] == '!='][0])\n",
    "gt_id = int([r['Id'] for r in res_json['RelationalOperator'] if r['Expression'] == '>'][0])\n",
    "ge_id = int([r['Id'] for r in res_json['RelationalOperator'] if r['Expression'] == '>='][0])\n",
    "lt_id = int([r['Id'] for r in res_json['RelationalOperator'] if r['Expression'] == '<'][0])\n",
    "le_id = int([r['Id'] for r in res_json['RelationalOperator'] if r['Expression'] == '<='][0])\n",
    "\n",
    "res_json = helper.get_bk('/testRunners', is_print_json=False).json()\n",
    "ait_json = [j for j in res_json['TestRunners'] if j['Name'] == ait_name][-1]\n",
    "\n",
    "inv_1_json = helper.get_inventory(inv1_name)"
   ]
  },
  {
   "cell_type": "code",
   "execution_count": null,
   "metadata": {},
   "outputs": [],
   "source": [
    "# add teast_descriptions\n",
    "\n",
    "helper.post_td(td_name, 5,\n",
    "               quality_measurements=[\n",
    "                {\"Id\":ait_json['Report']['Measures'][0]['Id'], \"Value\":\"1\", \"RelationalOperatorId\":gt_id}\n",
    "               ],\n",
    "               target_inventories=[\n",
    "                {\"Id\":1, \"InventoryId\": inv_1_json['Id'], \"TemplateInventoryId\": ait_json['TargetInventories'][0]['Id']}\n",
    "               ],\n",
    "               test_runner={\n",
    "                \"Id\":ait_json['Id'],\n",
    "                \"Params\":[\n",
    "                    {\"TestRunnerParamTemplateId\":ait_json['ParamTemplates'][0]['Id'], \"Value\":\"sepal.length\"}\n",
    "                ]\n",
    "               })"
   ]
  },
  {
   "cell_type": "code",
   "execution_count": null,
   "metadata": {},
   "outputs": [],
   "source": [
    "# get test_description_jsons\n",
    "td_1_json = helper.get_td(td_name)"
   ]
  },
  {
   "cell_type": "code",
   "execution_count": null,
   "metadata": {
    "scrolled": true
   },
   "outputs": [],
   "source": [
    "# run test_descriptions\n",
    "helper.post_run_and_wait(td_1_json['Id'])"
   ]
  },
  {
   "cell_type": "code",
   "execution_count": null,
   "metadata": {},
   "outputs": [],
   "source": [
    "res_json = helper.get_td_detail(td_1_json['Id'])\n",
    "pprint.pprint(res_json)"
   ]
  },
  {
   "cell_type": "code",
   "execution_count": null,
   "metadata": {},
   "outputs": [],
   "source": [
    "# generate report\n",
    "res = helper.post_report(td_1_json['Id'])\n",
    "pprint.pprint(res)"
   ]
  },
  {
   "cell_type": "code",
   "execution_count": null,
   "metadata": {},
   "outputs": [],
   "source": []
  }
 ],
 "metadata": {
  "kernelspec": {
   "display_name": "Python 3",
   "language": "python",
   "name": "python3"
  },
  "language_info": {
   "codemirror_mode": {
    "name": "ipython",
    "version": 3
   },
   "file_extension": ".py",
   "mimetype": "text/x-python",
   "name": "python",
   "nbconvert_exporter": "python",
   "pygments_lexer": "ipython3",
   "version": "3.6.9"
  }
 },
 "nbformat": 4,
 "nbformat_minor": 4
}
