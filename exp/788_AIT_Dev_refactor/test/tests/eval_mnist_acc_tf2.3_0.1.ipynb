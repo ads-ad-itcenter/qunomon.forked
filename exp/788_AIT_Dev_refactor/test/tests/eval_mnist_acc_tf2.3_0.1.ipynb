{
 "cells": [
  {
   "cell_type": "markdown",
   "metadata": {},
   "source": [
    "# test note\n",
    "\n",
    "\n",
    "* jupyterはコンテナ起動すること\n",
    "* テストベッド一式起動済みであること\n"
   ]
  },
  {
   "cell_type": "code",
   "execution_count": 1,
   "metadata": {},
   "outputs": [
    {
     "name": "stdout",
     "output_type": "stream",
     "text": [
      "Requirement already up-to-date: pip in /usr/local/lib/python3.6/dist-packages (20.2.3)\n",
      "Processing /workdir/root/lib/ait_sdk-0.1.3-py3-none-any.whl\n",
      "Installing collected packages: ait-sdk\n",
      "  Attempting uninstall: ait-sdk\n",
      "    Found existing installation: ait-sdk 0.1.3\n",
      "    Uninstalling ait-sdk-0.1.3:\n",
      "      Successfully uninstalled ait-sdk-0.1.3\n",
      "Successfully installed ait-sdk-0.1.3\n"
     ]
    }
   ],
   "source": [
    "!pip install --upgrade pip\n",
    "!pip install --upgrade --no-deps --force-reinstall ../lib/ait_sdk-0.1.3-py3-none-any.whl"
   ]
  },
  {
   "cell_type": "code",
   "execution_count": 2,
   "metadata": {},
   "outputs": [],
   "source": [
    "from pathlib import Path\n",
    "import pprint\n",
    "from ait_sdk.test.hepler import Helper"
   ]
  },
  {
   "cell_type": "code",
   "execution_count": 3,
   "metadata": {},
   "outputs": [],
   "source": [
    "# settings cell\n",
    "\n",
    "# mounted dir\n",
    "root_dir = Path('/workdir/root/ait')\n",
    "\n",
    "ait_name='eval_mnist_acc_tf2.3'\n",
    "ait_version='0.1'\n",
    "\n",
    "ait_full_name=f'{ait_name}_{ait_version}'\n",
    "ait_dir = root_dir / ait_full_name\n",
    "\n",
    "td_name=f'{ait_name}_test'\n",
    "\n",
    "# (dockerホスト側の)インベントリ登録用アセット格納ルートフォルダ\n",
    "invenotory_root_dir=r'C:\\m-akita\\github\\qai-testbed\\exp\\788_AIT_Dev_refactor\\ait\\eval_mnist_acc_tf2.3_0.1\\local_qai\\inventory'\n",
    "\n",
    "# entry point address\n",
    "# コンテナ起動かどうかでポート番号が変わるため、切り替える\n",
    "is_container = True\n",
    "if is_container:\n",
    "    backend_entry_point = 'http://host.docker.internal:8888/qai-testbed/api/0.0.1'\n",
    "    ip_entry_point = 'http://host.docker.internal:8888/qai-ip/api/0.0.1'\n",
    "else:\n",
    "    backend_entry_point = 'http://host.docker.internal:5000/qai-testbed/api/0.0.1'\n",
    "    ip_entry_point = 'http://host.docker.internal:6000/qai-ip/api/0.0.1'\n",
    "\n",
    "# aitのデプロイフラグ\n",
    "# 一度実施すれば、それ以降は実施しなくてＯＫ\n",
    "is_init_ait = True\n",
    "\n",
    "# インベントリの登録フラグ\n",
    "# 一度実施すれば、それ以降は実施しなくてＯＫ\n",
    "is_init_inventory = True\n"
   ]
  },
  {
   "cell_type": "code",
   "execution_count": 4,
   "metadata": {},
   "outputs": [],
   "source": [
    "helper = Helper(backend_entry_point=backend_entry_point, \n",
    "                ip_entry_point=ip_entry_point,\n",
    "                ait_dir=ait_dir,\n",
    "                ait_full_name=ait_full_name)"
   ]
  },
  {
   "cell_type": "code",
   "execution_count": 5,
   "metadata": {},
   "outputs": [
    {
     "name": "stdout",
     "output_type": "stream",
     "text": [
      "<Response [200]>\n",
      "{'Code': 0, 'Message': 'alive.'}\n",
      "<Response [200]>\n",
      "{'Code': 0, 'Message': 'alive.'}\n"
     ]
    },
    {
     "data": {
      "text/plain": [
       "<Response [200]>"
      ]
     },
     "execution_count": 5,
     "metadata": {},
     "output_type": "execute_result"
    }
   ],
   "source": [
    "# health check\n",
    "\n",
    "helper.get_bk('/health-check')\n",
    "helper.get_ip('/health-check')"
   ]
  },
  {
   "cell_type": "code",
   "execution_count": 6,
   "metadata": {
    "scrolled": true
   },
   "outputs": [
    {
     "name": "stdout",
     "output_type": "stream",
     "text": [
      "<Response [400]>\n",
      "{'Code': 'T54000', 'Message': 'not found test descriptions'}\n",
      "<Response [200]>\n",
      "{'Code': 'D00001', 'Message': 'Deploy success'}\n"
     ]
    }
   ],
   "source": [
    "# deploy AIT\n",
    "if is_init_ait:\n",
    "    helper.deploy_ait_non_build()\n",
    "else:\n",
    "    print('skip deploy AIT')"
   ]
  },
  {
   "cell_type": "code",
   "execution_count": 7,
   "metadata": {},
   "outputs": [
    {
     "name": "stdout",
     "output_type": "stream",
     "text": [
      "<Response [200]>\n",
      "{'result': {'Code': 'I22000', 'Message': 'append Inventory success.'}}\n",
      "<Response [200]>\n",
      "{'result': {'Code': 'I22000', 'Message': 'append Inventory success.'}}\n",
      "<Response [200]>\n",
      "{'result': {'Code': 'I22000', 'Message': 'append Inventory success.'}}\n"
     ]
    }
   ],
   "source": [
    "# add inventories\n",
    "\n",
    "if is_init_inventory:\n",
    "    inv1_name = helper.post_inventory('trained_model_1', 'model', 'UNIX_FILE_SYSTEM', \n",
    "                                      f'{invenotory_root_dir}\\\\trained_model\\\\model_1.h5',\n",
    "                                      'Tensorflow 2.3で学習したモデル_1', ['h5'])\n",
    "    inv2_name = helper.post_inventory('test_set_images', 'dataset', 'UNIX_FILE_SYSTEM', \n",
    "                                      f'{invenotory_root_dir}\\\\test_set_images\\\\t10k-images-idx3-ubyte.gz',\n",
    "                                      'テスト画像セット（MNISTフォーマット）', ['gz'])\n",
    "    inv3_name = helper.post_inventory('test_set_labels', 'dataset', 'UNIX_FILE_SYSTEM', \n",
    "                                      f'{invenotory_root_dir}\\\\test_set_labels\\\\t10k-labels-idx1-ubyte.gz',\n",
    "                                      'テスト画像ラベル（MNISTフォーマット）', ['gz'])\n",
    "else:\n",
    "    print('skip add inventories')"
   ]
  },
  {
   "cell_type": "code",
   "execution_count": 8,
   "metadata": {},
   "outputs": [
    {
     "name": "stdout",
     "output_type": "stream",
     "text": [
      "<Response [200]>\n",
      "<Response [200]>\n",
      "<Response [200]>\n",
      "<Response [200]>\n",
      "<Response [200]>\n"
     ]
    }
   ],
   "source": [
    "# get ait_json and inventory_jsons\n",
    "\n",
    "res_json = helper.get_bk('/QualityMeasurements/RelationalOperators', is_print_json=False).json()\n",
    "eq_id = int([r['Id'] for r in res_json['RelationalOperator'] if r['Expression'] == '=='][0])\n",
    "nq_id = int([r['Id'] for r in res_json['RelationalOperator'] if r['Expression'] == '!='][0])\n",
    "gt_id = int([r['Id'] for r in res_json['RelationalOperator'] if r['Expression'] == '>'][0])\n",
    "ge_id = int([r['Id'] for r in res_json['RelationalOperator'] if r['Expression'] == '>='][0])\n",
    "lt_id = int([r['Id'] for r in res_json['RelationalOperator'] if r['Expression'] == '<'][0])\n",
    "le_id = int([r['Id'] for r in res_json['RelationalOperator'] if r['Expression'] == '<='][0])\n",
    "\n",
    "res_json = helper.get_bk('/testRunners', is_print_json=False).json()\n",
    "ait_json = [j for j in res_json['TestRunners'] if j['Name'] == ait_name][-1]\n",
    "\n",
    "inv_1_json = helper.get_inventory(inv1_name)\n",
    "inv_2_json = helper.get_inventory(inv2_name)\n",
    "inv_3_json = helper.get_inventory(inv3_name)"
   ]
  },
  {
   "cell_type": "code",
   "execution_count": 9,
   "metadata": {},
   "outputs": [
    {
     "name": "stdout",
     "output_type": "stream",
     "text": [
      "<Response [200]>\n",
      "{'Result': {'Code': 'T22000', 'Message': 'append test description success.'}}\n"
     ]
    }
   ],
   "source": [
    "# add teast_descriptions\n",
    "\n",
    "helper.post_td(td_name, 5,\n",
    "               quality_measurements=[\n",
    "                {\"Id\":ait_json['Report']['Measures'][0]['Id'], \"Value\":\"0.95\", \"RelationalOperatorId\":gt_id},\n",
    "                {\"Id\":ait_json['Report']['Measures'][1]['Id'], \"Value\":\"0.95\", \"RelationalOperatorId\":gt_id},\n",
    "                {\"Id\":ait_json['Report']['Measures'][2]['Id'], \"Value\":\"0.95\", \"RelationalOperatorId\":gt_id},\n",
    "                {\"Id\":ait_json['Report']['Measures'][3]['Id'], \"Value\":\"0.95\", \"RelationalOperatorId\":gt_id},\n",
    "                {\"Id\":ait_json['Report']['Measures'][4]['Id'], \"Value\":\"0.95\", \"RelationalOperatorId\":gt_id},\n",
    "                {\"Id\":ait_json['Report']['Measures'][5]['Id'], \"Value\":\"0.95\", \"RelationalOperatorId\":gt_id},\n",
    "                {\"Id\":ait_json['Report']['Measures'][6]['Id'], \"Value\":\"0.95\", \"RelationalOperatorId\":gt_id},\n",
    "                {\"Id\":ait_json['Report']['Measures'][7]['Id'], \"Value\":\"0.95\", \"RelationalOperatorId\":gt_id},\n",
    "                {\"Id\":ait_json['Report']['Measures'][8]['Id'], \"Value\":\"0.95\", \"RelationalOperatorId\":gt_id}\n",
    "               ],\n",
    "               target_inventories=[\n",
    "                {\"Id\":1, \"InventoryId\": inv_1_json['Id'], \"TemplateInventoryId\": ait_json['TargetInventories'][0]['Id']},\n",
    "                {\"Id\":2, \"InventoryId\": inv_2_json['Id'], \"TemplateInventoryId\": ait_json['TargetInventories'][1]['Id']},\n",
    "                {\"Id\":2, \"InventoryId\": inv_3_json['Id'], \"TemplateInventoryId\": ait_json['TargetInventories'][2]['Id']}\n",
    "               ],\n",
    "               test_runner={\n",
    "                \"Id\":ait_json['Id'],\n",
    "                \"Params\":[\n",
    "                    {\"TestRunnerParamTemplateId\":ait_json['ParamTemplates'][0]['Id'], \"Value\":\"10\"},\n",
    "                    {\"TestRunnerParamTemplateId\":ait_json['ParamTemplates'][1]['Id'], \"Value\":\"28\"},\n",
    "                    {\"TestRunnerParamTemplateId\":ait_json['ParamTemplates'][2]['Id'], \"Value\":\"macro\"},\n",
    "                    {\"TestRunnerParamTemplateId\":ait_json['ParamTemplates'][3]['Id'], \"Value\":\"raise\"}\n",
    "                ]\n",
    "               })"
   ]
  },
  {
   "cell_type": "code",
   "execution_count": 10,
   "metadata": {},
   "outputs": [
    {
     "name": "stdout",
     "output_type": "stream",
     "text": [
      "<Response [200]>\n"
     ]
    }
   ],
   "source": [
    "# get test_description_jsons\n",
    "td_1_json = helper.get_td(td_name)"
   ]
  },
  {
   "cell_type": "code",
   "execution_count": 11,
   "metadata": {
    "scrolled": true
   },
   "outputs": [
    {
     "name": "stdout",
     "output_type": "stream",
     "text": [
      "<Response [200]>\n",
      "{'Job': {'Id': '2', 'StartDateTime': '2020-09-15 16:48:30.340578+09:00'},\n",
      " 'Result': {'Code': 'R12000', 'Message': 'job launch success.'}}\n",
      "[{'Id': 2,\n",
      "  'Result': 'OK',\n",
      "  'ResultDetail': '{\\n'\n",
      "                  '  \"Accuracy\": true,\\n'\n",
      "                  '  \"Precision\": true,\\n'\n",
      "                  '  \"Recall\": true,\\n'\n",
      "                  '  \"F−measure\": true,\\n'\n",
      "                  '  \"AccuracyByClass\": true,\\n'\n",
      "                  '  \"PrecisionByClass\": true,\\n'\n",
      "                  '  \"RecallByClass\": true,\\n'\n",
      "                  '  \"F−measureByClass\": true,\\n'\n",
      "                  '  \"AUC\": true\\n'\n",
      "                  '}',\n",
      "  'Status': 'DONE',\n",
      "  'TestDescriptionID': 3}]\n"
     ]
    }
   ],
   "source": [
    "# run test_descriptions\n",
    "helper.post_run_and_wait(td_1_json['Id'])"
   ]
  },
  {
   "cell_type": "code",
   "execution_count": 12,
   "metadata": {},
   "outputs": [
    {
     "name": "stdout",
     "output_type": "stream",
     "text": [
      "<Response [200]>\n",
      "{'Result': {'Code': 'T32000', 'Message': 'get detail success.'},\n",
      " 'TestDescriptionDetail': {'Id': 3,\n",
      "                           'Name': 'eval_handwrite_acc_tf2.3_test',\n",
      "                           'Opinion': '',\n",
      "                           'QualityDimension': {'Id': 5, 'Name': '機械学習モデルの正確性'},\n",
      "                           'QualityMeasurements': [{'Description': '(TP+TN) / '\n",
      "                                                                   '(TP+FP+FN+TN)',\n",
      "                                                    'Id': 2,\n",
      "                                                    'Name': 'Accuracy',\n",
      "                                                    'RelationalOperatorId': 3,\n",
      "                                                    'Structure': 'single',\n",
      "                                                    'Value': '0.95'},\n",
      "                                                   {'Description': 'TP / '\n",
      "                                                                   '(TP+FP)',\n",
      "                                                    'Id': 3,\n",
      "                                                    'Name': 'Precision',\n",
      "                                                    'RelationalOperatorId': 3,\n",
      "                                                    'Structure': 'single',\n",
      "                                                    'Value': '0.95'},\n",
      "                                                   {'Description': 'TP / '\n",
      "                                                                   '(TP+FN)',\n",
      "                                                    'Id': 4,\n",
      "                                                    'Name': 'Recall',\n",
      "                                                    'RelationalOperatorId': 3,\n",
      "                                                    'Structure': 'single',\n",
      "                                                    'Value': '0.95'},\n",
      "                                                   {'Description': '(2Recall∗Precision) '\n",
      "                                                                   '/ '\n",
      "                                                                   '(Recall+Precision)',\n",
      "                                                    'Id': 5,\n",
      "                                                    'Name': 'F−measure',\n",
      "                                                    'RelationalOperatorId': 3,\n",
      "                                                    'Structure': 'single',\n",
      "                                                    'Value': '0.95'},\n",
      "                                                   {'Description': 'Area under '\n",
      "                                                                   'the ROC '\n",
      "                                                                   'curve',\n",
      "                                                    'Id': 6,\n",
      "                                                    'Name': 'AUC',\n",
      "                                                    'RelationalOperatorId': 3,\n",
      "                                                    'Structure': 'single',\n",
      "                                                    'Value': '0.95'},\n",
      "                                                   {'Description': 'Accuracy '\n",
      "                                                                   'for each '\n",
      "                                                                   'class.',\n",
      "                                                    'Id': 7,\n",
      "                                                    'Name': 'AccuracyByClass',\n",
      "                                                    'RelationalOperatorId': 3,\n",
      "                                                    'Structure': 'sequence',\n",
      "                                                    'Value': '0.95'},\n",
      "                                                   {'Description': 'Precision '\n",
      "                                                                   'for each '\n",
      "                                                                   'class.',\n",
      "                                                    'Id': 8,\n",
      "                                                    'Name': 'PrecisionByClass',\n",
      "                                                    'RelationalOperatorId': 3,\n",
      "                                                    'Structure': 'sequence',\n",
      "                                                    'Value': '0.95'},\n",
      "                                                   {'Description': 'Recall for '\n",
      "                                                                   'each '\n",
      "                                                                   'class.',\n",
      "                                                    'Id': 9,\n",
      "                                                    'Name': 'RecallByClass',\n",
      "                                                    'RelationalOperatorId': 3,\n",
      "                                                    'Structure': 'sequence',\n",
      "                                                    'Value': '0.95'},\n",
      "                                                   {'Description': 'F−measure '\n",
      "                                                                   'for each '\n",
      "                                                                   'class.',\n",
      "                                                    'Id': 10,\n",
      "                                                    'Name': 'F−measureByClass',\n",
      "                                                    'RelationalOperatorId': 3,\n",
      "                                                    'Structure': 'sequence',\n",
      "                                                    'Value': '0.95'}],\n",
      "                           'TargetInventories': [{'Description': 'Tensorflow '\n",
      "                                                                 '2.3で学習したモデル_1',\n",
      "                                                  'Id': 5,\n",
      "                                                  'Name': 'eval_handwrite_acc_tf2.3_0.1_trained_model_1',\n",
      "                                                  'TemplateInventoryId': 2,\n",
      "                                                  'Type': 'model'},\n",
      "                                                 {'Description': 'テスト画像セット（MNISTフォーマット）',\n",
      "                                                  'Id': 6,\n",
      "                                                  'Name': 'eval_handwrite_acc_tf2.3_0.1_test_set_images',\n",
      "                                                  'TemplateInventoryId': 3,\n",
      "                                                  'Type': 'dataset'},\n",
      "                                                 {'Description': 'テスト画像ラベル（MNISTフォーマット）',\n",
      "                                                  'Id': 7,\n",
      "                                                  'Name': 'eval_handwrite_acc_tf2.3_0.1_test_set_labels',\n",
      "                                                  'TemplateInventoryId': 4,\n",
      "                                                  'Type': 'dataset'}],\n",
      "                           'TestDescriptionResult': {'Detail': '{\\n'\n",
      "                                                               '  \"Accuracy\": '\n",
      "                                                               'true,\\n'\n",
      "                                                               '  \"Precision\": '\n",
      "                                                               'true,\\n'\n",
      "                                                               '  \"Recall\": '\n",
      "                                                               'true,\\n'\n",
      "                                                               '  \"F−measure\": '\n",
      "                                                               'true,\\n'\n",
      "                                                               '  '\n",
      "                                                               '\"AccuracyByClass\": '\n",
      "                                                               'true,\\n'\n",
      "                                                               '  '\n",
      "                                                               '\"PrecisionByClass\": '\n",
      "                                                               'true,\\n'\n",
      "                                                               '  '\n",
      "                                                               '\"RecallByClass\": '\n",
      "                                                               'true,\\n'\n",
      "                                                               '  '\n",
      "                                                               '\"F−measureByClass\": '\n",
      "                                                               'true,\\n'\n",
      "                                                               '  \"AUC\": true\\n'\n",
      "                                                               '}',\n",
      "                                                     'Downloads': [{'Description': '混同行列',\n",
      "                                                                    'DownloadURL': 'http://127.0.0.1:8888/qai-testbed/api/0.0.1/download/16',\n",
      "                                                                    'Id': 1,\n",
      "                                                                    'Name': 'ConfusionMatrixCSV'},\n",
      "                                                                   {'Description': 'ID,正解ラベル,推論結果確率(ラベル毎)',\n",
      "                                                                    'DownloadURL': 'http://127.0.0.1:8888/qai-testbed/api/0.0.1/download/17',\n",
      "                                                                    'Id': 2,\n",
      "                                                                    'Name': 'PredictionResult'},\n",
      "                                                                   {'Description': 'AIT実行ログ',\n",
      "                                                                    'DownloadURL': 'http://127.0.0.1:8888/qai-testbed/api/0.0.1/download/18',\n",
      "                                                                    'Id': 3,\n",
      "                                                                    'Name': 'Log'}],\n",
      "                                                     'Graphs': [{'Description': '混同行列(ヒートマップ)',\n",
      "                                                                 'Graph': 'http://127.0.0.1:8888/qai-testbed/api/0.0.1/download/4',\n",
      "                                                                 'GraphType': 'picture',\n",
      "                                                                 'Id': 1,\n",
      "                                                                 'Name': 'ConfusionMatrixHeatmap',\n",
      "                                                                 'ReportIndex': 1,\n",
      "                                                                 'ReportName': 'ConfusionMatrixHeatmap',\n",
      "                                                                 'ReportRequired': True},\n",
      "                                                                {'Description': 'ROC曲線',\n",
      "                                                                 'Graph': 'http://127.0.0.1:8888/qai-testbed/api/0.0.1/download/5',\n",
      "                                                                 'GraphType': 'picture',\n",
      "                                                                 'Id': 2,\n",
      "                                                                 'Name': 'ROC-curve',\n",
      "                                                                 'ReportIndex': 2,\n",
      "                                                                 'ReportName': 'ROC-curve',\n",
      "                                                                 'ReportRequired': True},\n",
      "                                                                {'Description': '推論NGとなった画像の一覧を、正解ラベルの枚数分だけ出力する',\n",
      "                                                                 'Graph': 'http://127.0.0.1:8888/qai-testbed/api/0.0.1/download/6',\n",
      "                                                                 'GraphType': 'picture',\n",
      "                                                                 'Id': 3,\n",
      "                                                                 'Name': 'NGPredictImages',\n",
      "                                                                 'ReportIndex': 3,\n",
      "                                                                 'ReportName': 'NGPredictImages',\n",
      "                                                                 'ReportRequired': True},\n",
      "                                                                {'Description': '推論NGとなった画像の一覧を、正解ラベルの枚数分だけ出力する',\n",
      "                                                                 'Graph': 'http://127.0.0.1:8888/qai-testbed/api/0.0.1/download/7',\n",
      "                                                                 'GraphType': 'picture',\n",
      "                                                                 'Id': 4,\n",
      "                                                                 'Name': 'NGPredictImages',\n",
      "                                                                 'ReportIndex': 4,\n",
      "                                                                 'ReportName': 'NGPredictImages',\n",
      "                                                                 'ReportRequired': True},\n",
      "                                                                {'Description': '推論NGとなった画像の一覧を、正解ラベルの枚数分だけ出力する',\n",
      "                                                                 'Graph': 'http://127.0.0.1:8888/qai-testbed/api/0.0.1/download/8',\n",
      "                                                                 'GraphType': 'picture',\n",
      "                                                                 'Id': 5,\n",
      "                                                                 'Name': 'NGPredictImages',\n",
      "                                                                 'ReportIndex': 5,\n",
      "                                                                 'ReportName': 'NGPredictImages',\n",
      "                                                                 'ReportRequired': True},\n",
      "                                                                {'Description': '推論NGとなった画像の一覧を、正解ラベルの枚数分だけ出力する',\n",
      "                                                                 'Graph': 'http://127.0.0.1:8888/qai-testbed/api/0.0.1/download/9',\n",
      "                                                                 'GraphType': 'picture',\n",
      "                                                                 'Id': 6,\n",
      "                                                                 'Name': 'NGPredictImages',\n",
      "                                                                 'ReportIndex': 6,\n",
      "                                                                 'ReportName': 'NGPredictImages',\n",
      "                                                                 'ReportRequired': True},\n",
      "                                                                {'Description': '推論NGとなった画像の一覧を、正解ラベルの枚数分だけ出力する',\n",
      "                                                                 'Graph': 'http://127.0.0.1:8888/qai-testbed/api/0.0.1/download/10',\n",
      "                                                                 'GraphType': 'picture',\n",
      "                                                                 'Id': 7,\n",
      "                                                                 'Name': 'NGPredictImages',\n",
      "                                                                 'ReportIndex': 7,\n",
      "                                                                 'ReportName': 'NGPredictImages',\n",
      "                                                                 'ReportRequired': True},\n",
      "                                                                {'Description': '推論NGとなった画像の一覧を、正解ラベルの枚数分だけ出力する',\n",
      "                                                                 'Graph': 'http://127.0.0.1:8888/qai-testbed/api/0.0.1/download/11',\n",
      "                                                                 'GraphType': 'picture',\n",
      "                                                                 'Id': 8,\n",
      "                                                                 'Name': 'NGPredictImages',\n",
      "                                                                 'ReportIndex': 8,\n",
      "                                                                 'ReportName': 'NGPredictImages',\n",
      "                                                                 'ReportRequired': True},\n",
      "                                                                {'Description': '推論NGとなった画像の一覧を、正解ラベルの枚数分だけ出力する',\n",
      "                                                                 'Graph': 'http://127.0.0.1:8888/qai-testbed/api/0.0.1/download/12',\n",
      "                                                                 'GraphType': 'picture',\n",
      "                                                                 'Id': 9,\n",
      "                                                                 'Name': 'NGPredictImages',\n",
      "                                                                 'ReportIndex': 9,\n",
      "                                                                 'ReportName': 'NGPredictImages',\n",
      "                                                                 'ReportRequired': True},\n",
      "                                                                {'Description': '推論NGとなった画像の一覧を、正解ラベルの枚数分だけ出力する',\n",
      "                                                                 'Graph': 'http://127.0.0.1:8888/qai-testbed/api/0.0.1/download/13',\n",
      "                                                                 'GraphType': 'picture',\n",
      "                                                                 'Id': 10,\n",
      "                                                                 'Name': 'NGPredictImages',\n",
      "                                                                 'ReportIndex': 10,\n",
      "                                                                 'ReportName': 'NGPredictImages',\n",
      "                                                                 'ReportRequired': True},\n",
      "                                                                {'Description': '推論NGとなった画像の一覧を、正解ラベルの枚数分だけ出力する',\n",
      "                                                                 'Graph': 'http://127.0.0.1:8888/qai-testbed/api/0.0.1/download/14',\n",
      "                                                                 'GraphType': 'picture',\n",
      "                                                                 'Id': 11,\n",
      "                                                                 'Name': 'NGPredictImages',\n",
      "                                                                 'ReportIndex': 11,\n",
      "                                                                 'ReportName': 'NGPredictImages',\n",
      "                                                                 'ReportRequired': True},\n",
      "                                                                {'Description': '推論NGとなった画像の一覧を、正解ラベルの枚数分だけ出力する',\n",
      "                                                                 'Graph': 'http://127.0.0.1:8888/qai-testbed/api/0.0.1/download/15',\n",
      "                                                                 'GraphType': 'picture',\n",
      "                                                                 'Id': 12,\n",
      "                                                                 'Name': 'NGPredictImages',\n",
      "                                                                 'ReportIndex': 12,\n",
      "                                                                 'ReportName': 'NGPredictImages',\n",
      "                                                                 'ReportRequired': True}],\n",
      "                                                     'LogFile': 'http://127.0.0.1:8888/qai-testbed/api/0.0.1/download/19',\n",
      "                                                     'Summary': 'OK'},\n",
      "                           'TestRunner': {'Author': 'AIST',\n",
      "                                          'Description': 'Only Sequential API '\n",
      "                                                         'Model\\n'\n",
      "                                                         '\\n'\n",
      "                                                         '<QualityMeasurement>\\n'\n",
      "                                                         'Accuracy=TP+TNTP+FP+FN+TN\\n'\n",
      "                                                         'Precision=TPTP+FP\\n'\n",
      "                                                         'Recall=TPTP+FN\\n'\n",
      "                                                         'F−measure=2Recall∗PrecisionRecall+Precision\\n'\n",
      "                                                         'AUC\\n'\n",
      "                                                         '\\n'\n",
      "                                                         '<Resources>\\n'\n",
      "                                                         'ROC曲線\\n'\n",
      "                                                         '混同行列\\n'\n",
      "                                                         'NG予測画像',\n",
      "                                          'Email': '',\n",
      "                                          'Id': 2,\n",
      "                                          'Name': 'eval_handwrite_acc_tf2.3',\n",
      "                                          'Params': [{'Id': 6,\n",
      "                                                      'Name': 'class_count',\n",
      "                                                      'TestRunnerParamTemplateId': 2,\n",
      "                                                      'Value': '10'},\n",
      "                                                     {'Id': 7,\n",
      "                                                      'Name': 'image_px_size',\n",
      "                                                      'TestRunnerParamTemplateId': 3,\n",
      "                                                      'Value': '28'},\n",
      "                                                     {'Id': 8,\n",
      "                                                      'Name': 'auc_average',\n",
      "                                                      'TestRunnerParamTemplateId': 4,\n",
      "                                                      'Value': 'macro'},\n",
      "                                                     {'Id': 9,\n",
      "                                                      'Name': 'auc_multi_class',\n",
      "                                                      'TestRunnerParamTemplateId': 5,\n",
      "                                                      'Value': 'raise'}],\n",
      "                                          'Quality': 'https://airc.aist.go.jp/aiqm/quality/internal/機械学習モデルの正確性',\n",
      "                                          'Version': '0.1'}}}\n"
     ]
    }
   ],
   "source": [
    "res_json = helper.get_td_detail(td_1_json['Id'])\n",
    "pprint.pprint(res_json)"
   ]
  },
  {
   "cell_type": "code",
   "execution_count": 13,
   "metadata": {},
   "outputs": [
    {
     "name": "stdout",
     "output_type": "stream",
     "text": [
      "<Response [200]>\n",
      "{'OutParams': {'ReportUrl': 'http://127.0.0.1:8888/qai-testbed/api/0.0.1/download/20'},\n",
      " 'Result': {'Code': 'D12000', 'Message': 'command invoke success.'}}\n",
      "<bound method Response.json of <Response [200]>>\n"
     ]
    }
   ],
   "source": [
    "# generate report\n",
    "res = helper.post_report(td_1_json['Id'])\n",
    "pprint.pprint(res)"
   ]
  },
  {
   "cell_type": "code",
   "execution_count": null,
   "metadata": {},
   "outputs": [],
   "source": []
  }
 ],
 "metadata": {
  "kernelspec": {
   "display_name": "Python 3",
   "language": "python",
   "name": "python3"
  },
  "language_info": {
   "codemirror_mode": {
    "name": "ipython",
    "version": 3
   },
   "file_extension": ".py",
   "mimetype": "text/x-python",
   "name": "python",
   "nbconvert_exporter": "python",
   "pygments_lexer": "ipython3",
   "version": "3.6.9"
  }
 },
 "nbformat": 4,
 "nbformat_minor": 4
}
