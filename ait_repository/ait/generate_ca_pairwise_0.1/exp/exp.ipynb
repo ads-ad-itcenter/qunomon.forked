{
 "cells": [
  {
   "cell_type": "code",
   "execution_count": 6,
   "metadata": {},
   "outputs": [
    {
     "name": "stdout",
     "output_type": "stream",
     "text": [
      "Hit:1 http://security.ubuntu.com/ubuntu bionic-security InRelease        \n",
      "Hit:2 http://archive.ubuntu.com/ubuntu bionic InRelease                  \n",
      "Hit:3 http://archive.ubuntu.com/ubuntu bionic-updates InRelease\n",
      "Hit:4 http://archive.ubuntu.com/ubuntu bionic-backports InRelease\n",
      "Reading package lists... Done\n",
      "Reading package lists... Done\n",
      "Building dependency tree       \n",
      "Reading state information... Done\n",
      "build-essential is already the newest version (12.4ubuntu1).\n",
      "git is already the newest version (1:2.17.1-1ubuntu0.7).\n",
      "0 upgraded, 0 newly installed, 0 to remove and 42 not upgraded.\n",
      "fatal: destination path 'pict' already exists and is not an empty directory.\n",
      "/workdir/root/exp/pict\n",
      "g++ -fPIC -std=c++11 -Iapi -w -fpermissive   -c -o api/combination.o api/combination.cpp\n",
      "g++ -fPIC -std=c++11 -Iapi -w -fpermissive   -c -o api/deriver.o api/deriver.cpp\n",
      "g++ -fPIC -std=c++11 -Iapi -w -fpermissive   -c -o api/exclusion.o api/exclusion.cpp\n",
      "g++ -fPIC -std=c++11 -Iapi -w -fpermissive   -c -o api/model.o api/model.cpp\n",
      "g++ -fPIC -std=c++11 -Iapi -w -fpermissive   -c -o api/parameter.o api/parameter.cpp\n",
      "g++ -fPIC -std=c++11 -Iapi -w -fpermissive   -c -o api/pictapi.o api/pictapi.cpp\n",
      "g++ -fPIC -std=c++11 -Iapi -w -fpermissive   -c -o api/task.o api/task.cpp\n",
      "g++ -fPIC -std=c++11 -Iapi -w -fpermissive   -c -o api/worklist.o api/worklist.cpp\n",
      "g++ -fPIC -std=c++11 -Iapi -w -fpermissive   -c -o cli/ccommon.o cli/ccommon.cpp\n",
      "g++ -fPIC -std=c++11 -Iapi -w -fpermissive   -c -o cli/cmdline.o cli/cmdline.cpp\n",
      "g++ -fPIC -std=c++11 -Iapi -w -fpermissive   -c -o cli/common.o cli/common.cpp\n",
      "g++ -fPIC -std=c++11 -Iapi -w -fpermissive   -c -o cli/cparser.o cli/cparser.cpp\n",
      "g++ -fPIC -std=c++11 -Iapi -w -fpermissive   -c -o cli/ctokenizer.o cli/ctokenizer.cpp\n",
      "g++ -fPIC -std=c++11 -Iapi -w -fpermissive   -c -o cli/gcd.o cli/gcd.cpp\n",
      "g++ -fPIC -std=c++11 -Iapi -w -fpermissive   -c -o cli/gcdexcl.o cli/gcdexcl.cpp\n",
      "g++ -fPIC -std=c++11 -Iapi -w -fpermissive   -c -o cli/gcdmodel.o cli/gcdmodel.cpp\n",
      "g++ -fPIC -std=c++11 -Iapi -w -fpermissive   -c -o cli/model.o cli/model.cpp\n",
      "g++ -fPIC -std=c++11 -Iapi -w -fpermissive   -c -o cli/mparser.o cli/mparser.cpp\n",
      "g++ -fPIC -std=c++11 -Iapi -w -fpermissive   -c -o cli/pict.o cli/pict.cpp\n",
      "g++ -fPIC -std=c++11 -Iapi -w -fpermissive   -c -o cli/strings.o cli/strings.cpp\n",
      "g++ api/combination.o api/deriver.o api/exclusion.o api/model.o api/parameter.o api/pictapi.o api/task.o api/worklist.o cli/ccommon.o cli/cmdline.o cli/common.o cli/cparser.o cli/ctokenizer.o cli/gcd.o cli/gcdexcl.o cli/gcdmodel.o cli/model.o cli/mparser.o cli/pict.o cli/strings.o -o pict\n"
     ]
    }
   ],
   "source": [
    "!apt-get update\n",
    "!apt-get -y install build-essential git\n",
    "!git clone https://github.com/microsoft/pict.git\n",
    "%cd pict\n",
    "!make"
   ]
  },
  {
   "cell_type": "code",
   "execution_count": 16,
   "metadata": {},
   "outputs": [
    {
     "name": "stdout",
     "output_type": "stream",
     "text": [
      "Pairwise Independent Combinatorial Testing\n",
      "\n",
      "Usage: pict model [options]\n",
      "\n",
      "Options:\n",
      " /o:N    - Order of combinations (default: 2)\n",
      " /d:C    - Separator for values  (default: ,)\n",
      " /a:C    - Separator for aliases (default: |)\n",
      " /n:C    - Negative value prefix (default: ~)\n",
      " /e:file - File with seeding rows\n",
      " /r[:N]  - Randomize generation, N - seed\n",
      " /c      - Case-sensitive model evaluation\n",
      " /s      - Show model statistics\n"
     ]
    }
   ],
   "source": [
    "!./pict"
   ]
  },
  {
   "cell_type": "code",
   "execution_count": 21,
   "metadata": {},
   "outputs": [
    {
     "name": "stdout",
     "output_type": "stream",
     "text": [
      "Used seed: 100\n"
     ]
    }
   ],
   "source": [
    "!./pict ../model.txt /o:2 /r:100 > ../result.txt"
   ]
  },
  {
   "cell_type": "code",
   "execution_count": 11,
   "metadata": {},
   "outputs": [
    {
     "name": "stdout",
     "output_type": "stream",
     "text": [
      "Collecting cython\n",
      "  Downloading Cython-0.29.21-cp36-cp36m-manylinux1_x86_64.whl (2.0 MB)\n",
      "\u001b[K     |████████████████████████████████| 2.0 MB 3.5 MB/s eta 0:00:01\n",
      "\u001b[?25hInstalling collected packages: cython\n",
      "Successfully installed cython-0.29.21\n",
      "Collecting pypict\n",
      "  Downloading pypict-0.1.0-cp36-cp36m-manylinux1_x86_64.whl (839 kB)\n",
      "\u001b[K     |████████████████████████████████| 839 kB 4.7 MB/s eta 0:00:01     |██████████████████████▋         | 593 kB 4.7 MB/s eta 0:00:01\n",
      "\u001b[?25hInstalling collected packages: pypict\n",
      "Successfully installed pypict-0.1.0\n"
     ]
    }
   ],
   "source": [
    "!pip install cython\n",
    "!pip install pypict"
   ]
  },
  {
   "cell_type": "code",
   "execution_count": 12,
   "metadata": {},
   "outputs": [
    {
     "name": "stdout",
     "output_type": "stream",
     "text": [
      "{'Type': 'Mirror', 'Size': '100', 'Format method': 'Quick', 'File system': 'FAT', 'Cluster size': '2048', 'Compression': 'Off'}\n",
      "{'Type': 'Single', 'Size': '100', 'Format method': 'Slow', 'File system': 'NTFS', 'Cluster size': '512', 'Compression': 'On'}\n",
      "{'Type': 'RAID-5', 'Size': '40000', 'Format method': 'Slow', 'File system': 'FAT32', 'Cluster size': '512', 'Compression': 'Off'}\n",
      "{'Type': 'Span', 'Size': '5000', 'Format method': 'Quick', 'File system': 'FAT32', 'Cluster size': '8192', 'Compression': 'On'}\n",
      "{'Type': 'Stripe', 'Size': '1000', 'Format method': 'Slow', 'File system': 'FAT', 'Cluster size': '1024', 'Compression': 'On'}\n",
      "{'Type': 'Stripe', 'Size': '500', 'Format method': 'Quick', 'File system': 'NTFS', 'Cluster size': '32768', 'Compression': 'Off'}\n",
      "{'Type': 'Mirror', 'Size': '500', 'Format method': 'Slow', 'File system': 'FAT32', 'Cluster size': '2048', 'Compression': 'On'}\n",
      "{'Type': 'Single', 'Size': '10', 'Format method': 'Quick', 'File system': 'FAT', 'Cluster size': '16384', 'Compression': 'Off'}\n",
      "{'Type': 'RAID-5', 'Size': '10', 'Format method': 'Slow', 'File system': 'NTFS', 'Cluster size': '65536', 'Compression': 'On'}\n",
      "{'Type': 'Span', 'Size': '10', 'Format method': 'Quick', 'File system': 'FAT32', 'Cluster size': '2048', 'Compression': 'Off'}\n",
      "{'Type': 'Stripe', 'Size': '10000', 'Format method': 'Slow', 'File system': 'FAT32', 'Cluster size': '16384', 'Compression': 'On'}\n",
      "{'Type': 'Span', 'Size': '500', 'Format method': 'Slow', 'File system': 'FAT', 'Cluster size': '8192', 'Compression': 'Off'}\n",
      "{'Type': 'RAID-5', 'Size': '100', 'Format method': 'Quick', 'File system': 'NTFS', 'Cluster size': '8192', 'Compression': 'On'}\n",
      "{'Type': 'Single', 'Size': '100', 'Format method': 'Slow', 'File system': 'FAT32', 'Cluster size': '32768', 'Compression': 'On'}\n",
      "{'Type': 'Mirror', 'Size': '500', 'Format method': 'Quick', 'File system': 'NTFS', 'Cluster size': '1024', 'Compression': 'Off'}\n",
      "{'Type': 'RAID-5', 'Size': '1000', 'Format method': 'Quick', 'File system': 'NTFS', 'Cluster size': '2048', 'Compression': 'Off'}\n",
      "{'Type': 'Mirror', 'Size': '10000', 'Format method': 'Quick', 'File system': 'FAT', 'Cluster size': '512', 'Compression': 'Off'}\n",
      "{'Type': 'Stripe', 'Size': '10', 'Format method': 'Slow', 'File system': 'FAT32', 'Cluster size': '1024', 'Compression': 'On'}\n",
      "{'Type': 'Span', 'Size': '500', 'Format method': 'Quick', 'File system': 'NTFS', 'Cluster size': '4096', 'Compression': 'Off'}\n",
      "{'Type': 'Single', 'Size': '10000', 'Format method': 'Quick', 'File system': 'NTFS', 'Cluster size': '1024', 'Compression': 'Off'}\n",
      "{'Type': 'Mirror', 'Size': '40000', 'Format method': 'Quick', 'File system': 'NTFS', 'Cluster size': '16384', 'Compression': 'On'}\n",
      "{'Type': 'RAID-5', 'Size': '5000', 'Format method': 'Slow', 'File system': 'FAT', 'Cluster size': '32768', 'Compression': 'Off'}\n",
      "{'Type': 'Span', 'Size': '100', 'Format method': 'Quick', 'File system': 'FAT32', 'Cluster size': '1024', 'Compression': 'On'}\n",
      "{'Type': 'Span', 'Size': '40000', 'Format method': 'Slow', 'File system': 'FAT', 'Cluster size': '32768', 'Compression': 'On'}\n",
      "{'Type': 'RAID-5', 'Size': '500', 'Format method': 'Slow', 'File system': 'NTFS', 'Cluster size': '16384', 'Compression': 'Off'}\n",
      "{'Type': 'Single', 'Size': '40000', 'Format method': 'Slow', 'File system': 'FAT', 'Cluster size': '4096', 'Compression': 'On'}\n",
      "{'Type': 'Single', 'Size': '5000', 'Format method': 'Quick', 'File system': 'FAT', 'Cluster size': '65536', 'Compression': 'Off'}\n",
      "{'Type': 'Stripe', 'Size': '5000', 'Format method': 'Slow', 'File system': 'NTFS', 'Cluster size': '512', 'Compression': 'On'}\n",
      "{'Type': 'Mirror', 'Size': '5000', 'Format method': 'Quick', 'File system': 'FAT32', 'Cluster size': '4096', 'Compression': 'Off'}\n",
      "{'Type': 'Span', 'Size': '10', 'Format method': 'Quick', 'File system': 'NTFS', 'Cluster size': '512', 'Compression': 'Off'}\n",
      "{'Type': 'Span', 'Size': '1000', 'Format method': 'Slow', 'File system': 'FAT32', 'Cluster size': '16384', 'Compression': 'On'}\n",
      "{'Type': 'Stripe', 'Size': '40000', 'Format method': 'Slow', 'File system': 'FAT', 'Cluster size': '8192', 'Compression': 'On'}\n",
      "{'Type': 'Single', 'Size': '1000', 'Format method': 'Quick', 'File system': 'NTFS', 'Cluster size': '8192', 'Compression': 'On'}\n",
      "{'Type': 'Single', 'Size': '10000', 'Format method': 'Slow', 'File system': 'FAT32', 'Cluster size': '2048', 'Compression': 'On'}\n",
      "{'Type': 'Span', 'Size': '10000', 'Format method': 'Quick', 'File system': 'FAT32', 'Cluster size': '8192', 'Compression': 'On'}\n",
      "{'Type': 'Mirror', 'Size': '10', 'Format method': 'Slow', 'File system': 'FAT32', 'Cluster size': '32768', 'Compression': 'On'}\n",
      "{'Type': 'RAID-5', 'Size': '10000', 'Format method': 'Quick', 'File system': 'NTFS', 'Cluster size': '4096', 'Compression': 'On'}\n",
      "{'Type': 'Stripe', 'Size': '10', 'Format method': 'Slow', 'File system': 'FAT', 'Cluster size': '4096', 'Compression': 'Off'}\n",
      "{'Type': 'Stripe', 'Size': '100', 'Format method': 'Quick', 'File system': 'FAT', 'Cluster size': '4096', 'Compression': 'On'}\n",
      "{'Type': 'Single', 'Size': '5000', 'Format method': 'Slow', 'File system': 'FAT32', 'Cluster size': '16384', 'Compression': 'Off'}\n",
      "{'Type': 'Mirror', 'Size': '1000', 'Format method': 'Slow', 'File system': 'NTFS', 'Cluster size': '32768', 'Compression': 'Off'}\n",
      "{'Type': 'Mirror', 'Size': '40000', 'Format method': 'Slow', 'File system': 'FAT32', 'Cluster size': '65536', 'Compression': 'Off'}\n",
      "{'Type': 'Stripe', 'Size': '100', 'Format method': 'Quick', 'File system': 'NTFS', 'Cluster size': '65536', 'Compression': 'On'}\n",
      "{'Type': 'RAID-5', 'Size': '5000', 'Format method': 'Quick', 'File system': 'NTFS', 'Cluster size': '1024', 'Compression': 'On'}\n",
      "{'Type': 'Stripe', 'Size': '40000', 'Format method': 'Slow', 'File system': 'NTFS', 'Cluster size': '1024', 'Compression': 'Off'}\n",
      "{'Type': 'Span', 'Size': '10000', 'Format method': 'Slow', 'File system': 'NTFS', 'Cluster size': '65536', 'Compression': 'Off'}\n",
      "{'Type': 'Single', 'Size': '10000', 'Format method': 'Quick', 'File system': 'FAT32', 'Cluster size': '32768', 'Compression': 'On'}\n",
      "{'Type': 'Stripe', 'Size': '5000', 'Format method': 'Slow', 'File system': 'FAT', 'Cluster size': '2048', 'Compression': 'On'}\n",
      "{'Type': 'Single', 'Size': '500', 'Format method': 'Slow', 'File system': 'FAT32', 'Cluster size': '65536', 'Compression': 'Off'}\n",
      "{'Type': 'Single', 'Size': '1000', 'Format method': 'Slow', 'File system': 'FAT32', 'Cluster size': '4096', 'Compression': 'On'}\n",
      "{'Type': 'Single', 'Size': '40000', 'Format method': 'Slow', 'File system': 'NTFS', 'Cluster size': '2048', 'Compression': 'On'}\n",
      "{'Type': 'Single', 'Size': '500', 'Format method': 'Quick', 'File system': 'FAT', 'Cluster size': '512', 'Compression': 'Off'}\n",
      "{'Type': 'Mirror', 'Size': '100', 'Format method': 'Slow', 'File system': 'FAT32', 'Cluster size': '16384', 'Compression': 'On'}\n",
      "{'Type': 'Mirror', 'Size': '10', 'Format method': 'Slow', 'File system': 'NTFS', 'Cluster size': '8192', 'Compression': 'Off'}\n",
      "{'Type': 'RAID-5', 'Size': '1000', 'Format method': 'Slow', 'File system': 'FAT32', 'Cluster size': '512', 'Compression': 'Off'}\n",
      "{'Type': 'Mirror', 'Size': '1000', 'Format method': 'Quick', 'File system': 'FAT', 'Cluster size': '65536', 'Compression': 'On'}\n"
     ]
    }
   ],
   "source": [
    "import pypict.tools\n",
    "\n",
    "params = {\n",
    "    \"Type\":          [\"Single\", \"Span\", \"Stripe\", \"Mirror\", \"RAID-5\"],\n",
    "    \"Size\":          [\"10\", \"100\", \"500\", \"1000\", \"5000\", \"10000\", \"40000\"],\n",
    "    \"Format method\": [\"Quick\", \"Slow\"],\n",
    "    \"File system\":   [\"FAT\", \"FAT32\", \"NTFS\"],\n",
    "    \"Cluster size\":  [\"512\", \"1024\", \"2048\", \"4096\", \"8192\", \"16384\", \"32768\", \"65536\"],\n",
    "    \"Compression\":   [\"On\", \"Off\"],\n",
    "}\n",
    "\n",
    "for case in pypict.tools.from_dict(params):\n",
    "    print(case)"
   ]
  },
  {
   "cell_type": "code",
   "execution_count": 24,
   "metadata": {},
   "outputs": [
    {
     "data": {
      "text/plain": [
       "0"
      ]
     },
     "execution_count": 24,
     "metadata": {},
     "output_type": "execute_result"
    }
   ],
   "source": [
    "import subprocess\n",
    "subprocess.call(['./pict/pict', './model.txt', '/o:2', '/r:100'])"
   ]
  },
  {
   "cell_type": "code",
   "execution_count": 44,
   "metadata": {},
   "outputs": [],
   "source": [
    "with open('result10.txt', 'w', encoding='utf-8') as f:\n",
    "    subprocess.call(['./pict/pict', './model.txt', '/o:2', '/r:100'], stdout=f)\n",
    "\n",
    "with open('result11.tsv', 'w', encoding='utf-8') as f:\n",
    "    subprocess.call(['./pict/pict', './model.txt', '/o:2', '/r:100'], stdout=f)\n",
    "\n",
    "import csv\n",
    "# read tab-delimited file\n",
    "with open('result11.tsv','r') as fin:\n",
    "    cr = csv.reader(fin, delimiter='\t')\n",
    "    filecontents = [line for line in cr]\n",
    "\n",
    "# write comma-delimited file (comma is the default delimiter)\n",
    "with open('result11.csv','w') as fou:\n",
    "    cw = csv.writer(fou, quotechar='', quoting=csv.QUOTE_NONE, escapechar='\\\\')\n",
    "    cw.writerows(filecontents)\n",
    "    "
   ]
  },
  {
   "cell_type": "code",
   "execution_count": 43,
   "metadata": {},
   "outputs": [
    {
     "name": "stdout",
     "output_type": "stream",
     "text": [
      "['Road type', 'Weather', 'Lighting', 'Obstacle', 'Pedestrian', 'Signal', 'Road condition', 'Traffic', 'Zebra crossing', 'Image clarity', 'Time']\n",
      "['PL/GS', 'rainy', 'None', 'Undefined', 'None', 'Green', 'Snowy', 'None', 'No', 'Undefined', 'Day']\n",
      "['Under FO', 'Snowy', 'Low', 'None', 'Not sure', 'Not sure', 'Dry', 'Undefined', 'Not visible', 'Clear', 'Dawn/Dusk']\n",
      "['Highway', 'Undefined', 'Undefined', 'Others', 'On road', 'Undefined', 'Wet', 'Low', 'Yes', 'Not clear', 'Night']\n",
      "['PL/GS', 'Cloudy', 'Low', 'Vehicle', 'On sidewalk', 'None', 'Undefined', 'High', 'Undefined', 'Partly clear', 'Undefined']\n",
      "['Tunnel', 'Fine', 'Normal', 'Not sure', 'Undefined', 'None', 'Undefined', 'Medium', 'Not visible', 'Not clear', 'Day']\n",
      "['Undefined', 'rainy', 'High', 'Vehicle', 'On road', 'Red', 'Snowy', 'Medium', 'Yes', 'Partly clear', 'Dawn/Dusk']\n",
      "['General way', 'Fine', 'Normal', 'None', 'None', 'Green', 'Wet', 'High', 'Yes', 'Clear', 'Undefined']\n",
      "['Highway', 'Fine', 'None', 'Others', 'Undefined', 'Yellow', 'Dry', 'Undefined', 'Undefined', 'Undefined', 'Dawn/Dusk']\n",
      "['PL/GS', 'Undefined', 'High', 'Not sure', 'On sidewalk', 'Red', 'Undefined', 'Low', 'No', 'Clear', 'Dawn/Dusk']\n",
      "['Undefined', 'Fine', 'Undefined', 'Vehicle', 'Not sure', 'Red', 'Wet', 'None', 'Not visible', 'Undefined', 'Night']\n",
      "['Under FO', 'Heat haze', 'Normal', 'Undefined', 'On sidewalk', 'Yellow', 'Wet', 'Undefined', 'No', 'Partly clear', 'Night']\n",
      "['General way', 'Heat haze', 'Undefined', 'None', 'None', 'None', 'Snowy', 'None', 'Undefined', 'Not clear', 'Dawn/Dusk']\n",
      "['Under FO', 'Fine', 'High', 'Undefined', 'Undefined', 'Not sure', 'Snowy', 'Low', 'Yes', 'Undefined', 'Undefined']\n",
      "['Under FO', 'rainy', 'High', 'Not sure', 'Not sure', 'Undefined', 'Dry', 'High', 'Undefined', 'Not clear', 'Day']\n",
      "['Tunnel', 'Cloudy', 'Undefined', 'Undefined', 'On road', 'Undefined', 'Dry', 'Medium', 'No', 'Clear', 'Dawn/Dusk']\n",
      "['General way', 'Heat haze', 'None', 'Others', 'On road', 'Undefined', 'Undefined', 'Medium', 'Not visible', 'Undefined', 'Undefined']\n",
      "['Highway', 'Snowy', 'Low', 'Not sure', 'None', 'Yellow', 'Undefined', 'None', 'Yes', 'Partly clear', 'Day']\n",
      "['Tunnel', 'rainy', 'Normal', 'Others', 'Not sure', 'Yellow', 'Snowy', 'Low', 'Undefined', 'Clear', 'Night']\n",
      "['Highway', 'rainy', 'Undefined', 'None', 'On sidewalk', 'Not sure', 'Undefined', 'Undefined', 'No', 'Not clear', 'Undefined']\n",
      "['Highway', 'Foggy', 'High', 'Vehicle', 'Undefined', 'Green', 'Snowy', 'High', 'Not visible', 'Clear', 'Night']\n",
      "['Tunnel', 'Snowy', 'None', 'None', 'On road', 'Red', 'Wet', 'High', 'Undefined', 'Undefined', 'Undefined']\n",
      "['PL/GS', 'Fine', 'Low', 'Others', 'None', 'Not sure', 'Dry', 'Medium', 'Not visible', 'Partly clear', 'Night']\n",
      "['Undefined', 'Foggy', 'Low', 'Not sure', 'On road', 'None', 'Wet', 'Undefined', 'No', 'Undefined', 'Day']\n",
      "['General way', 'Undefined', 'Normal', 'Vehicle', 'Undefined', 'Not sure', 'Dry', 'None', 'Undefined', 'Partly clear', 'Day']\n",
      "['Undefined', 'Fine', 'None', 'None', 'On sidewalk', 'Undefined', 'Snowy', 'Low', 'No', 'Partly clear', 'Day']\n",
      "['Undefined', 'Cloudy', 'None', 'Not sure', 'None', 'Green', 'Dry', 'Undefined', 'Yes', 'Not clear', 'Night']\n",
      "['Highway', 'Heat haze', 'Low', 'Undefined', 'Not sure', 'Red', 'Wet', 'Medium', 'Yes', 'Clear', 'Day']\n",
      "['Under FO', 'Foggy', 'High', 'Others', 'None', 'Red', 'Dry', 'None', 'Undefined', 'Not clear', 'Undefined']\n",
      "['Highway', 'Cloudy', 'High', 'None', 'Undefined', 'Yellow', 'Wet', 'Low', 'Not visible', 'Undefined', 'Day']\n",
      "['General way', 'Foggy', 'Undefined', 'Undefined', 'Not sure', 'Green', 'Undefined', 'Low', 'No', 'Partly clear', 'Dawn/Dusk']\n",
      "['PL/GS', 'Foggy', 'Undefined', 'Not sure', 'On sidewalk', 'Not sure', 'Wet', 'High', 'Yes', 'Not clear', 'Undefined']\n",
      "['Tunnel', 'Foggy', 'Low', 'Vehicle', 'None', 'Undefined', 'Snowy', 'Undefined', 'Yes', 'Partly clear', 'Dawn/Dusk']\n",
      "['Under FO', 'Undefined', 'Low', 'None', 'On sidewalk', 'Green', 'Snowy', 'Medium', 'Not visible', 'Undefined', 'Undefined']\n",
      "['Under FO', 'Cloudy', 'Normal', 'Vehicle', 'On road', 'Yellow', 'Snowy', 'High', 'No', 'Not clear', 'Dawn/Dusk']\n",
      "['Undefined', 'Snowy', 'Low', 'Others', 'Undefined', 'Undefined', 'Undefined', 'Low', 'No', 'Not clear', 'Night']\n",
      "['Undefined', 'Cloudy', 'None', 'Undefined', 'Not sure', 'Not sure', 'Undefined', 'None', 'Undefined', 'Clear', 'Undefined']\n",
      "['PL/GS', 'Snowy', 'Normal', 'Undefined', 'Not sure', 'None', 'Snowy', 'Medium', 'Undefined', 'Clear', 'Day']\n",
      "['PL/GS', 'Undefined', 'Undefined', 'Undefined', 'Undefined', 'Yellow', 'Dry', 'Undefined', 'Not visible', 'Undefined', 'Undefined']\n",
      "['General way', 'rainy', 'High', 'Others', 'On sidewalk', 'None', 'Wet', 'Undefined', 'Not visible', 'Not clear', 'Night']\n",
      "['General way', 'Snowy', 'Undefined', 'Others', 'On sidewalk', 'Yellow', 'Dry', 'Medium', 'Yes', 'Not clear', 'Day']\n",
      "['Undefined', 'Heat haze', 'Normal', 'Undefined', 'Undefined', 'Yellow', 'Wet', 'High', 'Yes', 'Not clear', 'Dawn/Dusk']\n",
      "['PL/GS', 'Foggy', 'Normal', 'None', 'On road', 'Yellow', 'Snowy', 'Medium', 'Not visible', 'Undefined', 'Night']\n",
      "['PL/GS', 'Heat haze', 'Normal', 'Not sure', 'On road', 'Undefined', 'Snowy', 'None', 'No', 'Partly clear', 'Day']\n",
      "['Under FO', 'Undefined', 'None', 'Vehicle', 'None', 'None', 'Dry', 'High', 'Undefined', 'Undefined', 'Night']\n",
      "['General way', 'Heat haze', 'Low', 'Vehicle', 'None', 'None', 'Dry', 'Low', 'Yes', 'Clear', 'Night']\n",
      "['General way', 'Cloudy', 'Normal', 'Not sure', 'Undefined', 'Red', 'Dry', 'None', 'Undefined', 'Undefined', 'Night']\n",
      "['Tunnel', 'rainy', 'Low', 'Others', 'On sidewalk', 'Green', 'Undefined', 'None', 'Undefined', 'Not clear', 'Undefined']\n",
      "['Undefined', 'Undefined', 'Normal', 'Others', 'Not sure', 'Not sure', 'Dry', 'High', 'No', 'Not clear', 'Undefined']\n",
      "['Under FO', 'Snowy', 'High', 'Vehicle', 'On road', 'Green', 'Undefined', 'Undefined', 'Not visible', 'Partly clear', 'Dawn/Dusk']\n",
      "['Tunnel', 'Heat haze', 'High', 'Others', 'On road', 'Not sure', 'Dry', 'Undefined', 'Yes', 'Undefined', 'Dawn/Dusk']\n",
      "['Highway', 'Cloudy', 'Normal', 'Others', 'Undefined', 'Red', 'Snowy', 'Undefined', 'Not visible', 'Not clear', 'Day']\n",
      "['Highway', 'Fine', 'Undefined', 'Vehicle', 'On road', 'None', 'Dry', 'None', 'No', 'Partly clear', 'Day']\n",
      "['General way', 'Foggy', 'None', 'Vehicle', 'On sidewalk', 'None', 'Wet', 'Medium', 'Not visible', 'Clear', 'Night']\n",
      "['Under FO', 'rainy', 'Undefined', 'None', 'Undefined', 'Green', 'Dry', 'Medium', 'Undefined', 'Clear', 'Dawn/Dusk']\n",
      "['Tunnel', 'Undefined', 'Low', 'Vehicle', 'Undefined', 'Red', 'Snowy', 'None', 'Undefined', 'Clear', 'Dawn/Dusk']\n",
      "['PL/GS', 'Heat haze', 'None', 'None', 'Undefined', 'Green', 'Dry', 'Undefined', 'Not visible', 'Clear', 'Dawn/Dusk']\n"
     ]
    }
   ],
   "source": [
    "with open('result11.tsv','r') as fin:\n",
    "    cr = csv.reader(fin, delimiter='\t')\n",
    "    \n",
    "    for r in cr:\n",
    "        print(r)"
   ]
  },
  {
   "cell_type": "code",
   "execution_count": 34,
   "metadata": {},
   "outputs": [
    {
     "name": "stdout",
     "output_type": "stream",
     "text": [
      "Used seed: 100\n",
      "Road type\tWeather\tLighting\tObstacle\tPedestrian\tSignal\tRoad condition\tTraffic\tZebra crossing\tImage clarity\tTime\n",
      "PL/GS\trainy\tNone\tUndefined\tNone\tGreen\tSnowy\tNone\tNo\tUndefined\tDay\n",
      "Under FO\tSnowy\tLow\tNone\tNot sure\tNot sure\tDry\tUndefined\tNot visible\tClear\tDawn/Dusk\n",
      "Highway\tUndefined\tUndefined\tOthers\tOn road\tUndefined\tWet\tLow\tYes\tNot clear\tNight\n",
      "PL/GS\tCloudy\tLow\tVehicle\tOn sidewalk\tNone\tUndefined\tHigh\tUndefined\tPartly clear\tUndefined\n",
      "Tunnel\tFine\tNormal\tNot sure\tUndefined\tNone\tUndefined\tMedium\tNot visible\tNot clear\tDay\n",
      "Undefined\trainy\tHigh\tVehicle\tOn road\tRed\tSnowy\tMedium\tYes\tPartly clear\tDawn/Dusk\n",
      "General way\tFine\tNormal\tNone\tNone\tGreen\tWet\tHigh\tYes\tClear\tUndefined\n",
      "Highway\tFine\tNone\tOthers\tUndefined\tYellow\tDry\tUndefined\tUndefined\tUndefined\tDawn/Dusk\n",
      "PL/GS\tUndefined\tHigh\tNot sure\tOn sidewalk\tRed\tUndefined\tLow\tNo\tClear\tDawn/Dusk\n",
      "Undefined\tFine\tUndefined\tVehicle\tNot sure\tRed\tWet\tNone\tNot visible\tUndefined\tNight\n",
      "Under FO\tHeat haze\tNormal\tUndefined\tOn sidewalk\tYellow\tWet\tUndefined\tNo\tPartly clear\tNight\n",
      "General way\tHeat haze\tUndefined\tNone\tNone\tNone\tSnowy\tNone\tUndefined\tNot clear\tDawn/Dusk\n",
      "Under FO\tFine\tHigh\tUndefined\tUndefined\tNot sure\tSnowy\tLow\tYes\tUndefined\tUndefined\n",
      "Under FO\trainy\tHigh\tNot sure\tNot sure\tUndefined\tDry\tHigh\tUndefined\tNot clear\tDay\n",
      "Tunnel\tCloudy\tUndefined\tUndefined\tOn road\tUndefined\tDry\tMedium\tNo\tClear\tDawn/Dusk\n",
      "General way\tHeat haze\tNone\tOthers\tOn road\tUndefined\tUndefined\tMedium\tNot visible\tUndefined\tUndefined\n",
      "Highway\tSnowy\tLow\tNot sure\tNone\tYellow\tUndefined\tNone\tYes\tPartly clear\tDay\n",
      "Tunnel\trainy\tNormal\tOthers\tNot sure\tYellow\tSnowy\tLow\tUndefined\tClear\tNight\n",
      "Highway\trainy\tUndefined\tNone\tOn sidewalk\tNot sure\tUndefined\tUndefined\tNo\tNot clear\tUndefined\n",
      "Highway\tFoggy\tHigh\tVehicle\tUndefined\tGreen\tSnowy\tHigh\tNot visible\tClear\tNight\n",
      "Tunnel\tSnowy\tNone\tNone\tOn road\tRed\tWet\tHigh\tUndefined\tUndefined\tUndefined\n",
      "PL/GS\tFine\tLow\tOthers\tNone\tNot sure\tDry\tMedium\tNot visible\tPartly clear\tNight\n",
      "Undefined\tFoggy\tLow\tNot sure\tOn road\tNone\tWet\tUndefined\tNo\tUndefined\tDay\n",
      "General way\tUndefined\tNormal\tVehicle\tUndefined\tNot sure\tDry\tNone\tUndefined\tPartly clear\tDay\n",
      "Undefined\tFine\tNone\tNone\tOn sidewalk\tUndefined\tSnowy\tLow\tNo\tPartly clear\tDay\n",
      "Undefined\tCloudy\tNone\tNot sure\tNone\tGreen\tDry\tUndefined\tYes\tNot clear\tNight\n",
      "Highway\tHeat haze\tLow\tUndefined\tNot sure\tRed\tWet\tMedium\tYes\tClear\tDay\n",
      "Under FO\tFoggy\tHigh\tOthers\tNone\tRed\tDry\tNone\tUndefined\tNot clear\tUndefined\n",
      "Highway\tCloudy\tHigh\tNone\tUndefined\tYellow\tWet\tLow\tNot visible\tUndefined\tDay\n",
      "General way\tFoggy\tUndefined\tUndefined\tNot sure\tGreen\tUndefined\tLow\tNo\tPartly clear\tDawn/Dusk\n",
      "PL/GS\tFoggy\tUndefined\tNot sure\tOn sidewalk\tNot sure\tWet\tHigh\tYes\tNot clear\tUndefined\n",
      "Tunnel\tFoggy\tLow\tVehicle\tNone\tUndefined\tSnowy\tUndefined\tYes\tPartly clear\tDawn/Dusk\n",
      "Under FO\tUndefined\tLow\tNone\tOn sidewalk\tGreen\tSnowy\tMedium\tNot visible\tUndefined\tUndefined\n",
      "Under FO\tCloudy\tNormal\tVehicle\tOn road\tYellow\tSnowy\tHigh\tNo\tNot clear\tDawn/Dusk\n",
      "Undefined\tSnowy\tLow\tOthers\tUndefined\tUndefined\tUndefined\tLow\tNo\tNot clear\tNight\n",
      "Undefined\tCloudy\tNone\tUndefined\tNot sure\tNot sure\tUndefined\tNone\tUndefined\tClear\tUndefined\n",
      "PL/GS\tSnowy\tNormal\tUndefined\tNot sure\tNone\tSnowy\tMedium\tUndefined\tClear\tDay\n",
      "PL/GS\tUndefined\tUndefined\tUndefined\tUndefined\tYellow\tDry\tUndefined\tNot visible\tUndefined\tUndefined\n",
      "General way\trainy\tHigh\tOthers\tOn sidewalk\tNone\tWet\tUndefined\tNot visible\tNot clear\tNight\n",
      "General way\tSnowy\tUndefined\tOthers\tOn sidewalk\tYellow\tDry\tMedium\tYes\tNot clear\tDay\n",
      "Undefined\tHeat haze\tNormal\tUndefined\tUndefined\tYellow\tWet\tHigh\tYes\tNot clear\tDawn/Dusk\n",
      "PL/GS\tFoggy\tNormal\tNone\tOn road\tYellow\tSnowy\tMedium\tNot visible\tUndefined\tNight\n",
      "PL/GS\tHeat haze\tNormal\tNot sure\tOn road\tUndefined\tSnowy\tNone\tNo\tPartly clear\tDay\n",
      "Under FO\tUndefined\tNone\tVehicle\tNone\tNone\tDry\tHigh\tUndefined\tUndefined\tNight\n",
      "General way\tHeat haze\tLow\tVehicle\tNone\tNone\tDry\tLow\tYes\tClear\tNight\n",
      "General way\tCloudy\tNormal\tNot sure\tUndefined\tRed\tDry\tNone\tUndefined\tUndefined\tNight\n",
      "Tunnel\trainy\tLow\tOthers\tOn sidewalk\tGreen\tUndefined\tNone\tUndefined\tNot clear\tUndefined\n",
      "Undefined\tUndefined\tNormal\tOthers\tNot sure\tNot sure\tDry\tHigh\tNo\tNot clear\tUndefined\n",
      "Under FO\tSnowy\tHigh\tVehicle\tOn road\tGreen\tUndefined\tUndefined\tNot visible\tPartly clear\tDawn/Dusk\n",
      "Tunnel\tHeat haze\tHigh\tOthers\tOn road\tNot sure\tDry\tUndefined\tYes\tUndefined\tDawn/Dusk\n",
      "Highway\tCloudy\tNormal\tOthers\tUndefined\tRed\tSnowy\tUndefined\tNot visible\tNot clear\tDay\n",
      "Highway\tFine\tUndefined\tVehicle\tOn road\tNone\tDry\tNone\tNo\tPartly clear\tDay\n",
      "General way\tFoggy\tNone\tVehicle\tOn sidewalk\tNone\tWet\tMedium\tNot visible\tClear\tNight\n",
      "Under FO\trainy\tUndefined\tNone\tUndefined\tGreen\tDry\tMedium\tUndefined\tClear\tDawn/Dusk\n",
      "Tunnel\tUndefined\tLow\tVehicle\tUndefined\tRed\tSnowy\tNone\tUndefined\tClear\tDawn/Dusk\n",
      "PL/GS\tHeat haze\tNone\tNone\tUndefined\tGreen\tDry\tUndefined\tNot visible\tClear\tDawn/Dusk\n"
     ]
    }
   ],
   "source": [
    "!./pict/pict ./model.txt /o:2 /r:100 /d:','"
   ]
  },
  {
   "cell_type": "code",
   "execution_count": 50,
   "metadata": {},
   "outputs": [
    {
     "data": {
      "text/plain": [
       "'/workdir/root/exp'"
      ]
     },
     "execution_count": 50,
     "metadata": {},
     "output_type": "execute_result"
    }
   ],
   "source": [
    "from os import path\n",
    "path.dirname(path.abspath('__file__'))"
   ]
  },
  {
   "cell_type": "code",
   "execution_count": 49,
   "metadata": {},
   "outputs": [
    {
     "ename": "NameError",
     "evalue": "name '__file__' is not defined",
     "output_type": "error",
     "traceback": [
      "\u001b[0;31m---------------------------------------------------------------------------\u001b[0m",
      "\u001b[0;31mNameError\u001b[0m                                 Traceback (most recent call last)",
      "\u001b[0;32m<ipython-input-49-4b9c1c6f63ad>\u001b[0m in \u001b[0;36m<module>\u001b[0;34m\u001b[0m\n\u001b[0;32m----> 1\u001b[0;31m \u001b[0mpath\u001b[0m\u001b[0;34m.\u001b[0m\u001b[0mdirname\u001b[0m\u001b[0;34m(\u001b[0m\u001b[0mpath\u001b[0m\u001b[0;34m.\u001b[0m\u001b[0mabspath\u001b[0m\u001b[0;34m(\u001b[0m\u001b[0m__file__\u001b[0m\u001b[0;34m)\u001b[0m\u001b[0;34m)\u001b[0m\u001b[0;34m\u001b[0m\u001b[0;34m\u001b[0m\u001b[0m\n\u001b[0m",
      "\u001b[0;31mNameError\u001b[0m: name '__file__' is not defined"
     ]
    }
   ],
   "source": [
    "path.dirname(path.abspath(__file__))"
   ]
  },
  {
   "cell_type": "code",
   "execution_count": null,
   "metadata": {},
   "outputs": [],
   "source": []
  }
 ],
 "metadata": {
  "kernelspec": {
   "display_name": "Python 3",
   "language": "python",
   "name": "python3"
  },
  "language_info": {
   "codemirror_mode": {
    "name": "ipython",
    "version": 3
   },
   "file_extension": ".py",
   "mimetype": "text/x-python",
   "name": "python",
   "nbconvert_exporter": "python",
   "pygments_lexer": "ipython3",
   "version": "3.6.9"
  }
 },
 "nbformat": 4,
 "nbformat_minor": 4
}
