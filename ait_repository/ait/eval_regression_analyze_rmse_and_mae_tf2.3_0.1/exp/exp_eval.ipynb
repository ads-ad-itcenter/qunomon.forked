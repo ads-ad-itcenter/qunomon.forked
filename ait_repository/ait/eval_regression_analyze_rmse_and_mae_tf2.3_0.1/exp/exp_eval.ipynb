{
 "cells": [
  {
   "cell_type": "code",
   "execution_count": 1,
   "metadata": {},
   "outputs": [
    {
     "name": "stdout",
     "output_type": "stream",
     "text": [
      "Model: \"sequential_5\"\n",
      "_________________________________________________________________\n",
      "Layer (type)                 Output Shape              Param #   \n",
      "=================================================================\n",
      "dense_15 (Dense)             (None, 64)                320       \n",
      "_________________________________________________________________\n",
      "dense_16 (Dense)             (None, 64)                4160      \n",
      "_________________________________________________________________\n",
      "dense_17 (Dense)             (None, 1)                 65        \n",
      "=================================================================\n",
      "Total params: 4,545\n",
      "Trainable params: 4,545\n",
      "Non-trainable params: 0\n",
      "_________________________________________________________________\n"
     ]
    }
   ],
   "source": [
    "# invenotries-trained model\n",
    "import tensorflow as tf\n",
    "\n",
    "model = tf.keras.models.load_model('./model_2.h5')\n",
    "model.summary()"
   ]
  },
  {
   "cell_type": "code",
   "execution_count": 2,
   "metadata": {},
   "outputs": [],
   "source": [
    "import csv\n",
    "import pprint\n",
    "import pandas as pd\n",
    "\n",
    "dataset_dir = '.'\n",
    "\n",
    "def load_csv(file_name):\n",
    "    file_path = dataset_dir + '/' + file_name\n",
    "    df = pd.read_csv(file_name)\n",
    "    return df\n"
   ]
  },
  {
   "cell_type": "code",
   "execution_count": 3,
   "metadata": {},
   "outputs": [],
   "source": [
    "# invenotries-trained dataset\n",
    "test_dataset = load_csv('test_dataset.csv')"
   ]
  },
  {
   "cell_type": "code",
   "execution_count": 4,
   "metadata": {},
   "outputs": [],
   "source": [
    "with open('./target_variables.csv') as f:\n",
    "    target_variables = pd.read_csv(f)"
   ]
  },
  {
   "cell_type": "code",
   "execution_count": 5,
   "metadata": {},
   "outputs": [
    {
     "data": {
      "text/html": [
       "<div>\n",
       "<style scoped>\n",
       "    .dataframe tbody tr th:only-of-type {\n",
       "        vertical-align: middle;\n",
       "    }\n",
       "\n",
       "    .dataframe tbody tr th {\n",
       "        vertical-align: top;\n",
       "    }\n",
       "\n",
       "    .dataframe thead th {\n",
       "        text-align: right;\n",
       "    }\n",
       "</style>\n",
       "<table border=\"1\" class=\"dataframe\">\n",
       "  <thead>\n",
       "    <tr style=\"text-align: right;\">\n",
       "      <th></th>\n",
       "      <th>count</th>\n",
       "      <th>mean</th>\n",
       "      <th>std</th>\n",
       "      <th>min</th>\n",
       "      <th>25%</th>\n",
       "      <th>50%</th>\n",
       "      <th>75%</th>\n",
       "      <th>max</th>\n",
       "    </tr>\n",
       "  </thead>\n",
       "  <tbody>\n",
       "    <tr>\n",
       "      <th>Economy (GDP per Capita)</th>\n",
       "      <td>156.0</td>\n",
       "      <td>0.857895</td>\n",
       "      <td>0.393196</td>\n",
       "      <td>0.0</td>\n",
       "      <td>0.604512</td>\n",
       "      <td>0.896365</td>\n",
       "      <td>1.129018</td>\n",
       "      <td>1.69752</td>\n",
       "    </tr>\n",
       "    <tr>\n",
       "      <th>Family</th>\n",
       "      <td>156.0</td>\n",
       "      <td>1.036616</td>\n",
       "      <td>0.306543</td>\n",
       "      <td>0.0</td>\n",
       "      <td>0.804176</td>\n",
       "      <td>1.045280</td>\n",
       "      <td>1.261535</td>\n",
       "      <td>1.62400</td>\n",
       "    </tr>\n",
       "    <tr>\n",
       "      <th>Health (Life Expectancy)</th>\n",
       "      <td>156.0</td>\n",
       "      <td>0.578858</td>\n",
       "      <td>0.255314</td>\n",
       "      <td>0.0</td>\n",
       "      <td>0.369105</td>\n",
       "      <td>0.618092</td>\n",
       "      <td>0.783750</td>\n",
       "      <td>1.14100</td>\n",
       "    </tr>\n",
       "    <tr>\n",
       "      <th>Freedom</th>\n",
       "      <td>156.0</td>\n",
       "      <td>0.388964</td>\n",
       "      <td>0.165855</td>\n",
       "      <td>0.0</td>\n",
       "      <td>0.273830</td>\n",
       "      <td>0.418136</td>\n",
       "      <td>0.512905</td>\n",
       "      <td>0.69600</td>\n",
       "    </tr>\n",
       "  </tbody>\n",
       "</table>\n",
       "</div>"
      ],
      "text/plain": [
       "                          count      mean       std  min       25%       50%  \\\n",
       "Economy (GDP per Capita)  156.0  0.857895  0.393196  0.0  0.604512  0.896365   \n",
       "Family                    156.0  1.036616  0.306543  0.0  0.804176  1.045280   \n",
       "Health (Life Expectancy)  156.0  0.578858  0.255314  0.0  0.369105  0.618092   \n",
       "Freedom                   156.0  0.388964  0.165855  0.0  0.273830  0.418136   \n",
       "\n",
       "                               75%      max  \n",
       "Economy (GDP per Capita)  1.129018  1.69752  \n",
       "Family                    1.261535  1.62400  \n",
       "Health (Life Expectancy)  0.783750  1.14100  \n",
       "Freedom                   0.512905  0.69600  "
      ]
     },
     "execution_count": 5,
     "metadata": {},
     "output_type": "execute_result"
    }
   ],
   "source": [
    "# 転置行列を返す（正規化のため）\n",
    "test_data_stats = test_dataset.describe()\n",
    "for t in target_variables:\n",
    "    test_data_stats.pop(t)\n",
    "    test_data_stats = test_data_stats.transpose()\n",
    "\n",
    "test_data_stats"
   ]
  },
  {
   "cell_type": "code",
   "execution_count": 6,
   "metadata": {},
   "outputs": [
    {
     "data": {
      "text/plain": [
       "0      7.284\n",
       "1      7.226\n",
       "2      6.901\n",
       "3      6.798\n",
       "4      6.575\n",
       "       ...  \n",
       "151    4.374\n",
       "152    4.212\n",
       "153    4.107\n",
       "154    3.973\n",
       "155    2.853\n",
       "Name: Happiness Score, Length: 156, dtype: float64"
      ]
     },
     "execution_count": 6,
     "metadata": {},
     "output_type": "execute_result"
    }
   ],
   "source": [
    "for t in target_variables:\n",
    "    test_data_labels = test_dataset.pop(t)\n",
    "\n",
    "test_data_labels"
   ]
  },
  {
   "cell_type": "code",
   "execution_count": 7,
   "metadata": {
    "scrolled": true
   },
   "outputs": [
    {
     "ename": "NameError",
     "evalue": "name 'data' is not defined",
     "output_type": "error",
     "traceback": [
      "\u001b[0;31m---------------------------------------------------------------------------\u001b[0m",
      "\u001b[0;31mNameError\u001b[0m                                 Traceback (most recent call last)",
      "\u001b[0;32m<ipython-input-7-b38e5cc42e68>\u001b[0m in \u001b[0;36m<module>\u001b[0;34m\u001b[0m\n\u001b[1;32m      2\u001b[0m \u001b[0;32mdef\u001b[0m \u001b[0mnorm\u001b[0m\u001b[0;34m(\u001b[0m\u001b[0mx\u001b[0m\u001b[0;34m)\u001b[0m\u001b[0;34m:\u001b[0m\u001b[0;34m\u001b[0m\u001b[0;34m\u001b[0m\u001b[0m\n\u001b[1;32m      3\u001b[0m   \u001b[0;32mreturn\u001b[0m \u001b[0;34m(\u001b[0m\u001b[0mx\u001b[0m \u001b[0;34m-\u001b[0m \u001b[0mdata_stats\u001b[0m\u001b[0;34m[\u001b[0m\u001b[0;34m'mean'\u001b[0m\u001b[0;34m]\u001b[0m\u001b[0;34m)\u001b[0m \u001b[0;34m/\u001b[0m \u001b[0mdata_stats\u001b[0m\u001b[0;34m[\u001b[0m\u001b[0;34m'std'\u001b[0m\u001b[0;34m]\u001b[0m\u001b[0;34m\u001b[0m\u001b[0;34m\u001b[0m\u001b[0m\n\u001b[0;32m----> 4\u001b[0;31m \u001b[0mnormed_data\u001b[0m \u001b[0;34m=\u001b[0m \u001b[0mnorm\u001b[0m\u001b[0;34m(\u001b[0m\u001b[0mdata\u001b[0m\u001b[0;34m)\u001b[0m\u001b[0;34m\u001b[0m\u001b[0;34m\u001b[0m\u001b[0m\n\u001b[0m\u001b[1;32m      5\u001b[0m \u001b[0mnormed_data\u001b[0m\u001b[0;34m\u001b[0m\u001b[0;34m\u001b[0m\u001b[0m\n",
      "\u001b[0;31mNameError\u001b[0m: name 'data' is not defined"
     ]
    }
   ],
   "source": [
    "# 正規化関数\n",
    "def norm(x):\n",
    "  return (x - data_stats['mean']) / data_stats['std']\n",
    "normed_data = norm(data)\n",
    "normed_data"
   ]
  },
  {
   "cell_type": "code",
   "execution_count": null,
   "metadata": {
    "scrolled": true
   },
   "outputs": [],
   "source": [
    "#実際の値\n",
    "with tf.name_scope('data'):\n",
    "    Y = tf.Variable(test_data_labels, name='Y')\n",
    "    print(Y)"
   ]
  },
  {
   "cell_type": "code",
   "execution_count": null,
   "metadata": {
    "scrolled": false
   },
   "outputs": [],
   "source": [
    "# モデルを使った予測（学習用データ）\n",
    "with tf.name_scope('predict'):\n",
    "    pred = model.predict(normed_test_data.values).flatten()\n",
    "    pred"
   ]
  },
  {
   "cell_type": "code",
   "execution_count": null,
   "metadata": {},
   "outputs": [],
   "source": [
    "# RMSEの計算、MAEとMSEの計算と表作成\n",
    "import pandas as pd\n",
    "import matplotlib.pyplot as plt\n",
    "\n",
    "with tf.name_scope('rmse_mae_mse'):\n",
    "    loss, mae, mse = model.evaluate(normed_test_data, test_data_labels, verbose=2)\n",
    "    rmse = tf.sqrt(tf.reduce_mean((Y - pred)**2))\n",
    "    \n",
    "    csv_data = [['RMSE（Root Mean Square Error）', rmse.numpy()],\n",
    "           ['MAE（Mean Absolute Error）', mae],\n",
    "           ['MSE（Mean Squared Error）', mse]]\n",
    "\n",
    "    with open('evaluation_index_matrix.csv', 'w') as f:\n",
    "        writer = csv.writer(f, lineterminator='\\n')\n",
    "        writer.writerows(csv_data)\n"
   ]
  },
  {
   "cell_type": "code",
   "execution_count": null,
   "metadata": {},
   "outputs": [],
   "source": [
    "df_fact = pd.DataFrame({'measured value': test_data_labels.values, 'predicted value': test_predictions})\n",
    "df_fact"
   ]
  },
  {
   "cell_type": "code",
   "execution_count": null,
   "metadata": {
    "scrolled": true
   },
   "outputs": [],
   "source": [
    "# 検証用データの予測と実測の相関グラフ\n",
    "import seaborn as sns\n",
    "\n",
    "with tf.name_scope('rmse_mae_mse'):\n",
    "    sns.set_style(\"whitegrid\")\n",
    "    test_predictions = model.predict(normed_test_data).flatten()\n",
    "    sns_plt = sns.jointplot(\"predicted value\", \"measured value\", data=df_fact, kind=\"reg\", line_kws={'color':'red'}, height=8, scatter_kws={\"s\": 4})\n",
    "    file_name = ('correlation_graph_of_predicted_and_measured_values.png')\n",
    "    sns_plt.savefig(file_name)"
   ]
  },
  {
   "cell_type": "code",
   "execution_count": null,
   "metadata": {},
   "outputs": [],
   "source": [
    "# 相関関係を描画\n",
    "import seaborn as sns\n",
    "with tf.name_scope('correlation graph'):\n",
    "    data = load_csv('dataset.csv')\n",
    "    explanatory_variables = data.columns\n",
    "    for target in target_variables:\n",
    "        for explanation in data.columns:\n",
    "            if target == explanation:\n",
    "                continue\n",
    "            sns_plt = sns.jointplot(data[target], data[explanation], kind=\"reg\", line_kws={'color':'red'}, height=8, scatter_kws={\"s\": 4})\n",
    "            file_name = (target + '-' + explanation + '.png').replace(' ', '_')\n",
    "            sns_plt.savefig(file_name)"
   ]
  },
  {
   "cell_type": "code",
   "execution_count": null,
   "metadata": {},
   "outputs": [],
   "source": [
    "# ペアワイズで説明変数の組み合わせを作り相関グラフを作成する\n",
    "\n",
    "# !pip install more-itertools\n",
    "import matplotlib.pyplot as plt\n",
    "\n",
    "import seaborn as sns\n",
    "from mpl_toolkits.mplot3d import Axes3D\n",
    "\n",
    "\n",
    "# ペアワイズで説明変数の組み合わせを作る\n",
    "from itertools import tee\n",
    "def pairwise(iterable):\n",
    "    \"s -> (s0,s1), (s1,s2), (s2, s3), ...\"\n",
    "    a, b = tee(iterable)\n",
    "    next(b, None)\n",
    "    return zip(a, b)\n",
    "\n",
    "explanatory_variables = [i for i in data.columns if not i in target_variables]\n",
    "explanatory_comb = pairwise(explanatory_variables)\n",
    "\n",
    "with tf.name_scope('correlation graph'):\n",
    "    data = load_csv('dataset.csv')\n",
    "    for Z in target_variables:\n",
    "        for X, Y in explanatory_comb:\n",
    "            sns.set_style(\"darkgrid\")\n",
    "            fig = plt.figure(figsize = (8, 8))\n",
    "            ax = Axes3D(fig)\n",
    "\n",
    "            ax.set_xlabel(X)\n",
    "            ax.set_ylabel(Y)\n",
    "            ax.set_zlabel(Z)\n",
    "            \n",
    "            #.plotで描画\n",
    "            ax.plot(data[X], data[Y], data[Z], marker=\"o\", linestyle='None', ms=1)\n",
    "\n",
    "            #最後に.show()を書いてグラフ表示\n",
    "            plt.show()\n",
    "            file_name = (Z + '-' + X + '-' + Y + '.png').replace(' ', '_')\n",
    "            sns_plt.savefig(file_name)\n"
   ]
  },
  {
   "cell_type": "code",
   "execution_count": null,
   "metadata": {},
   "outputs": [],
   "source": []
  }
 ],
 "metadata": {
  "kernelspec": {
   "display_name": "Python 3",
   "language": "python",
   "name": "python3"
  },
  "language_info": {
   "codemirror_mode": {
    "name": "ipython",
    "version": 3
   },
   "file_extension": ".py",
   "mimetype": "text/x-python",
   "name": "python",
   "nbconvert_exporter": "python",
   "pygments_lexer": "ipython3",
   "version": "3.6.9"
  }
 },
 "nbformat": 4,
 "nbformat_minor": 2
}
