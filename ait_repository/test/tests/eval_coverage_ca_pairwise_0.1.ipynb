{
 "cells": [
  {
   "cell_type": "markdown",
   "metadata": {},
   "source": [
    "# test note\n",
    "\n",
    "\n",
    "* jupyterはコンテナ起動すること\n",
    "* テストベッド一式起動済みであること\n"
   ]
  },
  {
   "cell_type": "code",
   "execution_count": 1,
   "metadata": {},
   "outputs": [
    {
     "name": "stdout",
     "output_type": "stream",
     "text": [
      "Requirement already satisfied: pip in /usr/local/lib/python3.6/dist-packages (21.0)\n",
      "Collecting pip\n",
      "  Using cached pip-21.0-py3-none-any.whl (1.5 MB)\n",
      "  Downloading pip-20.3.4-py2.py3-none-any.whl (1.5 MB)\n",
      "\u001b[K     |████████████████████████████████| 1.5 MB 3.5 MB/s eta 0:00:01\n",
      "\u001b[?25hProcessing /workdir/root/lib/ait_sdk-0.1.5-py3-none-any.whl\n",
      "Collecting py-cpuinfo<=7.0.0\n",
      "  Using cached py_cpuinfo-7.0.0-py3-none-any.whl\n",
      "Collecting nbformat<=5.0.8\n",
      "  Using cached nbformat-5.0.8-py3-none-any.whl (172 kB)\n",
      "Collecting numpy<=1.19.3\n",
      "  Using cached numpy-1.19.3-cp36-cp36m-manylinux2010_x86_64.whl (14.9 MB)\n",
      "Collecting nbconvert<=6.0.7\n",
      "  Using cached nbconvert-6.0.7-py3-none-any.whl (552 kB)\n",
      "Collecting psutil<=5.7.3\n",
      "  Using cached psutil-5.7.3-cp36-cp36m-linux_x86_64.whl\n",
      "Collecting keras<=2.4.3\n",
      "  Using cached Keras-2.4.3-py2.py3-none-any.whl (36 kB)\n",
      "Collecting h5py\n",
      "  Using cached h5py-3.1.0-cp36-cp36m-manylinux1_x86_64.whl (4.0 MB)\n",
      "Collecting pyyaml\n",
      "  Using cached PyYAML-5.4.1-cp36-cp36m-manylinux1_x86_64.whl (640 kB)\n",
      "Collecting scipy>=0.14\n",
      "  Using cached scipy-1.5.4-cp36-cp36m-manylinux1_x86_64.whl (25.9 MB)\n",
      "Collecting testpath\n",
      "  Using cached testpath-0.4.4-py2.py3-none-any.whl (163 kB)\n",
      "Collecting entrypoints>=0.2.2\n",
      "  Using cached entrypoints-0.3-py2.py3-none-any.whl (11 kB)\n",
      "Collecting pandocfilters>=1.4.1\n",
      "  Using cached pandocfilters-1.4.3-py3-none-any.whl\n",
      "Collecting jupyter-core\n",
      "  Using cached jupyter_core-4.7.0-py3-none-any.whl (82 kB)\n",
      "Collecting traitlets>=4.2\n",
      "  Using cached traitlets-4.3.3-py2.py3-none-any.whl (75 kB)\n",
      "Collecting pygments>=2.4.1\n",
      "  Using cached Pygments-2.7.4-py3-none-any.whl (950 kB)\n",
      "Collecting nbclient<0.6.0,>=0.5.0\n",
      "  Using cached nbclient-0.5.1-py3-none-any.whl (65 kB)\n",
      "Collecting jupyterlab-pygments\n",
      "  Using cached jupyterlab_pygments-0.1.2-py2.py3-none-any.whl (4.6 kB)\n",
      "Collecting mistune<2,>=0.8.1\n",
      "  Using cached mistune-0.8.4-py2.py3-none-any.whl (16 kB)\n",
      "Collecting defusedxml\n",
      "  Using cached defusedxml-0.6.0-py2.py3-none-any.whl (23 kB)\n",
      "Collecting jinja2>=2.4\n",
      "  Using cached Jinja2-2.11.2-py2.py3-none-any.whl (125 kB)\n",
      "Collecting bleach\n",
      "  Using cached bleach-3.2.3-py2.py3-none-any.whl (146 kB)\n",
      "Collecting MarkupSafe>=0.23\n",
      "  Using cached MarkupSafe-1.1.1-cp36-cp36m-manylinux1_x86_64.whl (27 kB)\n",
      "Collecting nest-asyncio\n",
      "  Using cached nest_asyncio-1.4.3-py3-none-any.whl (5.3 kB)\n",
      "Collecting jupyter-client>=6.1.5\n",
      "  Using cached jupyter_client-6.1.11-py3-none-any.whl (108 kB)\n",
      "Collecting async-generator\n",
      "  Using cached async_generator-1.10-py3-none-any.whl (18 kB)\n",
      "Collecting tornado>=4.1\n",
      "  Using cached tornado-6.1-cp36-cp36m-manylinux2010_x86_64.whl (427 kB)\n",
      "Collecting python-dateutil>=2.1\n",
      "  Using cached python_dateutil-2.8.1-py2.py3-none-any.whl (227 kB)\n",
      "Collecting pyzmq>=13\n",
      "  Using cached pyzmq-21.0.2-cp36-cp36m-manylinux1_x86_64.whl (6.7 MB)\n",
      "Collecting ipython-genutils\n",
      "  Using cached ipython_genutils-0.2.0-py2.py3-none-any.whl (26 kB)\n",
      "Collecting jsonschema!=2.5.0,>=2.4\n",
      "  Using cached jsonschema-3.2.0-py2.py3-none-any.whl (56 kB)\n",
      "Collecting importlib-metadata\n",
      "  Using cached importlib_metadata-3.4.0-py3-none-any.whl (10 kB)\n",
      "Collecting six>=1.11.0\n",
      "  Using cached six-1.15.0-py2.py3-none-any.whl (10 kB)\n",
      "Collecting setuptools\n",
      "  Using cached setuptools-52.0.0-py3-none-any.whl (784 kB)\n",
      "Collecting attrs>=17.4.0\n",
      "  Using cached attrs-20.3.0-py2.py3-none-any.whl (49 kB)\n",
      "Collecting pyrsistent>=0.14.0\n",
      "  Using cached pyrsistent-0.17.3-cp36-cp36m-linux_x86_64.whl\n",
      "Collecting decorator\n",
      "  Using cached decorator-4.4.2-py2.py3-none-any.whl (9.2 kB)\n",
      "Collecting packaging\n",
      "  Using cached packaging-20.8-py2.py3-none-any.whl (39 kB)\n",
      "Collecting webencodings\n",
      "  Using cached webencodings-0.5.1-py2.py3-none-any.whl (11 kB)\n",
      "Collecting cached-property\n",
      "  Using cached cached_property-1.5.2-py2.py3-none-any.whl (7.6 kB)\n",
      "Collecting typing-extensions>=3.6.4\n",
      "  Using cached typing_extensions-3.7.4.3-py3-none-any.whl (22 kB)\n",
      "Collecting zipp>=0.5\n",
      "  Using cached zipp-3.4.0-py3-none-any.whl (5.2 kB)\n",
      "Collecting pyparsing>=2.0.2\n",
      "  Using cached pyparsing-2.4.7-py2.py3-none-any.whl (67 kB)\n",
      "Installing collected packages: zipp, typing-extensions, six, ipython-genutils, decorator, traitlets, setuptools, pyrsistent, importlib-metadata, attrs, tornado, pyzmq, python-dateutil, pyparsing, jupyter-core, jsonschema, webencodings, pygments, packaging, numpy, nest-asyncio, nbformat, MarkupSafe, jupyter-client, cached-property, async-generator, testpath, scipy, pyyaml, pandocfilters, nbclient, mistune, jupyterlab-pygments, jinja2, h5py, entrypoints, defusedxml, bleach, py-cpuinfo, psutil, nbconvert, keras, ait-sdk\n",
      "  Attempting uninstall: zipp\n",
      "    Found existing installation: zipp 3.4.0\n",
      "    Uninstalling zipp-3.4.0:\n",
      "      Successfully uninstalled zipp-3.4.0\n",
      "  Attempting uninstall: typing-extensions\n",
      "    Found existing installation: typing-extensions 3.7.4.3\n",
      "    Uninstalling typing-extensions-3.7.4.3:\n",
      "      Successfully uninstalled typing-extensions-3.7.4.3\n",
      "  Attempting uninstall: six\n",
      "    Found existing installation: six 1.15.0\n",
      "    Uninstalling six-1.15.0:\n",
      "      Successfully uninstalled six-1.15.0\n",
      "  Attempting uninstall: ipython-genutils\n",
      "    Found existing installation: ipython-genutils 0.2.0\n",
      "    Uninstalling ipython-genutils-0.2.0:\n",
      "      Successfully uninstalled ipython-genutils-0.2.0\n",
      "  Attempting uninstall: decorator\n",
      "    Found existing installation: decorator 4.4.2\n",
      "    Uninstalling decorator-4.4.2:\n",
      "      Successfully uninstalled decorator-4.4.2\n",
      "  Attempting uninstall: traitlets\n",
      "    Found existing installation: traitlets 4.3.3\n",
      "    Uninstalling traitlets-4.3.3:\n",
      "      Successfully uninstalled traitlets-4.3.3\n",
      "  Attempting uninstall: setuptools\n",
      "    Found existing installation: setuptools 52.0.0\n",
      "    Uninstalling setuptools-52.0.0:\n",
      "      Successfully uninstalled setuptools-52.0.0\n",
      "  Attempting uninstall: pyrsistent\n",
      "    Found existing installation: pyrsistent 0.17.3\n",
      "    Uninstalling pyrsistent-0.17.3:\n",
      "      Successfully uninstalled pyrsistent-0.17.3\n",
      "  Attempting uninstall: importlib-metadata\n",
      "    Found existing installation: importlib-metadata 3.4.0\n",
      "    Uninstalling importlib-metadata-3.4.0:\n",
      "      Successfully uninstalled importlib-metadata-3.4.0\n",
      "  Attempting uninstall: attrs\n",
      "    Found existing installation: attrs 20.3.0\n",
      "    Uninstalling attrs-20.3.0:\n",
      "      Successfully uninstalled attrs-20.3.0\n",
      "  Attempting uninstall: tornado\n",
      "    Found existing installation: tornado 6.1\n",
      "    Uninstalling tornado-6.1:\n",
      "      Successfully uninstalled tornado-6.1\n",
      "  Attempting uninstall: pyzmq\n",
      "    Found existing installation: pyzmq 21.0.2\n",
      "    Uninstalling pyzmq-21.0.2:\n",
      "      Successfully uninstalled pyzmq-21.0.2\n",
      "  Attempting uninstall: python-dateutil\n",
      "    Found existing installation: python-dateutil 2.8.1\n",
      "    Uninstalling python-dateutil-2.8.1:\n",
      "      Successfully uninstalled python-dateutil-2.8.1\n",
      "  Attempting uninstall: pyparsing\n",
      "    Found existing installation: pyparsing 2.4.7\n",
      "    Uninstalling pyparsing-2.4.7:\n",
      "      Successfully uninstalled pyparsing-2.4.7\n",
      "  Attempting uninstall: jupyter-core\n",
      "    Found existing installation: jupyter-core 4.7.0\n",
      "    Uninstalling jupyter-core-4.7.0:\n",
      "      Successfully uninstalled jupyter-core-4.7.0\n",
      "  Attempting uninstall: jsonschema\n",
      "    Found existing installation: jsonschema 3.2.0\n",
      "    Uninstalling jsonschema-3.2.0:\n",
      "      Successfully uninstalled jsonschema-3.2.0\n",
      "  Attempting uninstall: webencodings\n",
      "    Found existing installation: webencodings 0.5.1\n",
      "    Uninstalling webencodings-0.5.1:\n",
      "      Successfully uninstalled webencodings-0.5.1\n",
      "  Attempting uninstall: pygments\n",
      "    Found existing installation: Pygments 2.7.4\n",
      "    Uninstalling Pygments-2.7.4:\n",
      "      Successfully uninstalled Pygments-2.7.4\n",
      "  Attempting uninstall: packaging\n",
      "    Found existing installation: packaging 20.8\n",
      "    Uninstalling packaging-20.8:\n",
      "      Successfully uninstalled packaging-20.8\n",
      "  Attempting uninstall: numpy\n",
      "    Found existing installation: numpy 1.19.3\n",
      "    Uninstalling numpy-1.19.3:\n",
      "      Successfully uninstalled numpy-1.19.3\n",
      "  Attempting uninstall: nest-asyncio\n",
      "    Found existing installation: nest-asyncio 1.4.3\n",
      "    Uninstalling nest-asyncio-1.4.3:\n",
      "      Successfully uninstalled nest-asyncio-1.4.3\n",
      "  Attempting uninstall: nbformat\n",
      "    Found existing installation: nbformat 5.0.8\n",
      "    Uninstalling nbformat-5.0.8:\n",
      "      Successfully uninstalled nbformat-5.0.8\n",
      "  Attempting uninstall: MarkupSafe\n",
      "    Found existing installation: MarkupSafe 1.1.1\n",
      "    Uninstalling MarkupSafe-1.1.1:\n",
      "      Successfully uninstalled MarkupSafe-1.1.1\n",
      "  Attempting uninstall: jupyter-client\n",
      "    Found existing installation: jupyter-client 6.1.11\n",
      "    Uninstalling jupyter-client-6.1.11:\n",
      "      Successfully uninstalled jupyter-client-6.1.11\n",
      "  Attempting uninstall: cached-property\n",
      "    Found existing installation: cached-property 1.5.2\n",
      "    Uninstalling cached-property-1.5.2:\n",
      "      Successfully uninstalled cached-property-1.5.2\n",
      "  Attempting uninstall: async-generator\n",
      "    Found existing installation: async-generator 1.10\n",
      "    Uninstalling async-generator-1.10:\n",
      "      Successfully uninstalled async-generator-1.10\n",
      "  Attempting uninstall: testpath\n",
      "    Found existing installation: testpath 0.4.4\n",
      "    Uninstalling testpath-0.4.4:\n",
      "      Successfully uninstalled testpath-0.4.4\n",
      "  Attempting uninstall: scipy\n",
      "    Found existing installation: scipy 1.5.4\n",
      "    Uninstalling scipy-1.5.4:\n",
      "      Successfully uninstalled scipy-1.5.4\n",
      "  Attempting uninstall: pyyaml\n",
      "    Found existing installation: PyYAML 5.4.1\n",
      "    Uninstalling PyYAML-5.4.1:\n",
      "      Successfully uninstalled PyYAML-5.4.1\n",
      "  Attempting uninstall: pandocfilters\n",
      "    Found existing installation: pandocfilters 1.4.3\n",
      "    Uninstalling pandocfilters-1.4.3:\n",
      "      Successfully uninstalled pandocfilters-1.4.3\n",
      "  Attempting uninstall: nbclient\n",
      "    Found existing installation: nbclient 0.5.1\n",
      "    Uninstalling nbclient-0.5.1:\n",
      "      Successfully uninstalled nbclient-0.5.1\n",
      "  Attempting uninstall: mistune\n",
      "    Found existing installation: mistune 0.8.4\n",
      "    Uninstalling mistune-0.8.4:\n",
      "      Successfully uninstalled mistune-0.8.4\n",
      "  Attempting uninstall: jupyterlab-pygments\n",
      "    Found existing installation: jupyterlab-pygments 0.1.2\n",
      "    Uninstalling jupyterlab-pygments-0.1.2:\n",
      "      Successfully uninstalled jupyterlab-pygments-0.1.2\n",
      "  Attempting uninstall: jinja2\n",
      "    Found existing installation: Jinja2 2.11.2\n",
      "    Uninstalling Jinja2-2.11.2:\n",
      "      Successfully uninstalled Jinja2-2.11.2\n",
      "  Attempting uninstall: h5py\n",
      "    Found existing installation: h5py 3.1.0\n",
      "    Uninstalling h5py-3.1.0:\n",
      "      Successfully uninstalled h5py-3.1.0\n",
      "  Attempting uninstall: entrypoints\n",
      "    Found existing installation: entrypoints 0.3\n",
      "    Uninstalling entrypoints-0.3:\n",
      "      Successfully uninstalled entrypoints-0.3\n",
      "  Attempting uninstall: defusedxml\n",
      "    Found existing installation: defusedxml 0.6.0\n",
      "    Uninstalling defusedxml-0.6.0:\n",
      "      Successfully uninstalled defusedxml-0.6.0\n",
      "  Attempting uninstall: bleach\n",
      "    Found existing installation: bleach 3.2.3\n",
      "    Uninstalling bleach-3.2.3:\n",
      "      Successfully uninstalled bleach-3.2.3\n",
      "  Attempting uninstall: py-cpuinfo\n",
      "    Found existing installation: py-cpuinfo 7.0.0\n",
      "    Uninstalling py-cpuinfo-7.0.0:\n",
      "      Successfully uninstalled py-cpuinfo-7.0.0\n",
      "  Attempting uninstall: psutil\n",
      "    Found existing installation: psutil 5.7.3\n",
      "    Uninstalling psutil-5.7.3:\n",
      "      Successfully uninstalled psutil-5.7.3\n",
      "  Attempting uninstall: nbconvert\n",
      "    Found existing installation: nbconvert 6.0.7\n",
      "    Uninstalling nbconvert-6.0.7:\n",
      "      Successfully uninstalled nbconvert-6.0.7\n",
      "  Attempting uninstall: keras\n",
      "    Found existing installation: Keras 2.4.3\n",
      "    Uninstalling Keras-2.4.3:\n",
      "      Successfully uninstalled Keras-2.4.3\n",
      "  Attempting uninstall: ait-sdk\n",
      "    Found existing installation: ait-sdk 0.1.5\n",
      "    Uninstalling ait-sdk-0.1.5:\n",
      "      Successfully uninstalled ait-sdk-0.1.5\n",
      "\u001b[31mERROR: pip's dependency resolver does not currently take into account all the packages that are installed. This behaviour is the source of the following dependency conflicts.\n",
      "tensorflow 2.3.0 requires h5py<2.11.0,>=2.10.0, but you have h5py 3.1.0 which is incompatible.\n",
      "tensorflow 2.3.0 requires numpy<1.19.0,>=1.16.0, but you have numpy 1.19.3 which is incompatible.\n",
      "tensorflow 2.3.0 requires scipy==1.4.1, but you have scipy 1.5.4 which is incompatible.\u001b[0m\n",
      "Successfully installed MarkupSafe-1.1.1 ait-sdk-0.1.5 async-generator-1.10 attrs-20.3.0 bleach-3.2.3 cached-property-1.5.2 decorator-4.4.2 defusedxml-0.6.0 entrypoints-0.3 h5py-3.1.0 importlib-metadata-3.4.0 ipython-genutils-0.2.0 jinja2-2.11.2 jsonschema-3.2.0 jupyter-client-6.1.11 jupyter-core-4.7.0 jupyterlab-pygments-0.1.2 keras-2.4.3 mistune-0.8.4 nbclient-0.5.1 nbconvert-6.0.7 nbformat-5.0.8 nest-asyncio-1.4.3 numpy-1.19.3 packaging-20.8 pandocfilters-1.4.3 psutil-5.7.3 py-cpuinfo-7.0.0 pygments-2.7.4 pyparsing-2.4.7 pyrsistent-0.17.3 python-dateutil-2.8.1 pyyaml-5.4.1 pyzmq-21.0.2 scipy-1.5.4 setuptools-52.0.0 six-1.15.0 testpath-0.4.4 tornado-6.1 traitlets-4.3.3 typing-extensions-3.7.4.3 webencodings-0.5.1 zipp-3.4.0\n"
     ]
    }
   ],
   "source": [
    "!pip install --upgrade pip\n",
    "!pip install --force-reinstall ../lib/ait_sdk-0.1.5-py3-none-any.whl"
   ]
  },
  {
   "cell_type": "code",
   "execution_count": 2,
   "metadata": {},
   "outputs": [],
   "source": [
    "from pathlib import Path\n",
    "import pprint\n",
    "from ait_sdk.test.hepler import Helper\n",
    "import json"
   ]
  },
  {
   "cell_type": "code",
   "execution_count": 3,
   "metadata": {},
   "outputs": [],
   "source": [
    "# settings cell\n",
    "\n",
    "# mounted dir\n",
    "root_dir = Path('/workdir/root/ait')\n",
    "\n",
    "ait_name='eval_coverage_ca_pairwise'\n",
    "ait_version='0.1'\n",
    "\n",
    "ait_full_name=f'{ait_name}_{ait_version}'\n",
    "ait_dir = root_dir / ait_full_name\n",
    "\n",
    "td_name=f'{ait_name}_test'\n",
    "\n",
    "# (dockerホスト側の)インベントリ登録用アセット格納ルートフォルダ\n",
    "current_dir = %pwd\n",
    "with open(f'{current_dir}/config.json', encoding='utf-8') as f:\n",
    "    json_ = json.load(f)\n",
    "    root_dir = json_['host_ait_root_dir']\n",
    "    is_container = json_['is_container']\n",
    "invenotory_root_dir = f'{root_dir}\\\\ait\\\\{ait_full_name}\\\\local_qai\\\\inventory'\n",
    "\n",
    "# entry point address\n",
    "# コンテナ起動かどうかでポート番号が変わるため、切り替える\n",
    "if is_container:\n",
    "    backend_entry_point = 'http://host.docker.internal:8888/qai-testbed/api/0.0.1'\n",
    "    ip_entry_point = 'http://host.docker.internal:8888/qai-ip/api/0.0.1'\n",
    "else:\n",
    "    backend_entry_point = 'http://host.docker.internal:5000/qai-testbed/api/0.0.1'\n",
    "    ip_entry_point = 'http://host.docker.internal:6000/qai-ip/api/0.0.1'\n",
    "\n",
    "# aitのデプロイフラグ\n",
    "# 一度実施すれば、それ以降は実施しなくてＯＫ\n",
    "is_init_ait = True\n",
    "\n",
    "# インベントリの登録フラグ\n",
    "# 一度実施すれば、それ以降は実施しなくてＯＫ\n",
    "is_init_inventory = True\n"
   ]
  },
  {
   "cell_type": "code",
   "execution_count": 4,
   "metadata": {},
   "outputs": [],
   "source": [
    "helper = Helper(backend_entry_point=backend_entry_point, \n",
    "                ip_entry_point=ip_entry_point,\n",
    "                ait_dir=ait_dir,\n",
    "                ait_full_name=ait_full_name)"
   ]
  },
  {
   "cell_type": "code",
   "execution_count": 5,
   "metadata": {},
   "outputs": [
    {
     "name": "stdout",
     "output_type": "stream",
     "text": [
      "<Response [200]>\n",
      "{'Code': 0, 'Message': 'alive.'}\n",
      "<Response [200]>\n",
      "{'Code': 0, 'Message': 'alive.'}\n"
     ]
    },
    {
     "data": {
      "text/plain": [
       "<Response [200]>"
      ]
     },
     "execution_count": 5,
     "metadata": {},
     "output_type": "execute_result"
    }
   ],
   "source": [
    "# health check\n",
    "\n",
    "helper.get_bk('/health-check')\n",
    "helper.get_ip('/health-check')"
   ]
  },
  {
   "cell_type": "code",
   "execution_count": 6,
   "metadata": {},
   "outputs": [
    {
     "name": "stdout",
     "output_type": "stream",
     "text": [
      "<Response [200]>\n",
      "{'MLComponentId': 13,\n",
      " 'Result': {'Code': 'P22000', 'Message': 'add ml-component success.'}}\n"
     ]
    }
   ],
   "source": [
    "# create ml-component\n",
    "res = helper.post_ml_component(name=f'MLComponent_{ait_full_name}', description=f'Description of {ait_full_name}', problem_domain=f'ProbremDomain of {ait_full_name}')\n",
    "helper.set_ml_component_id(res['MLComponentId'])"
   ]
  },
  {
   "cell_type": "code",
   "execution_count": 7,
   "metadata": {
    "scrolled": true
   },
   "outputs": [
    {
     "name": "stdout",
     "output_type": "stream",
     "text": [
      "<Response [400]>\n",
      "{'Code': 'T54000',\n",
      " 'Message': 'already exist ait = eval_coverage_ca_pairwise-0.1'}\n",
      "<Response [200]>\n",
      "{'Code': 'D00001', 'Message': 'Deploy success'}\n"
     ]
    }
   ],
   "source": [
    "# deploy AIT\n",
    "if is_init_ait:\n",
    "    helper.deploy_ait_non_build()\n",
    "else:\n",
    "    print('skip deploy AIT')"
   ]
  },
  {
   "cell_type": "code",
   "execution_count": 8,
   "metadata": {},
   "outputs": [],
   "source": [
    "res = helper.get_data_types()\n",
    "model_data_type_id = [d for d in res['DataTypes'] if d['Name'] == 'model'][0]['Id']\n",
    "dataset_data_type_id = [d for d in res['DataTypes'] if d['Name'] == 'dataset'][0]['Id']\n",
    "res = helper.get_file_systems()\n",
    "unix_file_system_id = [f for f in res['FileSystems'] if f['Name'] == 'UNIX_FILE_SYSTEM'][0]['Id']\n",
    "windows_file_system_id = [f for f in res['FileSystems'] if f['Name'] == 'WINDOWS_FILE'][0]['Id']"
   ]
  },
  {
   "cell_type": "code",
   "execution_count": 9,
   "metadata": {},
   "outputs": [
    {
     "name": "stdout",
     "output_type": "stream",
     "text": [
      "<Response [200]>\n",
      "{'result': {'Code': 'I22000', 'Message': 'append Inventory success.'}}\n",
      "<Response [200]>\n",
      "{'result': {'Code': 'I22000', 'Message': 'append Inventory success.'}}\n"
     ]
    }
   ],
   "source": [
    "# add inventories\n",
    "\n",
    "if is_init_inventory:\n",
    "    inv1_name = helper.post_inventory('pairwise_list', dataset_data_type_id, windows_file_system_id, \n",
    "                                      f'{invenotory_root_dir}\\\\pairwise_list\\\\Pairwise_list.csv',\n",
    "                                      'Pairwise_list.csv', ['csv'])\n",
    "    inv2_name = helper.post_inventory('target', dataset_data_type_id, windows_file_system_id, \n",
    "                                      f'{invenotory_root_dir}\\\\target\\\\target.csv',\n",
    "                                      'target.csv', ['csv'])\n",
    "else:\n",
    "    print('skip add inventories')"
   ]
  },
  {
   "cell_type": "code",
   "execution_count": 10,
   "metadata": {},
   "outputs": [
    {
     "name": "stdout",
     "output_type": "stream",
     "text": [
      "<Response [200]>\n",
      "<Response [200]>\n",
      "<Response [200]>\n"
     ]
    }
   ],
   "source": [
    "# get ait_json and inventory_jsons\n",
    "\n",
    "res_json = helper.get_bk('/QualityMeasurements/RelationalOperators', is_print_json=False).json()\n",
    "eq_id = int([r['Id'] for r in res_json['RelationalOperator'] if r['Expression'] == '=='][0])\n",
    "nq_id = int([r['Id'] for r in res_json['RelationalOperator'] if r['Expression'] == '!='][0])\n",
    "gt_id = int([r['Id'] for r in res_json['RelationalOperator'] if r['Expression'] == '>'][0])\n",
    "ge_id = int([r['Id'] for r in res_json['RelationalOperator'] if r['Expression'] == '>='][0])\n",
    "lt_id = int([r['Id'] for r in res_json['RelationalOperator'] if r['Expression'] == '<'][0])\n",
    "le_id = int([r['Id'] for r in res_json['RelationalOperator'] if r['Expression'] == '<='][0])\n",
    "\n",
    "res_json = helper.get_bk('/testRunners', is_print_json=False).json()\n",
    "ait_json = [j for j in res_json['TestRunners'] if j['Name'] == ait_name][-1]\n",
    "\n",
    "inv_1_json = helper.get_inventory(inv1_name)"
   ]
  },
  {
   "cell_type": "code",
   "execution_count": 11,
   "metadata": {},
   "outputs": [
    {
     "name": "stdout",
     "output_type": "stream",
     "text": [
      "<Response [200]>\n",
      "{'Result': {'Code': 'T22000', 'Message': 'append test description success.'}}\n"
     ]
    }
   ],
   "source": [
    "# add teast_descriptions\n",
    "\n",
    "helper.post_td(td_name, 3,\n",
    "               quality_measurements=[\n",
    "                {\"Id\":ait_json['Report']['Measures'][0]['Id'], \"Value\":\"0.5\", \"RelationalOperatorId\":gt_id, \"Enable\":True}\n",
    "               ],\n",
    "               target_inventories=[\n",
    "                {\"Id\":1, \"InventoryId\": inv_1_json['Id'], \"TemplateInventoryId\": ait_json['TargetInventories'][0]['Id']},\n",
    "                {\"Id\":2, \"InventoryId\": inv_1_json['Id'], \"TemplateInventoryId\": ait_json['TargetInventories'][1]['Id']}\n",
    "               ],\n",
    "               test_runner={\n",
    "                \"Id\":ait_json['Id'],\n",
    "                \"Params\":[\n",
    "                ]\n",
    "               })"
   ]
  },
  {
   "cell_type": "code",
   "execution_count": 12,
   "metadata": {},
   "outputs": [
    {
     "name": "stdout",
     "output_type": "stream",
     "text": [
      "<Response [200]>\n"
     ]
    }
   ],
   "source": [
    "# get test_description_jsons\n",
    "td_1_json = helper.get_td(td_name)"
   ]
  },
  {
   "cell_type": "code",
   "execution_count": 13,
   "metadata": {
    "scrolled": true
   },
   "outputs": [
    {
     "name": "stdout",
     "output_type": "stream",
     "text": [
      "<Response [200]>\n",
      "{'Job': {'Id': '13', 'StartDateTime': '2021-01-27 17:00:22.574261+09:00'},\n",
      " 'Result': {'Code': 'R12000', 'Message': 'job launch success.'}}\n",
      "[{'Id': 13,\n",
      "  'Result': 'OK',\n",
      "  'ResultDetail': 'coverage : OK.\\n',\n",
      "  'Status': 'DONE',\n",
      "  'TestDescriptionID': 13}]\n"
     ]
    }
   ],
   "source": [
    "# run test_descriptions\n",
    "helper.post_run_and_wait(td_1_json['Id'])"
   ]
  },
  {
   "cell_type": "code",
   "execution_count": 14,
   "metadata": {},
   "outputs": [
    {
     "name": "stdout",
     "output_type": "stream",
     "text": [
      "<Response [200]>\n",
      "{'Result': {'Code': 'T32000', 'Message': 'get detail success.'},\n",
      " 'TestDescriptionDetail': {'Id': 13,\n",
      "                           'Name': 'eval_coverage_ca_pairwise_test',\n",
      "                           'Opinion': '',\n",
      "                           'QualityDimension': {'Id': 3,\n",
      "                                                'Name': 'Diversity_of_test_data'},\n",
      "                           'QualityMeasurements': [{'Description': 'coverage '\n",
      "                                                                   'of all '\n",
      "                                                                   'patterns '\n",
      "                                                                   'are '\n",
      "                                                                   'matched',\n",
      "                                                    'Enable': True,\n",
      "                                                    'Id': 18,\n",
      "                                                    'Name': 'coverage',\n",
      "                                                    'RelationalOperatorId': 3,\n",
      "                                                    'Structure': 'single',\n",
      "                                                    'Value': '0.5'}],\n",
      "                           'Star': False,\n",
      "                           'TargetInventories': [{'DataType': {'Id': 1,\n",
      "                                                               'Name': 'dataset'},\n",
      "                                                  'Description': 'Pairwise_list.csv',\n",
      "                                                  'Id': 30,\n",
      "                                                  'Name': 'eval_coverage_ca_pairwise_0.1_pairwise_list',\n",
      "                                                  'TemplateInventoryId': 10},\n",
      "                                                 {'DataType': {'Id': 1,\n",
      "                                                               'Name': 'dataset'},\n",
      "                                                  'Description': 'Pairwise_list.csv',\n",
      "                                                  'Id': 30,\n",
      "                                                  'Name': 'eval_coverage_ca_pairwise_0.1_pairwise_list',\n",
      "                                                  'TemplateInventoryId': 11}],\n",
      "                           'TestDescriptionResult': {'Detail': 'coverage : '\n",
      "                                                               'OK.\\n',\n",
      "                                                     'Downloads': [{'Description': 'AIT_run_log',\n",
      "                                                                    'DownloadURL': 'http://127.0.0.1:8888/qai-testbed/api/0.0.1/download/305',\n",
      "                                                                    'FileName': 'ait.log',\n",
      "                                                                    'Id': 32,\n",
      "                                                                    'Name': 'Log'}],\n",
      "                                                     'Graphs': [{'Description': 'pairwise_matching_result',\n",
      "                                                                 'FileName': 'Pairwise_list_matching_result.csv',\n",
      "                                                                 'Graph': 'http://127.0.0.1:8888/qai-testbed/api/0.0.1/download/304',\n",
      "                                                                 'GraphType': 'table',\n",
      "                                                                 'Id': 254,\n",
      "                                                                 'Name': 'matching_result',\n",
      "                                                                 'ReportIndex': 1,\n",
      "                                                                 'ReportName': 'matching_result',\n",
      "                                                                 'ReportRequired': True}],\n",
      "                                                     'LogFile': 'http://127.0.0.1:8888/qai-testbed/api/0.0.1/download/306',\n",
      "                                                     'Summary': 'OK'},\n",
      "                           'TestRunner': {'Author': 'AIST',\n",
      "                                          'Description': 'it is calculates '\n",
      "                                                         'that Data-set has '\n",
      "                                                         'how much coverage '\n",
      "                                                         'for the combination '\n",
      "                                                         'of a given '\n",
      "                                                         'pair-wise.\\n'\n",
      "                                                         '1.Find out if each '\n",
      "                                                         'pairwise row exists '\n",
      "                                                         'in the dataset\\n'\n",
      "                                                         '2.A search pairwise '\n",
      "                                                         'pattern and a '\n",
      "                                                         'matching amount is '\n",
      "                                                         'output to a file.\\n'\n",
      "                                                         '3.Calculate what '\n",
      "                                                         'percentage of all '\n",
      "                                                         'pairwise patterns '\n",
      "                                                         'are matched.\\n'\n",
      "                                                         'Below, restrictions\\n'\n",
      "                                                         '1.The dataset must '\n",
      "                                                         'have the same '\n",
      "                                                         'columns as the '\n",
      "                                                         'pairwise '\n",
      "                                                         'combination.\\n'\n",
      "                                                         '2.It is error if the '\n",
      "                                                         'required column does '\n",
      "                                                         'not exist in '\n",
      "                                                         'dataset.\\n'\n",
      "                                                         '3.The dataset may '\n",
      "                                                         'have an extra '\n",
      "                                                         'column.\\n'\n",
      "                                                         '4.It does not '\n",
      "                                                         'support regular '\n",
      "                                                         'expression search.\\n'\n",
      "                                                         '\"*\" Is treated as '\n",
      "                                                         'one character \"*\".\\n'\n",
      "                                                         '5.Pairwise and '\n",
      "                                                         'dataset may have '\n",
      "                                                         'null value.\\n'\n",
      "                                                         'データセットが特定のペアワイズの組み合わせに対してどの程度のカバレッジを持っているかを計算する。\\n'\n",
      "                                                         '1.ペアワイズの各行が、データセットに存在するか検索する\\n'\n",
      "                                                         '2.検索したペアワイズのパターンとマッチした件数をファイル出力する。\\n'\n",
      "                                                         '3.マッチした件数が全ペアワイズパターンのうちの何パーセントか計算する。\\n'\n",
      "                                                         '以下、制約事項\\n'\n",
      "                                                         '1.データセットは、ペアワイズの組み合わせと同じカラムを持っている必要がある。\\n'\n",
      "                                                         '2.データセットに、必要なカラムが存在しない場合はエラーになる。\\n'\n",
      "                                                         '3.データセットは、余分なカラムを持っていてもよい。\\n'\n",
      "                                                         '4.正規表現検索には対応しない。\\n'\n",
      "                                                         '”＊”は”＊”という１文字として扱う。\\n'\n",
      "                                                         '5.ペアワイズやデータセットにnullは存在してもよい。',\n",
      "                                          'Email': '',\n",
      "                                          'Id': 6,\n",
      "                                          'LandingPage': '',\n",
      "                                          'Name': 'eval_coverage_ca_pairwise',\n",
      "                                          'Params': [],\n",
      "                                          'Quality': 'https://airc.aist.go.jp/aiqm/quality/internal/Diversity_of_test_data',\n",
      "                                          'Version': '0.1'}}}\n"
     ]
    }
   ],
   "source": [
    "res_json = helper.get_td_detail(td_1_json['Id'])\n",
    "pprint.pprint(res_json)"
   ]
  },
  {
   "cell_type": "code",
   "execution_count": 15,
   "metadata": {},
   "outputs": [
    {
     "name": "stdout",
     "output_type": "stream",
     "text": [
      "<Response [200]>\n",
      "{'OutParams': {'ReportUrl': 'http://127.0.0.1:8888/qai-testbed/api/0.0.1/download/307'},\n",
      " 'Result': {'Code': 'D12000', 'Message': 'command invoke success.'}}\n"
     ]
    }
   ],
   "source": [
    "# generate report\n",
    "res = helper.post_report(td_1_json['Id'])"
   ]
  },
  {
   "cell_type": "code",
   "execution_count": null,
   "metadata": {},
   "outputs": [],
   "source": []
  }
 ],
 "metadata": {
  "kernelspec": {
   "display_name": "Python 3",
   "language": "python",
   "name": "python3"
  },
  "language_info": {
   "codemirror_mode": {
    "name": "ipython",
    "version": 3
   },
   "file_extension": ".py",
   "mimetype": "text/x-python",
   "name": "python",
   "nbconvert_exporter": "python",
   "pygments_lexer": "ipython3",
   "version": "3.6.9"
  }
 },
 "nbformat": 4,
 "nbformat_minor": 4
}
