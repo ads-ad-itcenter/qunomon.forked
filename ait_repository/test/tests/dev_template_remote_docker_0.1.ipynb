{
 "cells": [
  {
   "cell_type": "markdown",
   "metadata": {},
   "source": [
    "# test note\n",
    "\n",
    "\n",
    "* jupyterはコンテナ起動すること\n",
    "* テストベッド一式起動済みであること\n"
   ]
  },
  {
   "cell_type": "code",
   "execution_count": 1,
   "metadata": {},
   "outputs": [
    {
     "name": "stdout",
     "output_type": "stream",
     "text": [
      "Requirement already up-to-date: pip in /usr/local/lib/python3.6/dist-packages (20.2.4)\n",
      "Processing /workdir/root/lib/ait_sdk-0.1.4-py3-none-any.whl\n",
      "Processing /root/.cache/pip/wheels/46/6d/cc/73a126dc2e09fe56fcec0a7386d255762611fbed1c86d3bbcc/py_cpuinfo-7.0.0-py3-none-any.whl\n",
      "Collecting keras\n",
      "  Using cached Keras-2.4.3-py2.py3-none-any.whl (36 kB)\n",
      "Processing /root/.cache/pip/wheels/4c/1f/18/c066f071b2c2b638e40889c5595bc6b61fbe45eb475d29d61d/psutil-5.7.2-cp36-cp36m-linux_x86_64.whl\n",
      "Collecting numpy\n",
      "  Using cached numpy-1.19.2-cp36-cp36m-manylinux2010_x86_64.whl (14.5 MB)\n",
      "Collecting nbconvert\n",
      "  Using cached nbconvert-6.0.7-py3-none-any.whl (552 kB)\n",
      "Collecting nbformat\n",
      "  Using cached nbformat-5.0.8-py3-none-any.whl (172 kB)\n",
      "Processing /root/.cache/pip/wheels/e5/9d/ad/2ee53cf262cba1ffd8afe1487eef788ea3f260b7e6232a80fc/PyYAML-5.3.1-cp36-cp36m-linux_x86_64.whl\n",
      "Collecting h5py\n",
      "  Using cached h5py-2.10.0-cp36-cp36m-manylinux1_x86_64.whl (2.9 MB)\n",
      "Collecting scipy>=0.14\n",
      "  Using cached scipy-1.5.3-cp36-cp36m-manylinux1_x86_64.whl (25.9 MB)\n",
      "Collecting nbclient<0.6.0,>=0.5.0\n",
      "  Using cached nbclient-0.5.1-py3-none-any.whl (65 kB)\n",
      "Collecting entrypoints>=0.2.2\n",
      "  Using cached entrypoints-0.3-py2.py3-none-any.whl (11 kB)\n",
      "Collecting bleach\n",
      "  Using cached bleach-3.2.1-py2.py3-none-any.whl (145 kB)\n",
      "Collecting defusedxml\n",
      "  Using cached defusedxml-0.6.0-py2.py3-none-any.whl (23 kB)\n",
      "Collecting mistune<2,>=0.8.1\n",
      "  Using cached mistune-0.8.4-py2.py3-none-any.whl (16 kB)\n",
      "Collecting pygments>=2.4.1\n",
      "  Using cached Pygments-2.7.1-py3-none-any.whl (944 kB)\n",
      "Collecting jinja2>=2.4\n",
      "  Using cached Jinja2-2.11.2-py2.py3-none-any.whl (125 kB)\n",
      "Collecting jupyterlab-pygments\n",
      "  Using cached jupyterlab_pygments-0.1.2-py2.py3-none-any.whl (4.6 kB)\n",
      "Collecting jupyter-core\n",
      "  Using cached jupyter_core-4.6.3-py2.py3-none-any.whl (83 kB)\n",
      "Collecting testpath\n",
      "  Using cached testpath-0.4.4-py2.py3-none-any.whl (163 kB)\n",
      "Processing /root/.cache/pip/wheels/46/c4/40/718c6fd14c2129ccaee10e0cf03ef6c4d01d98cad5dbbfda38/pandocfilters-1.4.2-py3-none-any.whl\n",
      "Collecting traitlets>=4.2\n",
      "  Using cached traitlets-4.3.3-py2.py3-none-any.whl (75 kB)\n",
      "Collecting ipython-genutils\n",
      "  Using cached ipython_genutils-0.2.0-py2.py3-none-any.whl (26 kB)\n",
      "Collecting jsonschema!=2.5.0,>=2.4\n",
      "  Using cached jsonschema-3.2.0-py2.py3-none-any.whl (56 kB)\n",
      "Collecting six\n",
      "  Using cached six-1.15.0-py2.py3-none-any.whl (10 kB)\n",
      "Collecting jupyter-client>=6.1.5\n",
      "  Using cached jupyter_client-6.1.7-py3-none-any.whl (108 kB)\n",
      "Collecting nest-asyncio\n",
      "  Using cached nest_asyncio-1.4.1-py3-none-any.whl (5.2 kB)\n",
      "Collecting async-generator\n",
      "  Using cached async_generator-1.10-py3-none-any.whl (18 kB)\n",
      "Collecting webencodings\n",
      "  Using cached webencodings-0.5.1-py2.py3-none-any.whl (11 kB)\n",
      "Collecting packaging\n",
      "  Using cached packaging-20.4-py2.py3-none-any.whl (37 kB)\n",
      "Collecting MarkupSafe>=0.23\n",
      "  Using cached MarkupSafe-1.1.1-cp36-cp36m-manylinux1_x86_64.whl (27 kB)\n",
      "Collecting decorator\n",
      "  Using cached decorator-4.4.2-py2.py3-none-any.whl (9.2 kB)\n",
      "Collecting setuptools\n",
      "  Using cached setuptools-50.3.2-py3-none-any.whl (785 kB)\n",
      "Processing /root/.cache/pip/wheels/34/13/19/294da8e11bce7e563afee51251b9fa878185e14f4b5caf00cb/pyrsistent-0.17.3-cp36-cp36m-linux_x86_64.whl\n",
      "Collecting importlib-metadata; python_version < \"3.8\"\n",
      "  Using cached importlib_metadata-2.0.0-py2.py3-none-any.whl (31 kB)\n",
      "Collecting attrs>=17.4.0\n",
      "  Using cached attrs-20.2.0-py2.py3-none-any.whl (48 kB)\n",
      "Processing /root/.cache/pip/wheels/37/a7/db/2d592e44029ef817f3ef63ea991db34191cebaef087a96f505/tornado-6.0.4-cp36-cp36m-linux_x86_64.whl\n",
      "Collecting python-dateutil>=2.1\n",
      "  Using cached python_dateutil-2.8.1-py2.py3-none-any.whl (227 kB)\n",
      "Collecting pyzmq>=13\n",
      "  Using cached pyzmq-19.0.2-cp36-cp36m-manylinux1_x86_64.whl (1.1 MB)\n",
      "Collecting pyparsing>=2.0.2\n",
      "  Using cached pyparsing-2.4.7-py2.py3-none-any.whl (67 kB)\n",
      "Collecting zipp>=0.5\n",
      "  Using cached zipp-3.3.1-py3-none-any.whl (5.3 kB)\n",
      "Installing collected packages: py-cpuinfo, pyyaml, numpy, six, h5py, scipy, keras, psutil, ipython-genutils, decorator, traitlets, tornado, python-dateutil, jupyter-core, pyzmq, jupyter-client, nest-asyncio, async-generator, setuptools, pyrsistent, zipp, importlib-metadata, attrs, jsonschema, nbformat, nbclient, entrypoints, webencodings, pyparsing, packaging, bleach, defusedxml, mistune, pygments, MarkupSafe, jinja2, jupyterlab-pygments, testpath, pandocfilters, nbconvert, ait-sdk\n",
      "  Attempting uninstall: py-cpuinfo\n",
      "    Found existing installation: py-cpuinfo 7.0.0\n",
      "    Uninstalling py-cpuinfo-7.0.0:\n",
      "      Successfully uninstalled py-cpuinfo-7.0.0\n",
      "  Attempting uninstall: pyyaml\n",
      "    Found existing installation: PyYAML 5.3.1\n",
      "    Uninstalling PyYAML-5.3.1:\n",
      "      Successfully uninstalled PyYAML-5.3.1\n",
      "  Attempting uninstall: numpy\n",
      "    Found existing installation: numpy 1.19.2\n",
      "    Uninstalling numpy-1.19.2:\n",
      "      Successfully uninstalled numpy-1.19.2\n",
      "  Attempting uninstall: six\n",
      "    Found existing installation: six 1.15.0\n",
      "    Uninstalling six-1.15.0:\n",
      "      Successfully uninstalled six-1.15.0\n",
      "  Attempting uninstall: h5py\n",
      "    Found existing installation: h5py 2.10.0\n",
      "    Uninstalling h5py-2.10.0:\n",
      "      Successfully uninstalled h5py-2.10.0\n",
      "  Attempting uninstall: scipy\n",
      "    Found existing installation: scipy 1.5.3\n",
      "    Uninstalling scipy-1.5.3:\n",
      "      Successfully uninstalled scipy-1.5.3\n",
      "  Attempting uninstall: keras\n",
      "    Found existing installation: Keras 2.4.3\n",
      "    Uninstalling Keras-2.4.3:\n",
      "      Successfully uninstalled Keras-2.4.3\n",
      "  Attempting uninstall: psutil\n",
      "    Found existing installation: psutil 5.7.2\n",
      "    Uninstalling psutil-5.7.2:\n",
      "      Successfully uninstalled psutil-5.7.2\n",
      "  Attempting uninstall: ipython-genutils\n",
      "    Found existing installation: ipython-genutils 0.2.0\n",
      "    Uninstalling ipython-genutils-0.2.0:\n",
      "      Successfully uninstalled ipython-genutils-0.2.0\n",
      "  Attempting uninstall: decorator\n",
      "    Found existing installation: decorator 4.4.2\n",
      "    Uninstalling decorator-4.4.2:\n",
      "      Successfully uninstalled decorator-4.4.2\n",
      "  Attempting uninstall: traitlets\n",
      "    Found existing installation: traitlets 4.3.3\n",
      "    Uninstalling traitlets-4.3.3:\n",
      "      Successfully uninstalled traitlets-4.3.3\n",
      "  Attempting uninstall: tornado\n",
      "    Found existing installation: tornado 6.0.4\n",
      "    Uninstalling tornado-6.0.4:\n",
      "      Successfully uninstalled tornado-6.0.4\n",
      "  Attempting uninstall: python-dateutil\n",
      "    Found existing installation: python-dateutil 2.8.1\n",
      "    Uninstalling python-dateutil-2.8.1:\n",
      "      Successfully uninstalled python-dateutil-2.8.1\n",
      "  Attempting uninstall: jupyter-core\n",
      "    Found existing installation: jupyter-core 4.6.3\n",
      "    Uninstalling jupyter-core-4.6.3:\n",
      "      Successfully uninstalled jupyter-core-4.6.3\n",
      "  Attempting uninstall: pyzmq\n",
      "    Found existing installation: pyzmq 19.0.2\n",
      "    Uninstalling pyzmq-19.0.2:\n",
      "      Successfully uninstalled pyzmq-19.0.2\n",
      "  Attempting uninstall: jupyter-client\n",
      "    Found existing installation: jupyter-client 6.1.7\n",
      "    Uninstalling jupyter-client-6.1.7:\n",
      "      Successfully uninstalled jupyter-client-6.1.7\n",
      "  Attempting uninstall: nest-asyncio\n",
      "    Found existing installation: nest-asyncio 1.4.1\n",
      "    Uninstalling nest-asyncio-1.4.1:\n",
      "      Successfully uninstalled nest-asyncio-1.4.1\n",
      "  Attempting uninstall: async-generator\n",
      "    Found existing installation: async-generator 1.10\n",
      "    Uninstalling async-generator-1.10:\n",
      "      Successfully uninstalled async-generator-1.10\n",
      "  Attempting uninstall: setuptools\n",
      "    Found existing installation: setuptools 50.3.2\n",
      "    Uninstalling setuptools-50.3.2:\n",
      "      Successfully uninstalled setuptools-50.3.2\n",
      "  Attempting uninstall: pyrsistent\n",
      "    Found existing installation: pyrsistent 0.17.3\n",
      "    Uninstalling pyrsistent-0.17.3:\n",
      "      Successfully uninstalled pyrsistent-0.17.3\n",
      "  Attempting uninstall: zipp\n",
      "    Found existing installation: zipp 3.3.1\n",
      "    Uninstalling zipp-3.3.1:\n",
      "      Successfully uninstalled zipp-3.3.1\n",
      "  Attempting uninstall: importlib-metadata\n",
      "    Found existing installation: importlib-metadata 2.0.0\n",
      "    Uninstalling importlib-metadata-2.0.0:\n",
      "      Successfully uninstalled importlib-metadata-2.0.0\n",
      "  Attempting uninstall: attrs\n",
      "    Found existing installation: attrs 20.2.0\n",
      "    Uninstalling attrs-20.2.0:\n",
      "      Successfully uninstalled attrs-20.2.0\n",
      "  Attempting uninstall: jsonschema\n",
      "    Found existing installation: jsonschema 3.2.0\n",
      "    Uninstalling jsonschema-3.2.0:\n",
      "      Successfully uninstalled jsonschema-3.2.0\n",
      "  Attempting uninstall: nbformat\n",
      "    Found existing installation: nbformat 5.0.8\n",
      "    Uninstalling nbformat-5.0.8:\n",
      "      Successfully uninstalled nbformat-5.0.8\n",
      "  Attempting uninstall: nbclient\n",
      "    Found existing installation: nbclient 0.5.1\n",
      "    Uninstalling nbclient-0.5.1:\n",
      "      Successfully uninstalled nbclient-0.5.1\n",
      "  Attempting uninstall: entrypoints\n",
      "    Found existing installation: entrypoints 0.3\n",
      "    Uninstalling entrypoints-0.3:\n",
      "      Successfully uninstalled entrypoints-0.3\n",
      "  Attempting uninstall: webencodings\n",
      "    Found existing installation: webencodings 0.5.1\n",
      "    Uninstalling webencodings-0.5.1:\n",
      "      Successfully uninstalled webencodings-0.5.1\n",
      "  Attempting uninstall: pyparsing\n",
      "    Found existing installation: pyparsing 2.4.7\n",
      "    Uninstalling pyparsing-2.4.7:\n",
      "      Successfully uninstalled pyparsing-2.4.7\n",
      "  Attempting uninstall: packaging\n",
      "    Found existing installation: packaging 20.4\n",
      "    Uninstalling packaging-20.4:\n",
      "      Successfully uninstalled packaging-20.4\n",
      "  Attempting uninstall: bleach\n",
      "    Found existing installation: bleach 3.2.1\n",
      "    Uninstalling bleach-3.2.1:\n",
      "      Successfully uninstalled bleach-3.2.1\n",
      "  Attempting uninstall: defusedxml\n",
      "    Found existing installation: defusedxml 0.6.0\n",
      "    Uninstalling defusedxml-0.6.0:\n",
      "      Successfully uninstalled defusedxml-0.6.0\n",
      "  Attempting uninstall: mistune\n",
      "    Found existing installation: mistune 0.8.4\n",
      "    Uninstalling mistune-0.8.4:\n",
      "      Successfully uninstalled mistune-0.8.4\n",
      "  Attempting uninstall: pygments\n",
      "    Found existing installation: Pygments 2.7.1\n",
      "    Uninstalling Pygments-2.7.1:\n",
      "      Successfully uninstalled Pygments-2.7.1\n",
      "  Attempting uninstall: MarkupSafe\n",
      "    Found existing installation: MarkupSafe 1.1.1\n",
      "    Uninstalling MarkupSafe-1.1.1:\n",
      "      Successfully uninstalled MarkupSafe-1.1.1\n",
      "  Attempting uninstall: jinja2\n",
      "    Found existing installation: Jinja2 2.11.2\n",
      "    Uninstalling Jinja2-2.11.2:\n",
      "      Successfully uninstalled Jinja2-2.11.2\n",
      "  Attempting uninstall: jupyterlab-pygments\n",
      "    Found existing installation: jupyterlab-pygments 0.1.2\n",
      "    Uninstalling jupyterlab-pygments-0.1.2:\n",
      "      Successfully uninstalled jupyterlab-pygments-0.1.2\n",
      "  Attempting uninstall: testpath\n",
      "    Found existing installation: testpath 0.4.4\n",
      "    Uninstalling testpath-0.4.4:\n",
      "      Successfully uninstalled testpath-0.4.4\n",
      "  Attempting uninstall: pandocfilters\n",
      "    Found existing installation: pandocfilters 1.4.2\n",
      "    Uninstalling pandocfilters-1.4.2:\n",
      "      Successfully uninstalled pandocfilters-1.4.2\n",
      "  Attempting uninstall: nbconvert\n",
      "    Found existing installation: nbconvert 6.0.7\n",
      "    Uninstalling nbconvert-6.0.7:\n",
      "      Successfully uninstalled nbconvert-6.0.7\n",
      "  Attempting uninstall: ait-sdk\n",
      "    Found existing installation: ait-sdk 0.1.4\n",
      "    Uninstalling ait-sdk-0.1.4:\n",
      "      Successfully uninstalled ait-sdk-0.1.4\n",
      "\u001b[31mERROR: After October 2020 you may experience errors when installing or updating packages. This is because pip will change the way that it resolves dependency conflicts.\n",
      "\n",
      "We recommend you use --use-feature=2020-resolver to test your packages with the new resolver before it becomes the default.\n",
      "\n",
      "tensorflow 2.3.0 requires numpy<1.19.0,>=1.16.0, but you'll have numpy 1.19.2 which is incompatible.\n",
      "tensorflow 2.3.0 requires scipy==1.4.1, but you'll have scipy 1.5.3 which is incompatible.\u001b[0m\n",
      "Successfully installed MarkupSafe-1.1.1 ait-sdk-0.1.4 async-generator-1.10 attrs-20.2.0 bleach-3.2.1 decorator-4.4.2 defusedxml-0.6.0 entrypoints-0.3 h5py-2.10.0 importlib-metadata-2.0.0 ipython-genutils-0.2.0 jinja2-2.11.2 jsonschema-3.2.0 jupyter-client-6.1.7 jupyter-core-4.6.3 jupyterlab-pygments-0.1.2 keras-2.4.3 mistune-0.8.4 nbclient-0.5.1 nbconvert-6.0.7 nbformat-5.0.8 nest-asyncio-1.4.1 numpy-1.19.2 packaging-20.4 pandocfilters-1.4.2 psutil-5.7.2 py-cpuinfo-7.0.0 pygments-2.7.1 pyparsing-2.4.7 pyrsistent-0.17.3 python-dateutil-2.8.1 pyyaml-5.3.1 pyzmq-19.0.2 scipy-1.5.3 setuptools-50.3.2 six-1.15.0 testpath-0.4.4 tornado-6.0.4 traitlets-4.3.3 webencodings-0.5.1 zipp-3.3.1\n"
     ]
    }
   ],
   "source": [
    "!pip install --upgrade pip\n",
    "!pip install --force-reinstall ../lib/ait_sdk-0.1.4-py3-none-any.whl"
   ]
  },
  {
   "cell_type": "code",
   "execution_count": 2,
   "metadata": {},
   "outputs": [],
   "source": [
    "from pathlib import Path\n",
    "import pprint\n",
    "from ait_sdk.test.hepler import Helper\n",
    "import json"
   ]
  },
  {
   "cell_type": "code",
   "execution_count": 3,
   "metadata": {},
   "outputs": [],
   "source": [
    "# settings cell\n",
    "\n",
    "# mounted dir\n",
    "root_dir = Path('/workdir/root/ait')\n",
    "\n",
    "ait_name='dev_template_remote_docker'\n",
    "ait_version='0.1'\n",
    "\n",
    "ait_full_name=f'{ait_name}_{ait_version}'\n",
    "ait_dir = root_dir / ait_full_name\n",
    "\n",
    "td_name=f'{ait_name}_test'\n",
    "\n",
    "# (dockerホスト側の)インベントリ登録用アセット格納ルートフォルダ\n",
    "current_dir = %pwd\n",
    "with open(f'{current_dir}/config.json', encoding='utf-8') as f:\n",
    "    json_ = json.load(f)\n",
    "    root_dir = json_['host_ait_root_dir']\n",
    "    is_container = json_['is_container']\n",
    "invenotory_root_dir = f'{root_dir}\\\\ait\\\\{ait_full_name}\\\\local_qai\\\\inventory'\n",
    "\n",
    "# entry point address\n",
    "# コンテナ起動かどうかでポート番号が変わるため、切り替える\n",
    "if is_container:\n",
    "    backend_entry_point = 'http://host.docker.internal:8888/qai-testbed/api/0.0.1'\n",
    "    ip_entry_point = 'http://host.docker.internal:8888/qai-ip/api/0.0.1'\n",
    "else:\n",
    "    backend_entry_point = 'http://host.docker.internal:5000/qai-testbed/api/0.0.1'\n",
    "    ip_entry_point = 'http://host.docker.internal:6000/qai-ip/api/0.0.1'\n",
    "\n",
    "# aitのデプロイフラグ\n",
    "# 一度実施すれば、それ以降は実施しなくてＯＫ\n",
    "is_init_ait = True\n",
    "\n",
    "# インベントリの登録フラグ\n",
    "# 一度実施すれば、それ以降は実施しなくてＯＫ\n",
    "is_init_inventory = True\n"
   ]
  },
  {
   "cell_type": "code",
   "execution_count": 4,
   "metadata": {},
   "outputs": [],
   "source": [
    "helper = Helper(backend_entry_point=backend_entry_point, \n",
    "                ip_entry_point=ip_entry_point,\n",
    "                ait_dir=ait_dir,\n",
    "                ait_full_name=ait_full_name)"
   ]
  },
  {
   "cell_type": "code",
   "execution_count": 5,
   "metadata": {},
   "outputs": [
    {
     "name": "stdout",
     "output_type": "stream",
     "text": [
      "<Response [200]>\n",
      "{'Code': 0, 'Message': 'alive.'}\n",
      "<Response [200]>\n",
      "{'Code': 0, 'Message': 'alive.'}\n"
     ]
    },
    {
     "data": {
      "text/plain": [
       "<Response [200]>"
      ]
     },
     "execution_count": 5,
     "metadata": {},
     "output_type": "execute_result"
    }
   ],
   "source": [
    "# health check\n",
    "\n",
    "helper.get_bk('/health-check')\n",
    "helper.get_ip('/health-check')"
   ]
  },
  {
   "cell_type": "code",
   "execution_count": 6,
   "metadata": {},
   "outputs": [
    {
     "name": "stdout",
     "output_type": "stream",
     "text": [
      "<Response [200]>\n",
      "{'MLComponentId': 2,\n",
      " 'Result': {'Code': 'P22000', 'Message': 'add ml-component success.'}}\n"
     ]
    }
   ],
   "source": [
    "# create ml-component\n",
    "res = helper.post_ml_component(name=f'MLComponent_{ait_full_name}', description=f'Description of {ait_full_name}', problem_domain=f'ProbremDomain of {ait_full_name}')\n",
    "helper.set_ml_component_id(res['MLComponentId'])"
   ]
  },
  {
   "cell_type": "code",
   "execution_count": 7,
   "metadata": {
    "scrolled": true
   },
   "outputs": [
    {
     "name": "stdout",
     "output_type": "stream",
     "text": [
      "<Response [200]>\n",
      "{'Code': 'M00001', 'Message': 'Add AIT manifest success'}\n",
      "<Response [200]>\n",
      "{'Code': 'D00001', 'Message': 'Deploy success'}\n"
     ]
    }
   ],
   "source": [
    "# deploy AIT\n",
    "if is_init_ait:\n",
    "    helper.deploy_ait_non_build()\n",
    "else:\n",
    "    print('skip deploy AIT')"
   ]
  },
  {
   "cell_type": "code",
   "execution_count": 8,
   "metadata": {},
   "outputs": [],
   "source": [
    "res = helper.get_data_types()\n",
    "model_data_type_id = [d for d in res['DataTypes'] if d['Name'] == 'model'][0]['Id']\n",
    "dataset_data_type_id = [d for d in res['DataTypes'] if d['Name'] == 'dataset'][0]['Id']\n",
    "res = helper.get_file_systems()\n",
    "unix_file_system_id = [f for f in res['FileSystems'] if f['Name'] == 'UNIX_FILE_SYSTEM'][0]['Id']\n",
    "windows_file_system_id = [f for f in res['FileSystems'] if f['Name'] == 'WINDOWS_FILE'][0]['Id']"
   ]
  },
  {
   "cell_type": "code",
   "execution_count": 9,
   "metadata": {},
   "outputs": [
    {
     "name": "stdout",
     "output_type": "stream",
     "text": [
      "<Response [200]>\n",
      "{'result': {'Code': 'I22000', 'Message': 'append Inventory success.'}}\n"
     ]
    }
   ],
   "source": [
    "# add inventories\n",
    "\n",
    "if is_init_inventory:\n",
    "    inv1_name = helper.post_inventory('iris_data', dataset_data_type_id, windows_file_system_id, \n",
    "                                      f'{invenotory_root_dir}\\\\iris_data\\\\tableconvert_csv_4nryby.csv',\n",
    "                                      'iris data set', ['csv'])\n",
    "else:\n",
    "    print('skip add inventories')"
   ]
  },
  {
   "cell_type": "code",
   "execution_count": 10,
   "metadata": {},
   "outputs": [
    {
     "name": "stdout",
     "output_type": "stream",
     "text": [
      "<Response [200]>\n",
      "<Response [200]>\n",
      "<Response [200]>\n"
     ]
    }
   ],
   "source": [
    "# get ait_json and inventory_jsons\n",
    "\n",
    "res_json = helper.get_bk('/QualityMeasurements/RelationalOperators', is_print_json=False).json()\n",
    "eq_id = int([r['Id'] for r in res_json['RelationalOperator'] if r['Expression'] == '=='][0])\n",
    "nq_id = int([r['Id'] for r in res_json['RelationalOperator'] if r['Expression'] == '!='][0])\n",
    "gt_id = int([r['Id'] for r in res_json['RelationalOperator'] if r['Expression'] == '>'][0])\n",
    "ge_id = int([r['Id'] for r in res_json['RelationalOperator'] if r['Expression'] == '>='][0])\n",
    "lt_id = int([r['Id'] for r in res_json['RelationalOperator'] if r['Expression'] == '<'][0])\n",
    "le_id = int([r['Id'] for r in res_json['RelationalOperator'] if r['Expression'] == '<='][0])\n",
    "\n",
    "res_json = helper.get_bk('/testRunners', is_print_json=False).json()\n",
    "ait_json = [j for j in res_json['TestRunners'] if j['Name'] == ait_name][-1]\n",
    "\n",
    "inv_1_json = helper.get_inventory(inv1_name)"
   ]
  },
  {
   "cell_type": "code",
   "execution_count": 11,
   "metadata": {},
   "outputs": [
    {
     "name": "stdout",
     "output_type": "stream",
     "text": [
      "<Response [200]>\n",
      "{'Result': {'Code': 'T22000', 'Message': 'append test description success.'}}\n"
     ]
    }
   ],
   "source": [
    "# add teast_descriptions\n",
    "\n",
    "helper.post_td(td_name, 5,\n",
    "               quality_measurements=[\n",
    "                {\"Id\":ait_json['Report']['Measures'][0]['Id'], \"Value\":\"1\", \"RelationalOperatorId\":gt_id, \"Enable\":True}\n",
    "               ],\n",
    "               target_inventories=[\n",
    "                {\"Id\":1, \"InventoryId\": inv_1_json['Id'], \"TemplateInventoryId\": ait_json['TargetInventories'][0]['Id']}\n",
    "               ],\n",
    "               test_runner={\n",
    "                \"Id\":ait_json['Id'],\n",
    "                \"Params\":[\n",
    "                    {\"TestRunnerParamTemplateId\":ait_json['ParamTemplates'][0]['Id'], \"Value\":\"sepal.length\"}\n",
    "                ]\n",
    "               })"
   ]
  },
  {
   "cell_type": "code",
   "execution_count": 12,
   "metadata": {},
   "outputs": [
    {
     "name": "stdout",
     "output_type": "stream",
     "text": [
      "<Response [200]>\n"
     ]
    }
   ],
   "source": [
    "# get test_description_jsons\n",
    "td_1_json = helper.get_td(td_name)"
   ]
  },
  {
   "cell_type": "code",
   "execution_count": 13,
   "metadata": {
    "scrolled": true
   },
   "outputs": [
    {
     "name": "stdout",
     "output_type": "stream",
     "text": [
      "<Response [200]>\n",
      "{'Job': {'Id': '1', 'StartDateTime': '2020-10-20 10:50:09.010649+09:00'},\n",
      " 'Result': {'Code': 'R12000', 'Message': 'job launch success.'}}\n",
      "[{'Id': 1,\n",
      "  'Result': 'OK',\n",
      "  'ResultDetail': 'mean : OK.\\n',\n",
      "  'Status': 'DONE',\n",
      "  'TestDescriptionID': 2}]\n"
     ]
    }
   ],
   "source": [
    "# run test_descriptions\n",
    "helper.post_run_and_wait(td_1_json['Id'])"
   ]
  },
  {
   "cell_type": "code",
   "execution_count": 14,
   "metadata": {},
   "outputs": [
    {
     "name": "stdout",
     "output_type": "stream",
     "text": [
      "<Response [200]>\n",
      "{'Result': {'Code': 'T32000', 'Message': 'get detail success.'},\n",
      " 'TestDescriptionDetail': {'Id': 2,\n",
      "                           'Name': 'dev_template_remote_docker_test',\n",
      "                           'Opinion': '',\n",
      "                           'QualityDimension': {'Id': 5, 'Name': '機械学習モデルの正確性'},\n",
      "                           'QualityMeasurements': [{'Description': 'mean of '\n",
      "                                                                   'select '\n",
      "                                                                   'column',\n",
      "                                                    'Enable': True,\n",
      "                                                    'Id': 2,\n",
      "                                                    'Name': 'mean',\n",
      "                                                    'RelationalOperatorId': 3,\n",
      "                                                    'Structure': 'single',\n",
      "                                                    'Value': '1'}],\n",
      "                           'Star': False,\n",
      "                           'TargetInventories': [{'DataType': {'Id': 1,\n",
      "                                                               'Name': 'dataset'},\n",
      "                                                  'Description': 'iris data '\n",
      "                                                                 'set',\n",
      "                                                  'Id': 2,\n",
      "                                                  'Name': 'dev_template_remote_docker_0.1_iris_data',\n",
      "                                                  'TemplateInventoryId': 2}],\n",
      "                           'TestDescriptionResult': {'Detail': 'mean : OK.\\n',\n",
      "                                                     'Downloads': [{'Description': 'AIT実行ログ',\n",
      "                                                                    'DownloadURL': 'http://127.0.0.1:8888/qai-testbed/api/0.0.1/download/3',\n",
      "                                                                    'Id': 1,\n",
      "                                                                    'Name': 'Log'}],\n",
      "                                                     'Graphs': [{'Description': 'pairplot',\n",
      "                                                                 'Graph': 'http://127.0.0.1:8888/qai-testbed/api/0.0.1/download/2',\n",
      "                                                                 'GraphType': 'picture',\n",
      "                                                                 'Id': 1,\n",
      "                                                                 'Name': 'pairplot',\n",
      "                                                                 'ReportIndex': 1,\n",
      "                                                                 'ReportName': 'pairplot',\n",
      "                                                                 'ReportRequired': True}],\n",
      "                                                     'LogFile': 'http://127.0.0.1:8888/qai-testbed/api/0.0.1/download/4',\n",
      "                                                     'Summary': 'OK'},\n",
      "                           'TestRunner': {'Author': 'AIST',\n",
      "                                          'Description': 'AIT開発ひな形(docker '\n",
      "                                                         'image格納先=リモート)',\n",
      "                                          'Email': '',\n",
      "                                          'Id': 2,\n",
      "                                          'LandingPage': '',\n",
      "                                          'Name': 'dev_template_remote_docker',\n",
      "                                          'Params': [{'Id': 2,\n",
      "                                                      'Name': 'mean_column_name',\n",
      "                                                      'TestRunnerParamTemplateId': 2,\n",
      "                                                      'Value': 'sepal.length'}],\n",
      "                                          'Quality': '未分類',\n",
      "                                          'Version': '0.1'}}}\n"
     ]
    }
   ],
   "source": [
    "res_json = helper.get_td_detail(td_1_json['Id'])\n",
    "pprint.pprint(res_json)"
   ]
  },
  {
   "cell_type": "code",
   "execution_count": 15,
   "metadata": {},
   "outputs": [
    {
     "name": "stdout",
     "output_type": "stream",
     "text": [
      "<Response [200]>\n",
      "{'OutParams': {'ReportUrl': 'http://127.0.0.1:8888/qai-testbed/api/0.0.1/download/5'},\n",
      " 'Result': {'Code': 'D12000', 'Message': 'command invoke success.'}}\n"
     ]
    }
   ],
   "source": [
    "# generate report\n",
    "res = helper.post_report(td_1_json['Id'])"
   ]
  },
  {
   "cell_type": "code",
   "execution_count": null,
   "metadata": {},
   "outputs": [],
   "source": []
  }
 ],
 "metadata": {
  "kernelspec": {
   "display_name": "Python 3",
   "language": "python",
   "name": "python3"
  },
  "language_info": {
   "codemirror_mode": {
    "name": "ipython",
    "version": 3
   },
   "file_extension": ".py",
   "mimetype": "text/x-python",
   "name": "python",
   "nbconvert_exporter": "python",
   "pygments_lexer": "ipython3",
   "version": "3.6.9"
  }
 },
 "nbformat": 4,
 "nbformat_minor": 4
}
