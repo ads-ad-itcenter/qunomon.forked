{
 "cells": [
  {
   "cell_type": "markdown",
   "metadata": {},
   "source": [
    "# test note\n",
    "\n",
    "\n",
    "* jupyterはコンテナ起動すること\n",
    "* テストベッド一式起動済みであること\n"
   ]
  },
  {
   "cell_type": "code",
   "execution_count": 1,
   "metadata": {},
   "outputs": [
    {
     "name": "stdout",
     "output_type": "stream",
     "text": [
      "Requirement already satisfied: pip in /usr/local/lib/python3.6/dist-packages (21.1.1)\n",
      "\u001b[33mWARNING: Running pip as root will break packages and permissions. You should install packages reliably by using venv: https://pip.pypa.io/warnings/venv\u001b[0m\n",
      "Processing /workdir/root/lib/ait_sdk-0.1.7-py3-none-any.whl\n",
      "Collecting numpy<=1.19.3\n",
      "  Using cached numpy-1.19.3-cp36-cp36m-manylinux2010_x86_64.whl (14.9 MB)\n",
      "Collecting nbformat<=5.0.8\n",
      "  Using cached nbformat-5.0.8-py3-none-any.whl (172 kB)\n",
      "Collecting nbconvert<=6.0.7\n",
      "  Using cached nbconvert-6.0.7-py3-none-any.whl (552 kB)\n",
      "Collecting py-cpuinfo<=7.0.0\n",
      "  Using cached py_cpuinfo-7.0.0-py3-none-any.whl\n",
      "Collecting psutil<=5.7.3\n",
      "  Using cached psutil-5.7.3-cp36-cp36m-linux_x86_64.whl\n",
      "Collecting keras<=2.4.3\n",
      "  Using cached Keras-2.4.3-py2.py3-none-any.whl (36 kB)\n",
      "Collecting scipy>=0.14\n",
      "  Using cached scipy-1.5.4-cp36-cp36m-manylinux1_x86_64.whl (25.9 MB)\n",
      "Collecting h5py\n",
      "  Using cached h5py-3.1.0-cp36-cp36m-manylinux1_x86_64.whl (4.0 MB)\n",
      "Collecting pyyaml\n",
      "  Using cached PyYAML-5.4.1-cp36-cp36m-manylinux1_x86_64.whl (640 kB)\n",
      "Collecting jupyter-core\n",
      "  Using cached jupyter_core-4.7.1-py3-none-any.whl (82 kB)\n",
      "Collecting pygments>=2.4.1\n",
      "  Using cached Pygments-2.9.0-py3-none-any.whl (1.0 MB)\n",
      "Collecting jinja2>=2.4\n",
      "  Using cached Jinja2-3.0.0-py3-none-any.whl (133 kB)\n",
      "Collecting mistune<2,>=0.8.1\n",
      "  Using cached mistune-0.8.4-py2.py3-none-any.whl (16 kB)\n",
      "Collecting testpath\n",
      "  Using cached testpath-0.4.4-py2.py3-none-any.whl (163 kB)\n",
      "Collecting nbclient<0.6.0,>=0.5.0\n",
      "  Using cached nbclient-0.5.3-py3-none-any.whl (82 kB)\n",
      "Collecting traitlets>=4.2\n",
      "  Using cached traitlets-4.3.3-py2.py3-none-any.whl (75 kB)\n",
      "Collecting pandocfilters>=1.4.1\n",
      "  Using cached pandocfilters-1.4.3-py3-none-any.whl\n",
      "Collecting jupyterlab-pygments\n",
      "  Using cached jupyterlab_pygments-0.1.2-py2.py3-none-any.whl (4.6 kB)\n",
      "Collecting entrypoints>=0.2.2\n",
      "  Using cached entrypoints-0.3-py2.py3-none-any.whl (11 kB)\n",
      "Collecting defusedxml\n",
      "  Using cached defusedxml-0.7.1-py2.py3-none-any.whl (25 kB)\n",
      "Collecting bleach\n",
      "  Using cached bleach-3.3.0-py2.py3-none-any.whl (283 kB)\n",
      "Collecting MarkupSafe>=2.0.0rc2\n",
      "  Using cached MarkupSafe-2.0.0-cp36-cp36m-manylinux2010_x86_64.whl (30 kB)\n",
      "Collecting async-generator\n",
      "  Using cached async_generator-1.10-py3-none-any.whl (18 kB)\n",
      "Collecting nest-asyncio\n",
      "  Using cached nest_asyncio-1.5.1-py3-none-any.whl (5.0 kB)\n",
      "Collecting jupyter-client>=6.1.5\n",
      "  Using cached jupyter_client-6.1.12-py3-none-any.whl (112 kB)\n",
      "Collecting python-dateutil>=2.1\n",
      "  Using cached python_dateutil-2.8.1-py2.py3-none-any.whl (227 kB)\n",
      "Collecting tornado>=4.1\n",
      "  Using cached tornado-6.1-cp36-cp36m-manylinux2010_x86_64.whl (427 kB)\n",
      "Collecting pyzmq>=13\n",
      "  Using cached pyzmq-22.0.3-cp36-cp36m-manylinux1_x86_64.whl (1.1 MB)\n",
      "Collecting jsonschema!=2.5.0,>=2.4\n",
      "  Using cached jsonschema-3.2.0-py2.py3-none-any.whl (56 kB)\n",
      "Collecting ipython-genutils\n",
      "  Using cached ipython_genutils-0.2.0-py2.py3-none-any.whl (26 kB)\n",
      "Collecting setuptools\n",
      "  Using cached setuptools-56.2.0-py3-none-any.whl (785 kB)\n",
      "Collecting pyrsistent>=0.14.0\n",
      "  Using cached pyrsistent-0.17.3-cp36-cp36m-linux_x86_64.whl\n",
      "Collecting six>=1.11.0\n",
      "  Using cached six-1.16.0-py2.py3-none-any.whl (11 kB)\n",
      "Collecting importlib-metadata\n",
      "  Using cached importlib_metadata-4.0.1-py3-none-any.whl (16 kB)\n",
      "Collecting attrs>=17.4.0\n",
      "  Using cached attrs-21.2.0-py2.py3-none-any.whl (53 kB)\n",
      "Collecting decorator\n",
      "  Using cached decorator-5.0.7-py3-none-any.whl (8.8 kB)\n",
      "Collecting webencodings\n",
      "  Using cached webencodings-0.5.1-py2.py3-none-any.whl (11 kB)\n",
      "Collecting packaging\n",
      "  Using cached packaging-20.9-py2.py3-none-any.whl (40 kB)\n",
      "Collecting cached-property\n",
      "  Using cached cached_property-1.5.2-py2.py3-none-any.whl (7.6 kB)\n",
      "Collecting zipp>=0.5\n",
      "  Using cached zipp-3.4.1-py3-none-any.whl (5.2 kB)\n",
      "Collecting typing-extensions>=3.6.4\n",
      "  Using cached typing_extensions-3.10.0.0-py3-none-any.whl (26 kB)\n",
      "Collecting pyparsing>=2.0.2\n",
      "  Using cached pyparsing-2.4.7-py2.py3-none-any.whl (67 kB)\n",
      "Installing collected packages: zipp, typing-extensions, six, ipython-genutils, decorator, traitlets, setuptools, pyrsistent, importlib-metadata, attrs, tornado, pyzmq, python-dateutil, pyparsing, jupyter-core, jsonschema, webencodings, pygments, packaging, numpy, nest-asyncio, nbformat, MarkupSafe, jupyter-client, cached-property, async-generator, testpath, scipy, pyyaml, pandocfilters, nbclient, mistune, jupyterlab-pygments, jinja2, h5py, entrypoints, defusedxml, bleach, py-cpuinfo, psutil, nbconvert, keras, ait-sdk\n",
      "  Attempting uninstall: zipp\n",
      "    Found existing installation: zipp 3.4.1\n",
      "    Uninstalling zipp-3.4.1:\n",
      "      Successfully uninstalled zipp-3.4.1\n",
      "  Attempting uninstall: typing-extensions\n",
      "    Found existing installation: typing-extensions 3.10.0.0\n",
      "    Uninstalling typing-extensions-3.10.0.0:\n",
      "      Successfully uninstalled typing-extensions-3.10.0.0\n",
      "  Attempting uninstall: six\n",
      "    Found existing installation: six 1.16.0\n",
      "    Uninstalling six-1.16.0:\n",
      "      Successfully uninstalled six-1.16.0\n",
      "  Attempting uninstall: ipython-genutils\n",
      "    Found existing installation: ipython-genutils 0.2.0\n",
      "    Uninstalling ipython-genutils-0.2.0:\n",
      "      Successfully uninstalled ipython-genutils-0.2.0\n",
      "  Attempting uninstall: decorator\n",
      "    Found existing installation: decorator 5.0.7\n",
      "    Uninstalling decorator-5.0.7:\n",
      "      Successfully uninstalled decorator-5.0.7\n",
      "  Attempting uninstall: traitlets\n",
      "    Found existing installation: traitlets 4.3.3\n",
      "    Uninstalling traitlets-4.3.3:\n",
      "      Successfully uninstalled traitlets-4.3.3\n",
      "  Attempting uninstall: setuptools\n",
      "    Found existing installation: setuptools 56.2.0\n",
      "    Uninstalling setuptools-56.2.0:\n",
      "      Successfully uninstalled setuptools-56.2.0\n",
      "  Attempting uninstall: pyrsistent\n",
      "    Found existing installation: pyrsistent 0.17.3\n",
      "    Uninstalling pyrsistent-0.17.3:\n",
      "      Successfully uninstalled pyrsistent-0.17.3\n",
      "  Attempting uninstall: importlib-metadata\n",
      "    Found existing installation: importlib-metadata 4.0.1\n",
      "    Uninstalling importlib-metadata-4.0.1:\n",
      "      Successfully uninstalled importlib-metadata-4.0.1\n",
      "  Attempting uninstall: attrs\n",
      "    Found existing installation: attrs 21.2.0\n",
      "    Uninstalling attrs-21.2.0:\n",
      "      Successfully uninstalled attrs-21.2.0\n",
      "  Attempting uninstall: tornado\n",
      "    Found existing installation: tornado 6.1\n",
      "    Uninstalling tornado-6.1:\n",
      "      Successfully uninstalled tornado-6.1\n",
      "  Attempting uninstall: pyzmq\n",
      "    Found existing installation: pyzmq 22.0.3\n",
      "    Uninstalling pyzmq-22.0.3:\n",
      "      Successfully uninstalled pyzmq-22.0.3\n",
      "  Attempting uninstall: python-dateutil\n",
      "    Found existing installation: python-dateutil 2.8.1\n",
      "    Uninstalling python-dateutil-2.8.1:\n",
      "      Successfully uninstalled python-dateutil-2.8.1\n",
      "  Attempting uninstall: pyparsing\n",
      "    Found existing installation: pyparsing 2.4.7\n",
      "    Uninstalling pyparsing-2.4.7:\n",
      "      Successfully uninstalled pyparsing-2.4.7\n",
      "  Attempting uninstall: jupyter-core\n",
      "    Found existing installation: jupyter-core 4.7.1\n",
      "    Uninstalling jupyter-core-4.7.1:\n",
      "      Successfully uninstalled jupyter-core-4.7.1\n",
      "  Attempting uninstall: jsonschema\n",
      "    Found existing installation: jsonschema 3.2.0\n",
      "    Uninstalling jsonschema-3.2.0:\n",
      "      Successfully uninstalled jsonschema-3.2.0\n",
      "  Attempting uninstall: webencodings\n",
      "    Found existing installation: webencodings 0.5.1\n",
      "    Uninstalling webencodings-0.5.1:\n",
      "      Successfully uninstalled webencodings-0.5.1\n",
      "  Attempting uninstall: pygments\n",
      "    Found existing installation: Pygments 2.9.0\n",
      "    Uninstalling Pygments-2.9.0:\n",
      "      Successfully uninstalled Pygments-2.9.0\n",
      "  Attempting uninstall: packaging\n",
      "    Found existing installation: packaging 20.9\n",
      "    Uninstalling packaging-20.9:\n",
      "      Successfully uninstalled packaging-20.9\n",
      "  Attempting uninstall: numpy\n",
      "    Found existing installation: numpy 1.19.3\n",
      "    Uninstalling numpy-1.19.3:\n",
      "      Successfully uninstalled numpy-1.19.3\n",
      "  Attempting uninstall: nest-asyncio\n",
      "    Found existing installation: nest-asyncio 1.5.1\n",
      "    Uninstalling nest-asyncio-1.5.1:\n",
      "      Successfully uninstalled nest-asyncio-1.5.1\n",
      "  Attempting uninstall: nbformat\n",
      "    Found existing installation: nbformat 5.0.8\n",
      "    Uninstalling nbformat-5.0.8:\n",
      "      Successfully uninstalled nbformat-5.0.8\n",
      "  Attempting uninstall: MarkupSafe\n",
      "    Found existing installation: MarkupSafe 2.0.0\n",
      "    Uninstalling MarkupSafe-2.0.0:\n",
      "      Successfully uninstalled MarkupSafe-2.0.0\n",
      "  Attempting uninstall: jupyter-client\n",
      "    Found existing installation: jupyter-client 6.1.12\n",
      "    Uninstalling jupyter-client-6.1.12:\n",
      "      Successfully uninstalled jupyter-client-6.1.12\n",
      "  Attempting uninstall: cached-property\n",
      "    Found existing installation: cached-property 1.5.2\n",
      "    Uninstalling cached-property-1.5.2:\n",
      "      Successfully uninstalled cached-property-1.5.2\n",
      "  Attempting uninstall: async-generator\n",
      "    Found existing installation: async-generator 1.10\n",
      "    Uninstalling async-generator-1.10:\n",
      "      Successfully uninstalled async-generator-1.10\n",
      "  Attempting uninstall: testpath\n",
      "    Found existing installation: testpath 0.4.4\n",
      "    Uninstalling testpath-0.4.4:\n",
      "      Successfully uninstalled testpath-0.4.4\n",
      "  Attempting uninstall: scipy\n",
      "    Found existing installation: scipy 1.5.4\n",
      "    Uninstalling scipy-1.5.4:\n",
      "      Successfully uninstalled scipy-1.5.4\n",
      "  Attempting uninstall: pyyaml\n",
      "    Found existing installation: PyYAML 5.4.1\n",
      "    Uninstalling PyYAML-5.4.1:\n",
      "      Successfully uninstalled PyYAML-5.4.1\n",
      "  Attempting uninstall: pandocfilters\n",
      "    Found existing installation: pandocfilters 1.4.3\n",
      "    Uninstalling pandocfilters-1.4.3:\n",
      "      Successfully uninstalled pandocfilters-1.4.3\n",
      "  Attempting uninstall: nbclient\n",
      "    Found existing installation: nbclient 0.5.3\n",
      "    Uninstalling nbclient-0.5.3:\n",
      "      Successfully uninstalled nbclient-0.5.3\n",
      "  Attempting uninstall: mistune\n",
      "    Found existing installation: mistune 0.8.4\n",
      "    Uninstalling mistune-0.8.4:\n",
      "      Successfully uninstalled mistune-0.8.4\n",
      "  Attempting uninstall: jupyterlab-pygments\n",
      "    Found existing installation: jupyterlab-pygments 0.1.2\n",
      "    Uninstalling jupyterlab-pygments-0.1.2:\n",
      "      Successfully uninstalled jupyterlab-pygments-0.1.2\n",
      "  Attempting uninstall: jinja2\n",
      "    Found existing installation: Jinja2 3.0.0\n",
      "    Uninstalling Jinja2-3.0.0:\n",
      "      Successfully uninstalled Jinja2-3.0.0\n",
      "  Attempting uninstall: h5py\n",
      "    Found existing installation: h5py 3.1.0\n",
      "    Uninstalling h5py-3.1.0:\n",
      "      Successfully uninstalled h5py-3.1.0\n",
      "  Attempting uninstall: entrypoints\n",
      "    Found existing installation: entrypoints 0.3\n",
      "    Uninstalling entrypoints-0.3:\n",
      "      Successfully uninstalled entrypoints-0.3\n",
      "  Attempting uninstall: defusedxml\n",
      "    Found existing installation: defusedxml 0.7.1\n",
      "    Uninstalling defusedxml-0.7.1:\n",
      "      Successfully uninstalled defusedxml-0.7.1\n",
      "  Attempting uninstall: bleach\n",
      "    Found existing installation: bleach 3.3.0\n",
      "    Uninstalling bleach-3.3.0:\n",
      "      Successfully uninstalled bleach-3.3.0\n",
      "  Attempting uninstall: py-cpuinfo\n",
      "    Found existing installation: py-cpuinfo 7.0.0\n",
      "    Uninstalling py-cpuinfo-7.0.0:\n",
      "      Successfully uninstalled py-cpuinfo-7.0.0\n",
      "  Attempting uninstall: psutil\n",
      "    Found existing installation: psutil 5.7.3\n",
      "    Uninstalling psutil-5.7.3:\n",
      "      Successfully uninstalled psutil-5.7.3\n",
      "  Attempting uninstall: nbconvert\n",
      "    Found existing installation: nbconvert 6.0.7\n",
      "    Uninstalling nbconvert-6.0.7:\n",
      "      Successfully uninstalled nbconvert-6.0.7\n",
      "  Attempting uninstall: keras\n",
      "    Found existing installation: Keras 2.4.3\n",
      "    Uninstalling Keras-2.4.3:\n",
      "      Successfully uninstalled Keras-2.4.3\n",
      "  Attempting uninstall: ait-sdk\n",
      "    Found existing installation: ait-sdk 0.1.7\n",
      "    Uninstalling ait-sdk-0.1.7:\n",
      "      Successfully uninstalled ait-sdk-0.1.7\n",
      "\u001b[31mERROR: pip's dependency resolver does not currently take into account all the packages that are installed. This behaviour is the source of the following dependency conflicts.\n",
      "tensorflow 2.3.0 requires h5py<2.11.0,>=2.10.0, but you have h5py 3.1.0 which is incompatible.\n",
      "tensorflow 2.3.0 requires numpy<1.19.0,>=1.16.0, but you have numpy 1.19.3 which is incompatible.\n",
      "tensorflow 2.3.0 requires scipy==1.4.1, but you have scipy 1.5.4 which is incompatible.\u001b[0m\n",
      "Successfully installed MarkupSafe-2.0.0 ait-sdk-0.1.7 async-generator-1.10 attrs-21.2.0 bleach-3.3.0 cached-property-1.5.2 decorator-5.0.7 defusedxml-0.7.1 entrypoints-0.3 h5py-3.1.0 importlib-metadata-4.0.1 ipython-genutils-0.2.0 jinja2-3.0.0 jsonschema-3.2.0 jupyter-client-6.1.12 jupyter-core-4.7.1 jupyterlab-pygments-0.1.2 keras-2.4.3 mistune-0.8.4 nbclient-0.5.3 nbconvert-6.0.7 nbformat-5.0.8 nest-asyncio-1.5.1 numpy-1.19.3 packaging-20.9 pandocfilters-1.4.3 psutil-5.7.3 py-cpuinfo-7.0.0 pygments-2.9.0 pyparsing-2.4.7 pyrsistent-0.17.3 python-dateutil-2.8.1 pyyaml-5.4.1 pyzmq-22.0.3 scipy-1.5.4 setuptools-56.2.0 six-1.16.0 testpath-0.4.4 tornado-6.1 traitlets-4.3.3 typing-extensions-3.10.0.0 webencodings-0.5.1 zipp-3.4.1\n",
      "\u001b[33mWARNING: Running pip as root will break packages and permissions. You should install packages reliably by using venv: https://pip.pypa.io/warnings/venv\u001b[0m\n"
     ]
    }
   ],
   "source": [
    "!pip install --upgrade pip\n",
    "!pip install --force-reinstall ../lib/ait_sdk-0.1.7-py3-none-any.whl"
   ]
  },
  {
   "cell_type": "code",
   "execution_count": 2,
   "metadata": {},
   "outputs": [],
   "source": [
    "from pathlib import Path\n",
    "import pprint\n",
    "from ait_sdk.test.hepler import Helper\n",
    "import json"
   ]
  },
  {
   "cell_type": "code",
   "execution_count": 3,
   "metadata": {},
   "outputs": [],
   "source": [
    "# settings cell\n",
    "\n",
    "# mounted dir\n",
    "root_dir = Path('/workdir/root/ait')\n",
    "\n",
    "ait_name='generate_ca_pairwise'\n",
    "ait_version='0.1'\n",
    "\n",
    "ait_full_name=f'{ait_name}_{ait_version}'\n",
    "ait_dir = root_dir / ait_full_name\n",
    "\n",
    "td_name=f'{ait_name}_test'\n",
    "\n",
    "# (dockerホスト側の)インベントリ登録用アセット格納ルートフォルダ\n",
    "current_dir = %pwd\n",
    "with open(f'{current_dir}/config.json', encoding='utf-8') as f:\n",
    "    json_ = json.load(f)\n",
    "    root_dir = json_['host_ait_root_dir']\n",
    "    is_container = json_['is_container']\n",
    "invenotory_root_dir = f'{root_dir}\\\\ait\\\\{ait_full_name}\\\\local_qai\\\\inventory'\n",
    "\n",
    "# entry point address\n",
    "# コンテナ起動かどうかでポート番号が変わるため、切り替える\n",
    "if is_container:\n",
    "    backend_entry_point = 'http://host.docker.internal:8888/qai-testbed/api/0.0.1'\n",
    "    ip_entry_point = 'http://host.docker.internal:8888/qai-ip/api/0.0.1'\n",
    "else:\n",
    "    backend_entry_point = 'http://host.docker.internal:5000/qai-testbed/api/0.0.1'\n",
    "    ip_entry_point = 'http://host.docker.internal:6000/qai-ip/api/0.0.1'\n",
    "\n",
    "# aitのデプロイフラグ\n",
    "# 一度実施すれば、それ以降は実施しなくてＯＫ\n",
    "is_init_ait = True\n",
    "\n",
    "# インベントリの登録フラグ\n",
    "# 一度実施すれば、それ以降は実施しなくてＯＫ\n",
    "is_init_inventory = True\n"
   ]
  },
  {
   "cell_type": "code",
   "execution_count": 4,
   "metadata": {},
   "outputs": [],
   "source": [
    "helper = Helper(backend_entry_point=backend_entry_point, \n",
    "                ip_entry_point=ip_entry_point,\n",
    "                ait_dir=ait_dir,\n",
    "                ait_full_name=ait_full_name)"
   ]
  },
  {
   "cell_type": "code",
   "execution_count": 5,
   "metadata": {},
   "outputs": [
    {
     "name": "stdout",
     "output_type": "stream",
     "text": [
      "<Response [200]>\n",
      "{'Code': 0, 'Message': 'alive.'}\n",
      "<Response [200]>\n",
      "{'Code': 0, 'Message': 'alive.'}\n"
     ]
    },
    {
     "data": {
      "text/plain": [
       "<Response [200]>"
      ]
     },
     "execution_count": 5,
     "metadata": {},
     "output_type": "execute_result"
    }
   ],
   "source": [
    "# health check\n",
    "\n",
    "helper.get_bk('/health-check')\n",
    "helper.get_ip('/health-check')"
   ]
  },
  {
   "cell_type": "code",
   "execution_count": 6,
   "metadata": {},
   "outputs": [
    {
     "name": "stdout",
     "output_type": "stream",
     "text": [
      "<Response [200]>\n",
      "{'MLComponentId': 9,\n",
      " 'Result': {'Code': 'P22000', 'Message': 'add ml-component success.'}}\n"
     ]
    }
   ],
   "source": [
    "# create ml-component\n",
    "res = helper.post_ml_component(name=f'MLComponent_{ait_full_name}', description=f'Description of {ait_full_name}', problem_domain=f'ProbremDomain of {ait_full_name}')\n",
    "helper.set_ml_component_id(res['MLComponentId'])"
   ]
  },
  {
   "cell_type": "code",
   "execution_count": 7,
   "metadata": {
    "scrolled": true
   },
   "outputs": [
    {
     "name": "stdout",
     "output_type": "stream",
     "text": [
      "<Response [400]>\n",
      "{'Code': 'T54000', 'Message': 'already exist ait = generate_ca_pairwise-0.1'}\n",
      "<Response [200]>\n",
      "{'Code': 'D00001', 'Message': 'Deploy success'}\n"
     ]
    }
   ],
   "source": [
    "# deploy AIT\n",
    "if is_init_ait:\n",
    "    helper.deploy_ait_non_build()\n",
    "else:\n",
    "    print('skip deploy AIT')"
   ]
  },
  {
   "cell_type": "code",
   "execution_count": 8,
   "metadata": {},
   "outputs": [],
   "source": [
    "res = helper.get_data_types()\n",
    "model_data_type_id = [d for d in res['DataTypes'] if d['Name'] == 'model'][0]['Id']\n",
    "dataset_data_type_id = [d for d in res['DataTypes'] if d['Name'] == 'dataset'][0]['Id']\n",
    "res = helper.get_file_systems()\n",
    "unix_file_system_id = [f for f in res['FileSystems'] if f['Name'] == 'UNIX_FILE_SYSTEM'][0]['Id']\n",
    "windows_file_system_id = [f for f in res['FileSystems'] if f['Name'] == 'WINDOWS_FILE'][0]['Id']"
   ]
  },
  {
   "cell_type": "code",
   "execution_count": 9,
   "metadata": {},
   "outputs": [
    {
     "name": "stdout",
     "output_type": "stream",
     "text": [
      "<Response [200]>\n",
      "{'result': {'Code': 'I22000', 'Message': 'append Inventory success.'}}\n"
     ]
    }
   ],
   "source": [
    "# add inventories\n",
    "\n",
    "if is_init_inventory:\n",
    "    inv1_name = helper.post_inventory('pair_wise_model', dataset_data_type_id, windows_file_system_id, \n",
    "                                      f'{invenotory_root_dir}\\\\pair_wise_model\\\\model.txt',\n",
    "                                      'pair_wise_model data set', ['txt'])\n",
    "else:\n",
    "    print('skip add inventories')"
   ]
  },
  {
   "cell_type": "code",
   "execution_count": 10,
   "metadata": {},
   "outputs": [
    {
     "name": "stdout",
     "output_type": "stream",
     "text": [
      "<Response [200]>\n",
      "<Response [200]>\n",
      "<Response [200]>\n"
     ]
    }
   ],
   "source": [
    "# get ait_json and inventory_jsons\n",
    "\n",
    "res_json = helper.get_bk('/QualityMeasurements/RelationalOperators', is_print_json=False).json()\n",
    "eq_id = int([r['Id'] for r in res_json['RelationalOperator'] if r['Expression'] == '=='][0])\n",
    "nq_id = int([r['Id'] for r in res_json['RelationalOperator'] if r['Expression'] == '!='][0])\n",
    "gt_id = int([r['Id'] for r in res_json['RelationalOperator'] if r['Expression'] == '>'][0])\n",
    "ge_id = int([r['Id'] for r in res_json['RelationalOperator'] if r['Expression'] == '>='][0])\n",
    "lt_id = int([r['Id'] for r in res_json['RelationalOperator'] if r['Expression'] == '<'][0])\n",
    "le_id = int([r['Id'] for r in res_json['RelationalOperator'] if r['Expression'] == '<='][0])\n",
    "\n",
    "res_json = helper.get_bk('/testRunners', is_print_json=False).json()\n",
    "ait_json = [j for j in res_json['TestRunners'] if j['Name'] == ait_name][-1]\n",
    "\n",
    "inv_1_json = helper.get_inventory(inv1_name)"
   ]
  },
  {
   "cell_type": "code",
   "execution_count": 11,
   "metadata": {},
   "outputs": [
    {
     "name": "stdout",
     "output_type": "stream",
     "text": [
      "<Response [200]>\n",
      "{'Result': {'Code': 'T22000', 'Message': 'append test description success.'}}\n"
     ]
    }
   ],
   "source": [
    "# add teast_descriptions\n",
    "\n",
    "helper.post_td(td_name, 2,\n",
    "               quality_measurements=[],\n",
    "               target_inventories=[\n",
    "                {\"Id\":1, \"InventoryId\": inv_1_json['Id'], \"TemplateInventoryId\": ait_json['TargetInventories'][0]['Id']}\n",
    "               ],\n",
    "               test_runner={\n",
    "                \"Id\":ait_json['Id'],\n",
    "                \"Params\":[\n",
    "                    {\"TestRunnerParamTemplateId\":ait_json['ParamTemplates'][0]['Id'], \"Value\":\"4\"},\n",
    "                    {\"TestRunnerParamTemplateId\":ait_json['ParamTemplates'][1]['Id'], \"Value\":\"10\"}\n",
    "                ]\n",
    "               })"
   ]
  },
  {
   "cell_type": "code",
   "execution_count": 12,
   "metadata": {},
   "outputs": [
    {
     "name": "stdout",
     "output_type": "stream",
     "text": [
      "<Response [200]>\n"
     ]
    }
   ],
   "source": [
    "# get test_description_jsons\n",
    "td_1_json = helper.get_td(td_name)"
   ]
  },
  {
   "cell_type": "code",
   "execution_count": 13,
   "metadata": {
    "scrolled": true
   },
   "outputs": [
    {
     "name": "stdout",
     "output_type": "stream",
     "text": [
      "<Response [200]>\n",
      "{'Job': {'Id': '8', 'StartDateTime': '2021-05-12 09:18:01.454204+09:00'},\n",
      " 'Result': {'Code': 'R12000', 'Message': 'job launch success.'}}\n",
      "[{'Id': 8,\n",
      "  'Result': 'OK',\n",
      "  'ResultDetail': 'No Measure',\n",
      "  'Status': 'DONE',\n",
      "  'TestDescriptionID': 9}]\n"
     ]
    }
   ],
   "source": [
    "# run test_descriptions\n",
    "helper.post_run_and_wait(td_1_json['Id'])"
   ]
  },
  {
   "cell_type": "code",
   "execution_count": 14,
   "metadata": {},
   "outputs": [
    {
     "name": "stdout",
     "output_type": "stream",
     "text": [
      "<Response [200]>\n",
      "{'Result': {'Code': 'T32000', 'Message': 'get detail success.'},\n",
      " 'TestDescriptionDetail': {'Id': 9,\n",
      "                           'Name': 'generate_ca_pairwise_test',\n",
      "                           'Opinion': '',\n",
      "                           'QualityDimension': {'Id': 2,\n",
      "                                                'Name': 'Coverage_for_distinguished_problem_cases'},\n",
      "                           'QualityMeasurements': [],\n",
      "                           'Star': False,\n",
      "                           'TargetInventories': [{'DataType': {'Id': 1,\n",
      "                                                               'Name': 'dataset'},\n",
      "                                                  'Description': 'pair_wise_model '\n",
      "                                                                 'data set',\n",
      "                                                  'Id': 15,\n",
      "                                                  'Name': 'generate_ca_pairwise_0.1_pair_wise_model',\n",
      "                                                  'TemplateInventoryId': 35}],\n",
      "                           'TestDescriptionResult': {'Detail': 'No Measure',\n",
      "                                                     'Downloads': [{'Description': 'AIT '\n",
      "                                                                                   'execute '\n",
      "                                                                                   'log',\n",
      "                                                                    'DownloadURL': 'http://127.0.0.1:8888/qai-testbed/api/0.0.1/download/34',\n",
      "                                                                    'FileName': 'ait.log',\n",
      "                                                                    'Id': 5,\n",
      "                                                                    'Name': 'Log'}],\n",
      "                                                     'Graphs': [{'Description': 'PICT '\n",
      "                                                                                'generate '\n",
      "                                                                                'pair-wise.',\n",
      "                                                                 'FileName': 'pair-wise.csv',\n",
      "                                                                 'Graph': 'http://127.0.0.1:8888/qai-testbed/api/0.0.1/download/33',\n",
      "                                                                 'GraphType': 'table',\n",
      "                                                                 'Id': 22,\n",
      "                                                                 'Name': 'generated_paie_wise',\n",
      "                                                                 'ReportIndex': 1,\n",
      "                                                                 'ReportName': 'generated_paie_wise',\n",
      "                                                                 'ReportRequired': True}],\n",
      "                                                     'LogFile': 'http://127.0.0.1:8888/qai-testbed/api/0.0.1/download/35',\n",
      "                                                     'Summary': 'OK'},\n",
      "                           'TestRunner': {'Author': 'AIST',\n",
      "                                          'Description': '\\n'\n",
      "                                                         '    The AIT is '\n",
      "                                                         'generate pair-wise '\n",
      "                                                         'combination for '\n",
      "                                                         'PICT.\\n'\n",
      "                                                         '    ',\n",
      "                                          'Email': '',\n",
      "                                          'Id': 16,\n",
      "                                          'LandingPage': '',\n",
      "                                          'Name': 'generate_ca_pairwise',\n",
      "                                          'Params': [{'Id': 14,\n",
      "                                                      'Name': 'order_combination',\n",
      "                                                      'TestRunnerParamTemplateId': 50,\n",
      "                                                      'Value': '4'},\n",
      "                                                     {'Id': 15,\n",
      "                                                      'Name': 'seed',\n",
      "                                                      'TestRunnerParamTemplateId': 51,\n",
      "                                                      'Value': '10'}],\n",
      "                                          'Quality': 'https://airc.aist.go.jp/aiqm/quality/internal/Coverage_for_distinguished_problem_cases',\n",
      "                                          'Version': '0.1'}}}\n"
     ]
    }
   ],
   "source": [
    "res_json = helper.get_td_detail(td_1_json['Id'])\n",
    "pprint.pprint(res_json)"
   ]
  },
  {
   "cell_type": "code",
   "execution_count": 15,
   "metadata": {},
   "outputs": [
    {
     "name": "stdout",
     "output_type": "stream",
     "text": [
      "<Response [200]>\n",
      "{'OutParams': {'ReportUrl': 'http://127.0.0.1:8888/qai-testbed/api/0.0.1/download/36'},\n",
      " 'Result': {'Code': 'D12000', 'Message': 'command invoke success.'}}\n"
     ]
    }
   ],
   "source": [
    "# generate report\n",
    "res = helper.post_report(td_1_json['Id'])"
   ]
  },
  {
   "cell_type": "code",
   "execution_count": null,
   "metadata": {},
   "outputs": [],
   "source": []
  }
 ],
 "metadata": {
  "kernelspec": {
   "display_name": "Python 3",
   "language": "python",
   "name": "python3"
  },
  "language_info": {
   "codemirror_mode": {
    "name": "ipython",
    "version": 3
   },
   "file_extension": ".py",
   "mimetype": "text/x-python",
   "name": "python",
   "nbconvert_exporter": "python",
   "pygments_lexer": "ipython3",
   "version": "3.6.9"
  }
 },
 "nbformat": 4,
 "nbformat_minor": 4
}
