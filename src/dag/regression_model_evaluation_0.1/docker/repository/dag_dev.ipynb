{
 "cells": [
  {
   "cell_type": "markdown",
   "metadata": {},
   "source": [
    "# 作成したプログラムのテスト用jupyter notebookです "
   ]
  },
  {
   "cell_type": "code",
   "execution_count": 1,
   "metadata": {},
   "outputs": [
    {
     "name": "stdout",
     "output_type": "stream",
     "text": [
      "Collecting pip\n",
      "\u001b[?25l  Downloading https://files.pythonhosted.org/packages/43/84/23ed6a1796480a6f1a2d38f2802901d078266bda38388954d01d3f2e821d/pip-20.1.1-py2.py3-none-any.whl (1.5MB)\n",
      "\u001b[K     |████████████████████████████████| 1.5MB 1.9MB/s eta 0:00:01\n",
      "\u001b[?25hInstalling collected packages: pip\n",
      "  Found existing installation: pip 19.3.1\n",
      "    Uninstalling pip-19.3.1:\n",
      "      Successfully uninstalled pip-19.3.1\n",
      "Successfully installed pip-20.1.1\n",
      "Collecting pandas\n",
      "  Downloading pandas-1.0.3-cp36-cp36m-manylinux1_x86_64.whl (10.0 MB)\n",
      "\u001b[K     |████████████████████████████████| 10.0 MB 6.9 MB/s eta 0:00:01    |████▎                           | 1.4 MB 1.3 MB/s eta 0:00:07\n",
      "\u001b[?25hRequirement already satisfied: python-dateutil>=2.6.1 in /usr/local/lib/python3.6/dist-packages (from pandas) (2.8.1)\n",
      "Collecting pytz>=2017.2\n",
      "  Downloading pytz-2020.1-py2.py3-none-any.whl (510 kB)\n",
      "\u001b[K     |████████████████████████████████| 510 kB 5.1 MB/s eta 0:00:01\n",
      "\u001b[?25hRequirement already satisfied: numpy>=1.13.3 in /usr/local/lib/python3.6/dist-packages (from pandas) (1.18.1)\n",
      "Requirement already satisfied: six>=1.5 in /usr/local/lib/python3.6/dist-packages (from python-dateutil>=2.6.1->pandas) (1.13.0)\n",
      "Installing collected packages: pytz, pandas\n",
      "Successfully installed pandas-1.0.3 pytz-2020.1\n",
      "Collecting sklearn\n",
      "  Downloading sklearn-0.0.tar.gz (1.1 kB)\n",
      "Collecting scikit-learn\n",
      "  Downloading scikit_learn-0.23.1-cp36-cp36m-manylinux1_x86_64.whl (6.8 MB)\n",
      "\u001b[K     |████████████████████████████████| 6.8 MB 716 kB/s eta 0:00:01\n",
      "\u001b[?25hCollecting threadpoolctl>=2.0.0\n",
      "  Downloading threadpoolctl-2.0.0-py3-none-any.whl (34 kB)\n",
      "Collecting joblib>=0.11\n",
      "  Downloading joblib-0.15.1-py3-none-any.whl (298 kB)\n",
      "\u001b[K     |████████████████████████████████| 298 kB 3.0 MB/s eta 0:00:01\n",
      "\u001b[?25hRequirement already satisfied: numpy>=1.13.3 in /usr/local/lib/python3.6/dist-packages (from scikit-learn->sklearn) (1.18.1)\n",
      "Requirement already satisfied: scipy>=0.19.1 in /usr/local/lib/python3.6/dist-packages (from scikit-learn->sklearn) (1.4.1)\n",
      "Building wheels for collected packages: sklearn\n",
      "  Building wheel for sklearn (setup.py) ... \u001b[?25ldone\n",
      "\u001b[?25h  Created wheel for sklearn: filename=sklearn-0.0-py2.py3-none-any.whl size=2397 sha256=8bdd452890b3c8acca99b40e1ee20fc41a72cac5c72d456a23e7084425d48b5b\n",
      "  Stored in directory: /root/.cache/pip/wheels/23/9d/42/5ec745cbbb17517000a53cecc49d6a865450d1f5cb16dc8a9c\n",
      "Successfully built sklearn\n",
      "Installing collected packages: threadpoolctl, joblib, scikit-learn, sklearn\n",
      "Successfully installed joblib-0.15.1 scikit-learn-0.23.1 sklearn-0.0 threadpoolctl-2.0.0\n",
      "Requirement already satisfied: numpy in /usr/local/lib/python3.6/dist-packages (1.18.1)\n",
      "\u001b[31mERROR: Could not find a version that satisfies the requirement json (from versions: none)\u001b[0m\n",
      "\u001b[31mERROR: No matching distribution found for json\u001b[0m\n",
      "\u001b[31mERROR: Could not find a version that satisfies the requirement shutil (from versions: none)\u001b[0m\n",
      "\u001b[31mERROR: No matching distribution found for shutil\u001b[0m\n"
     ]
    }
   ],
   "source": [
    "!pip install --upgrade pip\n",
    "!pip install pandas\n",
    "!pip install sklearn\n",
    "!pip install numpy\n",
    "!pip install json\n",
    "!pip install shutil"
   ]
  },
  {
   "cell_type": "code",
   "execution_count": 2,
   "metadata": {},
   "outputs": [
    {
     "name": "stdout",
     "output_type": "stream",
     "text": [
      "/tf/repository/workdir/inventory\n",
      "/tf/repository/workdir/inventory\n"
     ]
    }
   ],
   "source": [
    "from pathlib import Path\n",
    "work_dir = Path.cwd() / 'workdir'\n",
    "if not work_dir.exists():\n",
    "    work_dir.mkdir()\n",
    "\n",
    "# prepare args\n",
    "args_dir = work_dir / 'args'\n",
    "if not args_dir.exists():\n",
    "    args_dir.mkdir()\n",
    "\n",
    "# prepare inventory\n",
    "inventory_dir = work_dir / 'inventory'\n",
    "if not inventory_dir.exists():\n",
    "    inventory_dir.mkdir()\n",
    "print(inventory_dir)\n",
    "# prepare result\n",
    "result_dir = work_dir / 'result'\n",
    "if not result_dir.exists():\n",
    "    result_dir.mkdir()\n",
    "print(inventory_dir)"
   ]
  },
  {
   "cell_type": "code",
   "execution_count": 4,
   "metadata": {},
   "outputs": [
    {
     "name": "stdout",
     "output_type": "stream",
     "text": [
      "/tf/repository/workdir/args\n",
      "/tf/repository/workdir/inventory\n",
      "/tf/repository/workdir/inventory/dataset/boston_housing.npz\n",
      "/tf/repository/workdir/inventory/tf_model/model.h5\n"
     ]
    }
   ],
   "source": [
    "dummy_file_path = inventory_dir\n",
    "if not dummy_file_path.parent.exists():\n",
    "    dummy_file_path.parent.mkdir()\n",
    "\n",
    "dataset_pass = inventory_dir / 'dataset' / 'boston_housing.npz'\n",
    "model_str_path = inventory_dir / 'tf_model' / 'model.h5'\n",
    "\n",
    "print(args_dir)\n",
    "print(inventory_dir)\n",
    "print(dataset_pass)\n",
    "print(model_str_path)\n",
    "\n",
    "# with open(str(dummy_file_path), mode='w') as f:\n",
    "#     f.write('dummy_inventory,hello_world')"
   ]
  },
  {
   "cell_type": "code",
   "execution_count": 5,
   "metadata": {},
   "outputs": [],
   "source": [
    "from pathlib import Path\n",
    "import json\n",
    "\n",
    "args_file = args_dir / 'args.json'\n",
    "args_file_str = str(args_file)\n",
    "\n",
    "args_json = {}\n",
    "\n",
    "mounts = []\n",
    "mounts.append({\"name\": \"args_dir\", \"dst_path\": str(args_dir)})\n",
    "mounts.append({\"name\": \"result_dir\", \"dst_path\": str(result_dir)})\n",
    "mounts.append({\"name\": \"inv_data_set\", \"dst_path\": str(dummy_file_path)})\n",
    "args_json['mounts'] = mounts\n",
    "\n",
    "method_params = []\n",
    "method_params.append({'name': 'aaa', 'value': 'bbb'})\n",
    "args_json['method_params'] = {}\n",
    "\n",
    "cond_params = []\n",
    "cond_params.append({'name': 'ccc', 'value': 'ddd'})\n",
    "args_json['condition_params'] = cond_params\n",
    "\n",
    "inventories=[\n",
    "    {'name': 'data_set', 'value': str(dataset_pass)},\n",
    "    {'name': 'model_str', 'value': str(model_str_path)}\n",
    "            ]\n",
    "\n",
    "args_json['inventories'] = inventories\n",
    "\n",
    "with open(str(args_file), 'w') as f:\n",
    "    json.dump(args_json, f, indent=4)"
   ]
  },
  {
   "cell_type": "code",
   "execution_count": 6,
   "metadata": {},
   "outputs": [
    {
     "name": "stdout",
     "output_type": "stream",
     "text": [
      "Coverage test-runner\n",
      "args[0]:entrypoint.py\n",
      "args[1]:/tf/repository/workdir/args/args.json\n",
      "args_file:/tf/repository/workdir/args/args.json\n",
      "True - args_file:/tf/repository/workdir/args/args.json\n",
      "inventory_dir:/tf/repository/workdir/args\n",
      "result_dir:/tf/repository/workdir/result\n",
      "False - src_dir:/tf/repository/dummy_result_data\n",
      "True - result_dir:/tf/repository/workdir/result\n",
      "WARNING:tensorflow:No training configuration found in save file: the model was *not* compiled. Compile it manually.\n",
      "MAE 2.873683941598032\n",
      "MAPE 13.392840859817245\n",
      "RMSE 4.771488621509836\n",
      "R2 21.839984988718417\n"
     ]
    }
   ],
   "source": [
    "run entrypoint $args_file_str"
   ]
  },
  {
   "cell_type": "code",
   "execution_count": null,
   "metadata": {},
   "outputs": [],
   "source": []
  }
 ],
 "metadata": {
  "kernelspec": {
   "display_name": "Python 3",
   "language": "python",
   "name": "python3"
  },
  "language_info": {
   "codemirror_mode": {
    "name": "ipython",
    "version": 3
   },
   "file_extension": ".py",
   "mimetype": "text/x-python",
   "name": "python",
   "nbconvert_exporter": "python",
   "pygments_lexer": "ipython3",
   "version": "3.6.9"
  }
 },
 "nbformat": 4,
 "nbformat_minor": 4
}
