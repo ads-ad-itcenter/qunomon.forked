{
 "cells": [
  {
   "cell_type": "markdown",
   "metadata": {},
   "source": [
    "# 作成したプログラムのテスト用jupyter notebookです "
   ]
  },
  {
   "cell_type": "markdown",
   "metadata": {},
   "source": [
    "## `repository/requirements.txt`にあるライブラリをインストール"
   ]
  },
  {
   "cell_type": "code",
   "execution_count": 2,
   "metadata": {},
   "outputs": [],
   "source": [
    "%%capture\n",
    "!pip install -r ../repository/requirements.txt"
   ]
  },
  {
   "cell_type": "markdown",
   "metadata": {},
   "source": [
    "## パッケージインポート"
   ]
  },
  {
   "cell_type": "code",
   "execution_count": 3,
   "metadata": {},
   "outputs": [
    {
     "name": "stdout",
     "output_type": "stream",
     "text": [
      "args_file:/usr/local/qai/args/args.json\n"
     ]
    }
   ],
   "source": [
    "import os\n",
    "import math\n",
    "import numpy as np\n",
    "from tensorflow.keras import models\n",
    "import pickle\n",
    "import json\n",
    "\n",
    "# from runnertools import runner_io\n",
    "import runner_io"
   ]
  },
  {
   "cell_type": "markdown",
   "metadata": {},
   "source": [
    "## ファイルパス読み込み"
   ]
  },
  {
   "cell_type": "markdown",
   "metadata": {},
   "source": [
    "- モデル"
   ]
  },
  {
   "cell_type": "code",
   "execution_count": 4,
   "metadata": {},
   "outputs": [
    {
     "name": "stdout",
     "output_type": "stream",
     "text": [
      "WARNING:tensorflow:From /usr/local/lib/python3.6/site-packages/tensorflow_core/python/ops/init_ops.py:97: calling GlorotUniform.__init__ (from tensorflow.python.ops.init_ops) with dtype is deprecated and will be removed in a future version.\n",
      "Instructions for updating:\n",
      "Call initializer instance with the dtype argument instead of passing it to the constructor\n",
      "WARNING:tensorflow:From /usr/local/lib/python3.6/site-packages/tensorflow_core/python/ops/init_ops.py:97: calling Zeros.__init__ (from tensorflow.python.ops.init_ops) with dtype is deprecated and will be removed in a future version.\n",
      "Instructions for updating:\n",
      "Call initializer instance with the dtype argument instead of passing it to the constructor\n",
      "WARNING:tensorflow:From /usr/local/lib/python3.6/site-packages/tensorflow_core/python/ops/resource_variable_ops.py:1630: calling BaseResourceVariable.__init__ (from tensorflow.python.ops.resource_variable_ops) with constraint is deprecated and will be removed in a future version.\n",
      "Instructions for updating:\n",
      "If using Keras pass *_constraint arguments to layers.\n"
     ]
    }
   ],
   "source": [
    "model_path = runner_io.inventory('model_inventory_bbb')[0]\n",
    "model = models.load_model(model_path)"
   ]
  },
  {
   "cell_type": "markdown",
   "metadata": {},
   "source": [
    "- データ"
   ]
  },
  {
   "cell_type": "code",
   "execution_count": 5,
   "metadata": {},
   "outputs": [],
   "source": [
    "data_path = runner_io.inventory('data_inventory_aaa')[0]\n",
    "f = open(data_path, 'rb')\n",
    "(x_train, y_train), (x_test, y_test) = pickle.load(f)\n",
    "f.close()"
   ]
  },
  {
   "cell_type": "markdown",
   "metadata": {},
   "source": [
    "## 引数の読み込み\n",
    "* 引数の読み込み部分は要検討の事柄が多いので、暫定的なコードになります"
   ]
  },
  {
   "cell_type": "code",
   "execution_count": 6,
   "metadata": {},
   "outputs": [
    {
     "data": {
      "text/plain": [
       "123"
      ]
     },
     "execution_count": 6,
     "metadata": {},
     "output_type": "execute_result"
    }
   ],
   "source": [
    "runner_io.arg('a')"
   ]
  },
  {
   "cell_type": "markdown",
   "metadata": {},
   "source": [
    "## 推論"
   ]
  },
  {
   "cell_type": "code",
   "execution_count": 7,
   "metadata": {},
   "outputs": [],
   "source": [
    "result_list = model.predict(x_test)"
   ]
  },
  {
   "cell_type": "markdown",
   "metadata": {},
   "source": [
    "## データ計測"
   ]
  },
  {
   "cell_type": "markdown",
   "metadata": {},
   "source": [
    "### 数式表示用パッケージ"
   ]
  },
  {
   "cell_type": "code",
   "execution_count": 8,
   "metadata": {},
   "outputs": [],
   "source": [
    "from IPython.display import display, Math"
   ]
  },
  {
   "cell_type": "markdown",
   "metadata": {},
   "source": [
    "### 度数分布計測"
   ]
  },
  {
   "cell_type": "code",
   "execution_count": 9,
   "metadata": {},
   "outputs": [],
   "source": [
    "sections = 25\n",
    "y_max = max(max(result_list), max(y_test))\n",
    "sec_width = y_max/sections\n",
    "sec_typicals = []\n",
    "for i in range(sections):\n",
    "    typical = (i+0.5)*sec_width\n",
    "    sec_typicals.append(typical)\n",
    "sec_typicals = np.array(sec_typicals)\n",
    "actual_freq = np.zeros(sections)\n",
    "result_freq = np.zeros(sections)\n",
    "def sec_index(y):\n",
    "    if y==y_max:\n",
    "        return (sections-1)\n",
    "    index = int(y/sec_width)\n",
    "    return index\n",
    "for y in y_test:\n",
    "    index = sec_index(y)\n",
    "    actual_freq[index] += 1\n",
    "for result in result_list:\n",
    "    index = sec_index(result)\n",
    "    result_freq[index] += 1\n",
    "actual_freq /= len(y_test)\n",
    "result_freq /= len(result_list)"
   ]
  },
  {
   "cell_type": "markdown",
   "metadata": {},
   "source": [
    "### MSE(Mean Squared Error, 平均二乗誤差), MAE(Mean Absolute Error, 平均絶対誤差)"
   ]
  },
  {
   "cell_type": "code",
   "execution_count": 10,
   "metadata": {},
   "outputs": [
    {
     "data": {
      "text/latex": [
       "$\\displaystyle \\text{MSE} = 15.706887189079733$"
      ],
      "text/plain": [
       "<IPython.core.display.Math object>"
      ]
     },
     "metadata": {},
     "output_type": "display_data"
    },
    {
     "data": {
      "text/latex": [
       "$\\displaystyle \\text{MAE} = 2.5012147$"
      ],
      "text/plain": [
       "<IPython.core.display.Math object>"
      ]
     },
     "metadata": {},
     "output_type": "display_data"
    }
   ],
   "source": [
    "mse, mae = model.evaluate(x_test, y_test, verbose=0)\n",
    "display(Math('\\\\text{MSE} = ' + str(mse)))\n",
    "display(Math('\\\\text{MAE} = ' + str(mae)))"
   ]
  },
  {
   "cell_type": "markdown",
   "metadata": {},
   "source": [
    "### カルバック・ライブラー情報量"
   ]
  },
  {
   "cell_type": "code",
   "execution_count": 11,
   "metadata": {},
   "outputs": [
    {
     "data": {
      "text/latex": [
       "$\\displaystyle D_\\text{KL} = 0.13343211460235188$"
      ],
      "text/plain": [
       "<IPython.core.display.Math object>"
      ]
     },
     "metadata": {},
     "output_type": "display_data"
    }
   ],
   "source": [
    "kl_div = 0.0\n",
    "for i in range(sections):\n",
    "    f_i = float(result_freq[i])\n",
    "    g_i = float(actual_freq[i])\n",
    "    if not(f_i<=0) and not(g_i<=0):\n",
    "        kl_div += f_i*math.log(f_i/g_i)\n",
    "\n",
    "display(Math('D_\\\\text{KL} = ' + str(kl_div)))"
   ]
  },
  {
   "cell_type": "markdown",
   "metadata": {},
   "source": [
    "## 結果保存"
   ]
  },
  {
   "cell_type": "markdown",
   "metadata": {},
   "source": [
    "### 計測値保存"
   ]
  },
  {
   "cell_type": "code",
   "execution_count": 12,
   "metadata": {},
   "outputs": [],
   "source": [
    "os.makedirs('artifact', exist_ok=True)\n",
    "\n",
    "result_text_path = 'artifact/result.txt'\n",
    "with open(result_text_path, 'w') as f:\n",
    "    f.write('  MSE=' + str(mse))\n",
    "    f.write('  MAE=' + str(mae))\n",
    "    f.write('  KL divergence(f,g)=' + str(kl_div))\n",
    "runner_io.output(result_text_path)\n",
    "\n",
    "result_json_path = 'artifact/result.json'\n",
    "with open(result_json_path, 'w') as f:\n",
    "    result_json = {\n",
    "                    \"MSE\":    float(mse),\n",
    "                    \"MAE\":    float(mae),\n",
    "                    \"KL_div\": float(kl_div)\n",
    "                }\n",
    "    json.dump(result_json, f)\n",
    "runner_io.output(result_json_path)"
   ]
  },
  {
   "cell_type": "markdown",
   "metadata": {},
   "source": [
    "### グラフとして保存"
   ]
  },
  {
   "cell_type": "code",
   "execution_count": 13,
   "metadata": {},
   "outputs": [],
   "source": [
    "import matplotlib.pyplot as plt\n",
    "marker='o'\n",
    "markersize=5\n",
    "fillstyle=\"none\""
   ]
  },
  {
   "cell_type": "markdown",
   "metadata": {},
   "source": [
    "### 実際と予測値の価格分布の比較"
   ]
  },
  {
   "cell_type": "code",
   "execution_count": 14,
   "metadata": {},
   "outputs": [
    {
     "data": {
      "image/png": "[encoded data removed]",
      "text/plain": [
       "<Figure size 432x288 with 1 Axes>"
      ]
     },
     "metadata": {
      "needs_background": "light"
     },
     "output_type": "display_data"
    }
   ],
   "source": [
    "graph_label = {\n",
    "                'actual':     r'$f$: actual', \n",
    "                'regression': r'$g$: regression'\n",
    "              }\n",
    "title=r'Price Distribution (${\\it Boston \\ Housing \\ Regression}$)'\n",
    "xlabel=r'$x$ = Price [\\$]'\n",
    "ylabel=r'Prob($x$)'\n",
    "plt.plot(sec_typicals, actual_freq, marker=marker, markersize=markersize ,fillstyle=fillstyle, label=graph_label['actual'])\n",
    "plt.plot(sec_typicals, result_freq, marker=marker, markersize=markersize ,fillstyle=fillstyle, label=graph_label['regression'])\n",
    "plt.title(title)\n",
    "plt.xlabel(xlabel)\n",
    "plt.ylabel(ylabel)\n",
    "plt.legend()\n",
    "\n",
    "plt.savefig('artifact/regression_result_distribution.png')\n",
    "plt.savefig('artifact/regression_result_distribution.svg')\n",
    "plt.savefig('artifact/regression_result_distribution.pdf')\n",
    "\n",
    "runner_io.output('artifact/regression_result_distribution.png')\n",
    "runner_io.output('artifact/regression_result_distribution.svg')\n",
    "runner_io.output('artifact/regression_result_distribution.pdf')"
   ]
  },
  {
   "cell_type": "markdown",
   "metadata": {},
   "source": [
    "### 実際と予測値の価格をそれぞれ軸に取ったときの散布図"
   ]
  },
  {
   "cell_type": "code",
   "execution_count": 15,
   "metadata": {},
   "outputs": [
    {
     "data": {
      "image/png": "[encoded data removed]",
      "text/plain": [
       "<Figure size 432x288 with 1 Axes>"
      ]
     },
     "metadata": {
      "needs_background": "light"
     },
     "output_type": "display_data"
    }
   ],
   "source": [
    "plt.figure()\n",
    "xlabel=r'Actual Price [\\$]'\n",
    "ylabel=r'Regressioned Price [\\$]'\n",
    "marker='o'\n",
    "markersize=8\n",
    "fillstyle=\"none\"\n",
    "g = plt.subplot()\n",
    "plt.xlabel(xlabel)\n",
    "plt.ylabel(ylabel)\n",
    "g.set_aspect('equal')\n",
    "g.scatter(y_test, result_list.T[0], marker=marker)\n",
    "\n",
    "plt.savefig('artifact/scatter.png')\n",
    "plt.savefig('artifact/scatter.svg')\n",
    "plt.savefig('artifact/scatter.pdf')\n",
    "\n",
    "runner_io.output('artifact/scatter.png')\n",
    "runner_io.output('artifact/scatter.svg')\n",
    "runner_io.output('artifact/scatter.pdf')"
   ]
  },
  {
   "cell_type": "code",
   "execution_count": null,
   "metadata": {},
   "outputs": [],
   "source": []
  }
 ],
 "metadata": {
  "kernelspec": {
   "display_name": "Python 3",
   "language": "python",
   "name": "python3"
  },
  "language_info": {
   "codemirror_mode": {
    "name": "ipython",
    "version": 3
   },
   "file_extension": ".py",
   "mimetype": "text/x-python",
   "name": "python",
   "nbconvert_exporter": "python",
   "pygments_lexer": "ipython3",
   "version": "3.6.10"
  }
 },
 "nbformat": 4,
 "nbformat_minor": 4
}
