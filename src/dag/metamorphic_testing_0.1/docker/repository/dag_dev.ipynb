{
 "cells": [
  {
   "cell_type": "markdown",
   "metadata": {},
   "source": [
    "# 作成したプログラムのテスト用jupyter notebookです "
   ]
  },
  {
   "cell_type": "code",
   "execution_count": 7,
   "metadata": {},
   "outputs": [
    {
     "name": "stdout",
     "output_type": "stream",
     "text": [
      "Requirement already up-to-date: pip in /usr/local/lib/python3.6/dist-packages (20.1)\n",
      "Requirement already satisfied: bleach==1.5.0 in /usr/local/lib/python3.6/dist-packages (from -r requirements.txt (line 1)) (1.5.0)\n",
      "Requirement already satisfied: cycler==0.10.0 in /usr/local/lib/python3.6/dist-packages (from -r requirements.txt (line 2)) (0.10.0)\n",
      "Requirement already satisfied: decorator==4.1.2 in /usr/local/lib/python3.6/dist-packages (from -r requirements.txt (line 3)) (4.1.2)\n",
      "Requirement already satisfied: h5py==2.9.0 in /usr/local/lib/python3.6/dist-packages (from -r requirements.txt (line 4)) (2.9.0)\n",
      "Requirement already satisfied: html5lib==0.9999999 in /usr/local/lib/python3.6/dist-packages (from -r requirements.txt (line 5)) (0.9999999)\n",
      "Requirement already satisfied: Keras==2.0.8 in /usr/local/lib/python3.6/dist-packages (from -r requirements.txt (line 6)) (2.0.8)\n",
      "Requirement already satisfied: Markdown==2.6.9 in /usr/local/lib/python3.6/dist-packages (from -r requirements.txt (line 7)) (2.6.9)\n",
      "Requirement already satisfied: matplotlib==2.0.2 in /usr/local/lib/python3.6/dist-packages (from -r requirements.txt (line 8)) (2.0.2)\n",
      "Requirement already satisfied: networkx==1.11 in /usr/local/lib/python3.6/dist-packages (from -r requirements.txt (line 9)) (1.11)\n",
      "Requirement already satisfied: numpy==1.13.3 in /usr/local/lib/python3.6/dist-packages (from -r requirements.txt (line 10)) (1.13.3)\n",
      "Requirement already satisfied: olefile==0.44 in /usr/local/lib/python3.6/dist-packages (from -r requirements.txt (line 11)) (0.44)\n",
      "Requirement already satisfied: pandas==0.20.3 in /usr/local/lib/python3.6/dist-packages (from -r requirements.txt (line 12)) (0.20.3)\n",
      "Requirement already satisfied: Pillow==4.3.0 in /usr/local/lib/python3.6/dist-packages (from -r requirements.txt (line 13)) (4.3.0)\n",
      "Requirement already satisfied: protobuf==3.6.1 in /usr/local/lib/python3.6/dist-packages (from -r requirements.txt (line 14)) (3.6.1)\n",
      "Requirement already satisfied: pyparsing==2.2.0 in /usr/local/lib/python3.6/dist-packages (from -r requirements.txt (line 15)) (2.2.0)\n",
      "Requirement already satisfied: python-dateutil==2.6.1 in /usr/local/lib/python3.6/dist-packages (from -r requirements.txt (line 16)) (2.6.1)\n",
      "Requirement already satisfied: pytz==2017.2 in /usr/local/lib/python3.6/dist-packages (from -r requirements.txt (line 17)) (2017.2)\n",
      "Requirement already satisfied: PyWavelets==0.5.2 in /usr/local/lib/python3.6/dist-packages (from -r requirements.txt (line 18)) (0.5.2)\n",
      "Requirement already satisfied: PyYAML==3.12 in /usr/local/lib/python3.6/dist-packages (from -r requirements.txt (line 19)) (3.12)\n",
      "Requirement already satisfied: scikit-image==0.14.2 in /usr/local/lib/python3.6/dist-packages (from -r requirements.txt (line 20)) (0.14.2)\n",
      "Requirement already satisfied: scikit-learn==0.19.0 in /usr/local/lib/python3.6/dist-packages (from -r requirements.txt (line 21)) (0.19.0)\n",
      "Requirement already satisfied: scipy==0.19.1 in /usr/local/lib/python3.6/dist-packages (from -r requirements.txt (line 22)) (0.19.1)\n",
      "Requirement already satisfied: six==1.11.0 in /usr/local/lib/python3.6/dist-packages (from -r requirements.txt (line 23)) (1.11.0)\n",
      "Requirement already satisfied: tensorflow==1.13.1 in /usr/local/lib/python3.6/dist-packages (from -r requirements.txt (line 24)) (1.13.1)\n",
      "Requirement already satisfied: tensorflow-tensorboard==0.1.6 in /usr/local/lib/python3.6/dist-packages (from -r requirements.txt (line 25)) (0.1.6)\n",
      "Requirement already satisfied: Werkzeug==0.12.2 in /usr/local/lib/python3.6/dist-packages (from -r requirements.txt (line 26)) (0.12.2)\n",
      "Requirement already satisfied: setuptools in /usr/local/lib/python3.6/dist-packages (from protobuf==3.6.1->-r requirements.txt (line 14)) (44.0.0)\n",
      "Requirement already satisfied: cloudpickle>=0.2.1 in /usr/local/lib/python3.6/dist-packages (from scikit-image==0.14.2->-r requirements.txt (line 20)) (1.4.1)\n",
      "Requirement already satisfied: dask[array]>=1.0.0 in /usr/local/lib/python3.6/dist-packages (from scikit-image==0.14.2->-r requirements.txt (line 20)) (2.16.0)\n",
      "Requirement already satisfied: gast>=0.2.0 in /usr/local/lib/python3.6/dist-packages (from tensorflow==1.13.1->-r requirements.txt (line 24)) (0.2.2)\n",
      "Requirement already satisfied: grpcio>=1.8.6 in /usr/local/lib/python3.6/dist-packages (from tensorflow==1.13.1->-r requirements.txt (line 24)) (1.26.0)\n",
      "Requirement already satisfied: tensorboard<1.14.0,>=1.13.0 in /usr/local/lib/python3.6/dist-packages (from tensorflow==1.13.1->-r requirements.txt (line 24)) (1.13.1)\n",
      "Requirement already satisfied: tensorflow-estimator<1.14.0rc0,>=1.13.0 in /usr/local/lib/python3.6/dist-packages (from tensorflow==1.13.1->-r requirements.txt (line 24)) (1.13.0)\n",
      "Requirement already satisfied: wheel>=0.26 in /usr/lib/python3/dist-packages (from tensorflow==1.13.1->-r requirements.txt (line 24)) (0.30.0)\n",
      "Requirement already satisfied: keras-preprocessing>=1.0.5 in /usr/local/lib/python3.6/dist-packages (from tensorflow==1.13.1->-r requirements.txt (line 24)) (1.1.0)\n",
      "Requirement already satisfied: keras-applications>=1.0.6 in /usr/local/lib/python3.6/dist-packages (from tensorflow==1.13.1->-r requirements.txt (line 24)) (1.0.8)\n",
      "Requirement already satisfied: absl-py>=0.1.6 in /usr/local/lib/python3.6/dist-packages (from tensorflow==1.13.1->-r requirements.txt (line 24)) (0.9.0)\n",
      "Requirement already satisfied: astor>=0.6.0 in /usr/local/lib/python3.6/dist-packages (from tensorflow==1.13.1->-r requirements.txt (line 24)) (0.8.1)\n",
      "Requirement already satisfied: termcolor>=1.1.0 in /usr/local/lib/python3.6/dist-packages (from tensorflow==1.13.1->-r requirements.txt (line 24)) (1.1.0)\n",
      "Requirement already satisfied: toolz>=0.8.2; extra == \"array\" in /usr/local/lib/python3.6/dist-packages (from dask[array]>=1.0.0->scikit-image==0.14.2->-r requirements.txt (line 20)) (0.10.0)\n",
      "Requirement already satisfied: mock>=2.0.0 in /usr/local/lib/python3.6/dist-packages (from tensorflow-estimator<1.14.0rc0,>=1.13.0->tensorflow==1.13.1->-r requirements.txt (line 24)) (4.0.2)\n"
     ]
    }
   ],
   "source": [
    "!pip install --upgrade pip\n",
    "!pip install -r requirements.txt"
   ]
  },
  {
   "cell_type": "code",
   "execution_count": 8,
   "metadata": {},
   "outputs": [],
   "source": [
    "from pathlib import Path\n",
    "work_dir = Path.cwd() / 'workdir'\n",
    "if not work_dir.exists():\n",
    "    work_dir.mkdir()\n",
    "\n",
    "# prepare args\n",
    "args_dir = work_dir / 'args'\n",
    "if not args_dir.exists():\n",
    "    args_dir.mkdir()\n",
    "\n",
    "# prepare inventory\n",
    "inventory_dir = work_dir / 'inventory'\n",
    "if not inventory_dir.exists():\n",
    "    inventory_dir.mkdir()\n",
    "\n",
    "# prepare result\n",
    "result_dir = work_dir / 'result'\n",
    "if not result_dir.exists():\n",
    "    result_dir.mkdir()"
   ]
  },
  {
   "cell_type": "code",
   "execution_count": 9,
   "metadata": {},
   "outputs": [],
   "source": [
    "import tensorflow as tf"
   ]
  },
  {
   "cell_type": "code",
   "execution_count": 10,
   "metadata": {},
   "outputs": [],
   "source": [
    "dummy_file_path = inventory_dir / 'dataset' / 'MNIST_data'\n",
    "if not dummy_file_path.parent.exists():\n",
    "    dummy_file_path.parent.mkdir()\n",
    "\n",
    "model_file_path = inventory_dir / 'model' / 'model_mnist.ckpt'\n",
    "\n",
    "# with open(str(dummy_file_path), mode='w') as f:\n",
    "#     f.write('dummy_inventory,hello_world')"
   ]
  },
  {
   "cell_type": "code",
   "execution_count": 11,
   "metadata": {},
   "outputs": [],
   "source": [
    "from pathlib import Path\n",
    "import json\n",
    "\n",
    "args_file = args_dir / 'args.json'\n",
    "args_file_str = str(args_file)\n",
    "\n",
    "args_json = {}\n",
    "\n",
    "mounts = []\n",
    "mounts.append({\"name\": \"args_dir\", \"dst_path\": str(args_dir)})\n",
    "mounts.append({\"name\": \"result_dir\", \"dst_path\": str(result_dir)})\n",
    "mounts.append({\"name\": \"inv_data_set\", \"dst_path\": str(dummy_file_path)})\n",
    "args_json['mounts'] = mounts\n",
    "\n",
    "method_params = []\n",
    "method_params.append({'name': 'aaa', 'value': 'bbb'})\n",
    "args_json['method_params'] = {\n",
    "  \"NameList\": \"/tf/repository/deep_saucer/metamorphic_testing/examples/mnist/model/model_mnist.ckpt_name.json\",\n",
    "  \"CompOp\": \"==\",\n",
    "  \"Lap\": 10,\n",
    "  \"NumTest\": 500\n",
    "}\n",
    "\n",
    "cond_params = []\n",
    "cond_params.append({'name': 'ccc', 'value': 'ddd'})\n",
    "args_json['condition_params'] = cond_params\n",
    "\n",
    "inventories=[{'name': 'data_set', 'value': str(dummy_file_path)},{'name': 'model', 'value': str(model_file_path)}]\n",
    "args_json['inventories'] = inventories\n",
    "\n",
    "with open(str(args_file), 'w') as f:\n",
    "    json.dump(args_json, f, indent=4)"
   ]
  },
  {
   "cell_type": "code",
   "execution_count": 12,
   "metadata": {},
   "outputs": [
    {
     "name": "stdout",
     "output_type": "stream",
     "text": [
      "Coverage test-runner\n",
      "args[0]:entrypoint.py\n",
      "args[1]:/tf/repository/workdir/args/args.json\n",
      "args_file:/tf/repository/workdir/args/args.json\n",
      "True - args_file:/tf/repository/workdir/args/args.json\n",
      "inventory_dir:/tf/repository/workdir/args\n",
      "result_dir:/tf/repository/workdir/result\n",
      "False - src_dir:/tf/repository/dummy_result_data\n",
      "True - result_dir:/tf/repository/workdir/result\n",
      "Extracting /tf/repository/workdir/inventory/dataset/MNIST_data/train-images-idx3-ubyte.gz\n",
      "Extracting /tf/repository/workdir/inventory/dataset/MNIST_data/train-labels-idx1-ubyte.gz\n",
      "Extracting /tf/repository/workdir/inventory/dataset/MNIST_data/t10k-images-idx3-ubyte.gz\n",
      "Extracting /tf/repository/workdir/inventory/dataset/MNIST_data/t10k-labels-idx1-ubyte.gz\n",
      "INFO:tensorflow:Restoring parameters from /tf/repository/workdir/inventory/model/model_mnist.ckpt\n",
      "---------------------\n",
      "Summary (NG Count)\n",
      "---------------------\n",
      "Lap #0: 5\n",
      "Lap #1: 14\n",
      "Lap #2: 24\n",
      "Lap #3: 29\n",
      "Lap #4: 40\n",
      "Lap #5: 59\n",
      "Lap #6: 82\n",
      "Lap #7: 101\n",
      "Lap #8: 120\n",
      "Lap #9: 136\n",
      "---------------------\n",
      "Log File: /tf/repository/logfile/log_2020-05-15_02-32-40.txt\n"
     ]
    }
   ],
   "source": [
    "run entrypoint $args_file_str"
   ]
  },
  {
   "cell_type": "code",
   "execution_count": null,
   "metadata": {},
   "outputs": [],
   "source": [
    "#model.save('path_to_my_model')\n",
    "#del model\n",
    "# Recreate the exact same model purely from the file:\n",
    "#model = keras.models.load_model('path_to_my_model')"
   ]
  }
 ],
 "metadata": {
  "kernelspec": {
   "display_name": "Python 3",
   "language": "python",
   "name": "python3"
  },
  "language_info": {
   "codemirror_mode": {
    "name": "ipython",
    "version": 3
   },
   "file_extension": ".py",
   "mimetype": "text/x-python",
   "name": "python",
   "nbconvert_exporter": "python",
   "pygments_lexer": "ipython3",
   "version": "3.6.9"
  }
 },
 "nbformat": 4,
 "nbformat_minor": 4
}
